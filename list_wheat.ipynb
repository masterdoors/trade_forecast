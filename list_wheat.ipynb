{
 "cells": [
  {
   "cell_type": "code",
   "execution_count": null,
   "id": "4415e35b-4b5a-4759-a9b1-c85453461778",
   "metadata": {},
   "outputs": [],
   "source": [
    "Bran of wheat\n",
    "Wheat\n",
    "Wheat and meslin flour\n",
    "Gluten feed and meal\n",
    "Glucose and dextrose"
   ]
  }
 ],
 "metadata": {
  "kernelspec": {
   "display_name": "Python 3 (ipykernel)",
   "language": "python",
   "name": "python3"
  },
  "language_info": {
   "codemirror_mode": {
    "name": "ipython",
    "version": 3
   },
   "file_extension": ".py",
   "mimetype": "text/x-python",
   "name": "python",
   "nbconvert_exporter": "python",
   "pygments_lexer": "ipython3",
   "version": "3.9.13"
  }
 },
 "nbformat": 4,
 "nbformat_minor": 5
}
