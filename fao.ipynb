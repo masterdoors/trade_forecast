{
 "cells": [
  {
   "cell_type": "code",
   "execution_count": null,
   "id": "b7266ea3-4988-40e4-b107-b3592c3abbfe",
   "metadata": {},
   "outputs": [],
   "source": [
    "#Wheat\n",
    "#Wheat and meslin flour\n",
    "#Gluten feed and meal\n",
    "#Glucose and dextrose\""
   ]
  },
  {
   "cell_type": "code",
   "execution_count": null,
   "id": "925cc462-46eb-4a53-90a4-1e520fb4851d",
   "metadata": {},
   "outputs": [],
   "source": [
    "!pip install statsmodels"
   ]
  },
  {
   "cell_type": "code",
   "execution_count": null,
   "id": "8716eecd-fdd9-4a3e-ac14-3b5566fce14d",
   "metadata": {},
   "outputs": [],
   "source": [
    "!pip install sktime"
   ]
  },
  {
   "cell_type": "code",
   "execution_count": null,
   "id": "1108933c-2735-4c14-aec2-1589ad524b49",
   "metadata": {},
   "outputs": [],
   "source": [
    "!pip install pmdarima"
   ]
  },
  {
   "cell_type": "markdown",
   "id": "4f5c1bbf-e7eb-42c8-b002-7f0c8c88e1e8",
   "metadata": {},
   "source": [
    "# Load trade and production data (1993-2023)"
   ]
  },
  {
   "cell_type": "code",
   "execution_count": 1,
   "id": "a4620309-6bdf-4975-9a35-175becd27faa",
   "metadata": {},
   "outputs": [],
   "source": [
    "import pandas as pd\n",
    "import os\n",
    "import numpy as np\n",
    "\n",
    "trade_directory = \"trade_data\"\n",
    "\n",
    "trades = []\n",
    "for file in os.listdir(trade_directory):\n",
    "    if file.endswith(\".csv\"): \n",
    "        trades.append(pd.read_csv(os.path.join(trade_directory, file),sep=\",\",index_col=False,encoding = 'ISO-8859-1'))\n",
    "\n",
    "\n",
    "trade = pd.concat(trades,ignore_index=True, axis=0)"
   ]
  },
  {
   "cell_type": "code",
   "execution_count": 2,
   "id": "376b5d29-c999-462a-bbd1-ab2c2c18fcd0",
   "metadata": {},
   "outputs": [],
   "source": [
    "trade = trade[[\"refYear\",\"reporterDesc\",\"partnerDesc\",\"flowDesc\",\"qty\",\"isAggregate\"]].fillna(0.)"
   ]
  },
  {
   "cell_type": "markdown",
   "id": "043ac98f-1bf1-4b40-bf29-970e008b15dc",
   "metadata": {},
   "source": [
    "# fill gaps with ARIMA"
   ]
  },
  {
   "cell_type": "code",
   "execution_count": null,
   "id": "f73966d9-20cd-43c8-bf05-9be53268c794",
   "metadata": {},
   "outputs": [],
   "source": [
    "def need2be_imputed(tmp,target=\"qty\"):\n",
    "    if len(tmp) > 0:\n",
    "        right_empty = 0\n",
    "        zeros = 0\n",
    "        flag = True\n",
    "        for i,row in tmp.reindex().sort_index(ascending=False).iterrows():\n",
    "            if  math.isnan(row[target]):\n",
    "                zeros += 1\n",
    "                if flag:\n",
    "                    right_empty += 1    \n",
    "            else:\n",
    "                flag = False\n",
    "        if right_empty < 3 and zeros > 0:\n",
    "            return True, 0\n",
    "        else:    \n",
    "            if zeros > 0 and right_empty == zeros:\n",
    "                return False, right_empty\n",
    "            else:\n",
    "                if zeros == 0:\n",
    "                    return False, 0\n",
    "                else:    \n",
    "                    return True, right_empty\n",
    "    else:    \n",
    "        return False, 0"
   ]
  },
  {
   "cell_type": "code",
   "execution_count": null,
   "id": "6134560b-ea84-4915-92ce-cd128720a25c",
   "metadata": {},
   "outputs": [],
   "source": [
    "from sktime.transformations.series.impute import Imputer\n",
    "from sktime.forecasting.arima import AutoARIMA\n",
    "from sklearn.metrics import mean_squared_error\n",
    "import warnings\n",
    "import math\n",
    "from tqdm import tqdm\n",
    "\n",
    "warnings.simplefilter(action='ignore', category=FutureWarning)\n",
    "warnings.simplefilter(action='ignore', category=UserWarning)\n",
    "np.seterr(divide = 'ignore') \n",
    "\n",
    "reporters = np.unique(trade['reporterDesc'])\n",
    "\n",
    "print(\"Original trade size:\", len(trade))\n",
    "\n",
    "# drop duplicate lines\n",
    "print(\"Drop duplicates\")\n",
    "for r in tqdm(reporters):\n",
    "    for partner in np.unique(trade[trade['reporterDesc'] == r][\"partnerDesc\"].to_numpy()):\n",
    "        for flow in [\"Import\",\"Export\"]:\n",
    "            years = np.unique(trade[\"refYear\"].to_numpy())\n",
    "            for year in years:\n",
    "                year_trade = trade[(trade['reporterDesc']==r)&(trade['flowDesc']==flow)&(trade['refYear']==year)&(trade['partnerDesc']==partner)]\n",
    "                if len(year_trade) > 1:\n",
    "                    remain = year_trade['qty'].idxmax()\n",
    "                    #print(r,partner,len(year_trade))\n",
    "                    for id_,_ in year_trade.iterrows():\n",
    "                        if id_ != remain:\n",
    "                            trade = trade.drop(id_)\n",
    "                   #print(\"Control:\",r,partner, len(trade[(trade['reporterDesc']==r)&(trade['flowDesc']==flow)&(trade['refYear']==year)&(trade['partnerDesc']==partner)]))        \n",
    "print(\"Trade size after de-duplication:\",len(trade))\n",
    "print(\"Impute nans\")\n",
    "for r in tqdm(reporters):\n",
    "    for partner in np.unique(trade[trade['reporterDesc'] == r][\"partnerDesc\"].to_numpy()):\n",
    "        for flow in [\"Import\",\"Export\"]:\n",
    "            years = np.unique(trade[\"refYear\"].to_numpy())\n",
    "            for year in years:\n",
    "                if len(trade[(trade['reporterDesc']==r)&(trade['flowDesc']==flow)&(trade['refYear']==year)&(trade['partnerDesc']==partner)]) == 0:\n",
    "                     row =  pd.DataFrame({\"refYear\":year,\t\"reporterDesc\":r,\t\"partnerDesc\":partner,\t\"flowDesc\":flow,\"qty\":math.nan,\t\"isAggregate\":False},index=[0])\n",
    "                     trade = pd.concat([trade.loc[:],row],axis=0).reset_index(drop=True)\n",
    "\n",
    "            tmp = trade[(trade['reporterDesc']==r)&(trade['flowDesc']==flow)&(trade['partnerDesc']==partner)]\n",
    "            flag,zero_len = need2be_imputed(tmp)\n",
    "            if flag:\n",
    "                X = tmp\n",
    "                #nulls = np.isnan(X['qty'].to_numpy())\n",
    "                transformer = Imputer(method=\"forecaster\", forecaster=AutoARIMA(d=0, suppress_warnings=True))\n",
    "                X_ = transformer.fit_transform(X['qty'].to_numpy().flatten()[:len(X) - zero_len])\n",
    "    \n",
    "                #print(X['qty'].to_numpy().flatten(), \"-->\", X_.flatten())\n",
    "                for i,v in enumerate(X.iterrows()):\n",
    "                    idx, row = v\n",
    "                    if i < len(X_):\n",
    "                        if X_[i] > 0.:\n",
    "                            trade.loc[idx,\"qty\"] = X_[i]\n",
    "                        \n",
    "\n",
    "trade = trade.fillna(0.)\n",
    "\n",
    "print(\"Final trade size:\",len(trade))"
   ]
  },
  {
   "cell_type": "code",
   "execution_count": null,
   "id": "a6788372-74d8-4a1d-a4c5-fa50618c7eeb",
   "metadata": {},
   "outputs": [],
   "source": [
    "trade.to_csv(\"trade.csv\",sep=\";\")"
   ]
  },
  {
   "cell_type": "code",
   "execution_count": 17,
   "id": "f108a2ed-ca3f-4f63-bae8-a805efe7b3f2",
   "metadata": {},
   "outputs": [],
   "source": [
    "reporters = np.unique(trade['reporterDesc'])"
   ]
  },
  {
   "cell_type": "code",
   "execution_count": 18,
   "id": "7097e31d-22f5-4571-aac8-53403a0ababc",
   "metadata": {},
   "outputs": [
    {
     "data": {
      "text/plain": [
       "211"
      ]
     },
     "execution_count": 18,
     "metadata": {},
     "output_type": "execute_result"
    }
   ],
   "source": [
    "len(reporters)"
   ]
  },
  {
   "cell_type": "code",
   "execution_count": null,
   "id": "478c7727-326e-4cd8-980e-ce4521c81c8d",
   "metadata": {},
   "outputs": [],
   "source": []
  },
  {
   "cell_type": "code",
   "execution_count": 3,
   "id": "779ac997-db6a-4a80-a506-55de231f7582",
   "metadata": {},
   "outputs": [],
   "source": [
    "import pandas as pd\n",
    "import numpy as np\n",
    "\n",
    "trade = pd.read_csv(\"trade.csv\",sep=\";\",index_col=0)"
   ]
  },
  {
   "cell_type": "code",
   "execution_count": 19,
   "id": "1e86b91a-d19f-4f15-8735-7ece06775a49",
   "metadata": {},
   "outputs": [
    {
     "data": {
      "text/html": [
       "<div>\n",
       "<style scoped>\n",
       "    .dataframe tbody tr th:only-of-type {\n",
       "        vertical-align: middle;\n",
       "    }\n",
       "\n",
       "    .dataframe tbody tr th {\n",
       "        vertical-align: top;\n",
       "    }\n",
       "\n",
       "    .dataframe thead th {\n",
       "        text-align: right;\n",
       "    }\n",
       "</style>\n",
       "<table border=\"1\" class=\"dataframe\">\n",
       "  <thead>\n",
       "    <tr style=\"text-align: right;\">\n",
       "      <th></th>\n",
       "      <th>Unnamed: 0</th>\n",
       "      <th>refYear</th>\n",
       "      <th>reporterDesc</th>\n",
       "      <th>partnerDesc</th>\n",
       "      <th>flowDesc</th>\n",
       "      <th>qty</th>\n",
       "      <th>isAggregate</th>\n",
       "    </tr>\n",
       "  </thead>\n",
       "  <tbody>\n",
       "    <tr>\n",
       "      <th>0</th>\n",
       "      <td>0</td>\n",
       "      <td>2015</td>\n",
       "      <td>Albania</td>\n",
       "      <td>World</td>\n",
       "      <td>Import</td>\n",
       "      <td>235833190.0</td>\n",
       "      <td>False</td>\n",
       "    </tr>\n",
       "    <tr>\n",
       "      <th>1</th>\n",
       "      <td>1</td>\n",
       "      <td>2015</td>\n",
       "      <td>Albania</td>\n",
       "      <td>Hungary</td>\n",
       "      <td>Import</td>\n",
       "      <td>6647930.0</td>\n",
       "      <td>False</td>\n",
       "    </tr>\n",
       "    <tr>\n",
       "      <th>2</th>\n",
       "      <td>2</td>\n",
       "      <td>2015</td>\n",
       "      <td>Albania</td>\n",
       "      <td>Italy</td>\n",
       "      <td>Import</td>\n",
       "      <td>1304800.0</td>\n",
       "      <td>False</td>\n",
       "    </tr>\n",
       "    <tr>\n",
       "      <th>3</th>\n",
       "      <td>3</td>\n",
       "      <td>2015</td>\n",
       "      <td>Albania</td>\n",
       "      <td>Russian Federation</td>\n",
       "      <td>Import</td>\n",
       "      <td>173209449.0</td>\n",
       "      <td>False</td>\n",
       "    </tr>\n",
       "    <tr>\n",
       "      <th>4</th>\n",
       "      <td>4</td>\n",
       "      <td>2015</td>\n",
       "      <td>Albania</td>\n",
       "      <td>Serbia</td>\n",
       "      <td>Import</td>\n",
       "      <td>48333715.0</td>\n",
       "      <td>False</td>\n",
       "    </tr>\n",
       "    <tr>\n",
       "      <th>...</th>\n",
       "      <td>...</td>\n",
       "      <td>...</td>\n",
       "      <td>...</td>\n",
       "      <td>...</td>\n",
       "      <td>...</td>\n",
       "      <td>...</td>\n",
       "      <td>...</td>\n",
       "    </tr>\n",
       "    <tr>\n",
       "      <th>581679</th>\n",
       "      <td>581679</td>\n",
       "      <td>2014</td>\n",
       "      <td>Zimbabwe</td>\n",
       "      <td>Zambia</td>\n",
       "      <td>Export</td>\n",
       "      <td>0.0</td>\n",
       "      <td>False</td>\n",
       "    </tr>\n",
       "    <tr>\n",
       "      <th>581680</th>\n",
       "      <td>581680</td>\n",
       "      <td>2016</td>\n",
       "      <td>Zimbabwe</td>\n",
       "      <td>Zambia</td>\n",
       "      <td>Export</td>\n",
       "      <td>0.0</td>\n",
       "      <td>False</td>\n",
       "    </tr>\n",
       "    <tr>\n",
       "      <th>581681</th>\n",
       "      <td>581681</td>\n",
       "      <td>2017</td>\n",
       "      <td>Zimbabwe</td>\n",
       "      <td>Zambia</td>\n",
       "      <td>Export</td>\n",
       "      <td>0.0</td>\n",
       "      <td>False</td>\n",
       "    </tr>\n",
       "    <tr>\n",
       "      <th>581682</th>\n",
       "      <td>581682</td>\n",
       "      <td>2018</td>\n",
       "      <td>Zimbabwe</td>\n",
       "      <td>Zambia</td>\n",
       "      <td>Export</td>\n",
       "      <td>0.0</td>\n",
       "      <td>False</td>\n",
       "    </tr>\n",
       "    <tr>\n",
       "      <th>581683</th>\n",
       "      <td>581683</td>\n",
       "      <td>2021</td>\n",
       "      <td>Zimbabwe</td>\n",
       "      <td>Zambia</td>\n",
       "      <td>Export</td>\n",
       "      <td>0.0</td>\n",
       "      <td>False</td>\n",
       "    </tr>\n",
       "  </tbody>\n",
       "</table>\n",
       "<p>581684 rows × 7 columns</p>\n",
       "</div>"
      ],
      "text/plain": [
       "        Unnamed: 0  refYear reporterDesc         partnerDesc flowDesc  \\\n",
       "0                0     2015      Albania               World   Import   \n",
       "1                1     2015      Albania             Hungary   Import   \n",
       "2                2     2015      Albania               Italy   Import   \n",
       "3                3     2015      Albania  Russian Federation   Import   \n",
       "4                4     2015      Albania              Serbia   Import   \n",
       "...            ...      ...          ...                 ...      ...   \n",
       "581679      581679     2014     Zimbabwe              Zambia   Export   \n",
       "581680      581680     2016     Zimbabwe              Zambia   Export   \n",
       "581681      581681     2017     Zimbabwe              Zambia   Export   \n",
       "581682      581682     2018     Zimbabwe              Zambia   Export   \n",
       "581683      581683     2021     Zimbabwe              Zambia   Export   \n",
       "\n",
       "                qty  isAggregate  \n",
       "0       235833190.0        False  \n",
       "1         6647930.0        False  \n",
       "2         1304800.0        False  \n",
       "3       173209449.0        False  \n",
       "4        48333715.0        False  \n",
       "...             ...          ...  \n",
       "581679          0.0        False  \n",
       "581680          0.0        False  \n",
       "581681          0.0        False  \n",
       "581682          0.0        False  \n",
       "581683          0.0        False  \n",
       "\n",
       "[581684 rows x 7 columns]"
      ]
     },
     "execution_count": 19,
     "metadata": {},
     "output_type": "execute_result"
    }
   ],
   "source": [
    "trade\n"
   ]
  },
  {
   "cell_type": "code",
   "execution_count": 25,
   "id": "a2c116b6-2e97-46cd-bac7-3da529b8eecf",
   "metadata": {},
   "outputs": [],
   "source": [
    "trade_aggregate = trade[trade[\"flowDesc\"] == \"Import\"][[\"refYear\",\"qty\"]].groupby([\"refYear\"])[\"qty\"].sum()"
   ]
  },
  {
   "cell_type": "code",
   "execution_count": 27,
   "id": "3517d981-3302-4a81-ac07-a5d820042bc9",
   "metadata": {},
   "outputs": [],
   "source": [
    "pd.DataFrame(trade_aggregate).to_csv(\"World_Import_by_year.csv\")"
   ]
  },
  {
   "cell_type": "code",
   "execution_count": 28,
   "id": "bc1a39c7-12ee-4933-bb41-72b2c5fe63e7",
   "metadata": {},
   "outputs": [],
   "source": [
    "trade_aggregate = trade[trade[\"flowDesc\"] == \"Export\"][[\"refYear\",\"qty\"]].groupby([\"refYear\"])[\"qty\"].sum()"
   ]
  },
  {
   "cell_type": "code",
   "execution_count": 29,
   "id": "9dff4e83-4491-4e3f-9e6b-7d8eb76cf318",
   "metadata": {},
   "outputs": [],
   "source": [
    "pd.DataFrame(trade_aggregate).to_csv(\"World_Export_by_year.csv\")"
   ]
  },
  {
   "cell_type": "code",
   "execution_count": null,
   "id": "01287456-4fbb-40e3-a359-8ce31c005c36",
   "metadata": {},
   "outputs": [],
   "source": [
    "area_map = {\"Belgium-Luxembourg\":\"Belgium-Luxembourg (...1998)\",\n",
    "\"Bosnia and Herzegovina\":\"Bosnia Herzegovina\",\n",
    "\"China, Taiwan Province of\":\"Taiwan\",\n",
    "\"China, mainland\":\"China\",\n",
    "\"Democratic People's Republic of Korea\":\"Democratic People's Republic of Korea\",\n",
    "\"Democratic Republic of the Congo\":\"Dem. Rep. of the Congo\",\n",
    "\"Iran (Islamic Republic of)\":\"Iran\",\n",
    "\"Netherlands (Kingdom of the)\":\"Netherlands\",\n",
    "\"Palestine\":\"State of Palestine\",\n",
    "\"Republic of Korea\":\"Rep. of Korea\",\n",
    "\"Republic of Moldova\":\"Rep. of Moldova\",\n",
    "\"Serbia and Montenegro\":\"Serbia and Montenegro (...2005)\",\n",
    "\"Somalia\":\"Somalia\",\n",
    "\"South Sudan\":\"Sudan\",\n",
    "\"Sudan (former)\":\"Sudan (...2011)\",\n",
    "\"Syrian Arab Republic\":\"Syria\",\n",
    "\"United Kingdom of Great Britain and Northern Ireland\":\"United Kingdom\",\n",
    "\"United Republic of Tanzania\":\"United Rep. of Tanzania\",\n",
    "\"United States of America\":\"USA\",\n",
    "\"Venezuela (Bolivarian Republic of)\":\"Venezuela\"}\n",
    "\n",
    "area_map_inv = {v:k for k,v in area_map.items()}"
   ]
  },
  {
   "cell_type": "code",
   "execution_count": null,
   "id": "49565e1a-a8e6-485f-95ab-a67c1e87bb58",
   "metadata": {},
   "outputs": [],
   "source": [
    "area_map_inv"
   ]
  },
  {
   "cell_type": "markdown",
   "id": "9ca64414-8f13-432c-90d9-064b49f3d0b4",
   "metadata": {},
   "source": [
    "# Prepare FAO"
   ]
  },
  {
   "cell_type": "code",
   "execution_count": null,
   "id": "0e5c3483-d4f2-4aca-ad87-aa5641e3e5cc",
   "metadata": {},
   "outputs": [],
   "source": [
    "from sktime.transformations.series.impute import Imputer\n",
    "from sktime.forecasting.arima import AutoARIMA\n",
    "from sklearn.metrics import mean_squared_error\n",
    "import warnings\n",
    "\n",
    "fao = pd.read_csv(\"prod_data/FAOSTAT_data_en_1-28-2025.csv\")[[\"Area\", \"Year\", \"Value\"]]\n",
    "\n",
    "years = np.unique(trade[\"refYear\"].to_numpy())\n",
    "areas = np.unique(trade['reporterDesc'].to_numpy())\n",
    "\n",
    "\n",
    "for r in areas:\n",
    "    if r in area_map_inv:\n",
    "        print(area_map_inv[r],\"-->\",r)\n",
    "        for idx,row in fao[fao[\"Area\"] == area_map_inv[r]].iterrows():\n",
    "            row[\"Area\"] = r\n",
    "            fao.loc[idx] = row\n",
    "    \n",
    "\n",
    "    for year in years:\n",
    "        if len(fao[(fao['Area']==r)&(fao['Year']==year)]) == 0:\n",
    "             row =  pd.DataFrame({\"Area\":r,\t\"Year\":year,\"Value\":math.nan},index=[0])\n",
    "             fao = pd.concat([fao.loc[:],row],axis=0).reset_index(drop=True)\n",
    "            \n",
    "\n",
    "    #if empty:        \n",
    "    #    print(\"Zeros: \", r)\n",
    "    tmp = fao[(fao['Area']==r)]\n",
    "    flag,zero_len = need2be_imputed(tmp,\"Value\")\n",
    "    if flag:\n",
    "        X = tmp\n",
    "        transformer = Imputer(method=\"forecaster\", forecaster=AutoARIMA(d=0, suppress_warnings=True))\n",
    "        X_ = transformer.fit_transform(X['Value'].to_numpy().flatten()[:len(X) - zero_len])\n",
    "\n",
    "        print(X['Value'].to_numpy().flatten(), \"-->\", X_.flatten())\n",
    "        for i,v in enumerate(X.iterrows()):\n",
    "            idx, row = v\n",
    "            if i < len(X_):\n",
    "                if X_[i] > 0.:\n",
    "                    fao.loc[idx,\"Value\"] = X_[i]  \n",
    "\n",
    "print(\"Drop duplicates\")\n",
    "for r in tqdm(areas):\n",
    "    for year in years:\n",
    "        year_trade = fao[(fao['Area']==r)&(fao['Year']==year)]\n",
    "        if len(year_trade) > 1:\n",
    "            remain = year_trade['Value'].idxmax()\n",
    "            print(r,len(year_trade))\n",
    "            for id_,_ in year_trade.iterrows():\n",
    "                if id_ != remain:\n",
    "                    fao = fao.drop(id_)\n",
    "                    \n",
    "fao.to_csv(\"fao.csv\",sep=\";\")"
   ]
  },
  {
   "cell_type": "code",
   "execution_count": null,
   "id": "c9ba2f05-031c-4f90-b177-a2ddb4623267",
   "metadata": {},
   "outputs": [],
   "source": [
    "pd.read_csv(\"prod_data/FAOSTAT_data_en_1-28-2025.csv\").columns"
   ]
  },
  {
   "cell_type": "code",
   "execution_count": null,
   "id": "a88d4828-0c6b-42af-8958-bef239158297",
   "metadata": {},
   "outputs": [],
   "source": [
    "fao = pd.read_csv(\"fao.csv\",sep=\";\",index_col=0)"
   ]
  },
  {
   "cell_type": "code",
   "execution_count": null,
   "id": "e2943fb8-4427-4561-88e8-ae539117ccbd",
   "metadata": {},
   "outputs": [],
   "source": [
    "fao = fao.fillna(0.)"
   ]
  },
  {
   "cell_type": "code",
   "execution_count": null,
   "id": "fd0d00bd-1d68-4a01-a9af-8620ee8ba1c0",
   "metadata": {},
   "outputs": [],
   "source": [
    "fao"
   ]
  },
  {
   "cell_type": "markdown",
   "id": "b6f1f2f6-7bd2-4931-a394-23ace66e4af5",
   "metadata": {},
   "source": [
    "# Build baseline dataset"
   ]
  },
  {
   "cell_type": "code",
   "execution_count": null,
   "id": "494bdd38-4ed0-4752-a4af-ec5ba30c75d3",
   "metadata": {},
   "outputs": [],
   "source": [
    "import pandas as pd\n",
    "import os\n",
    "import numpy as np\n",
    "from tqdm import tqdm\n",
    "\n",
    "trade = pd.read_csv(\"trade.csv\",sep=\";\")\n",
    "reporters = np.unique(trade['reporterDesc'])\n",
    "#export per country. 5 year window.\n",
    "\n",
    "datas = []\n",
    "for r in tqdm(reporters):\n",
    "    for partner in np.unique(trade[trade['reporterDesc'] == r][\"partnerDesc\"].to_numpy()):\n",
    "        if r.find(\", nes\")==-1 and r.find(\"North America\")==-1 and r.find(\"World\") == -1 and  r.find(\"Union\") == -1 and r.find(\"19\") == -1 and r.find(\"20\") == -1:\n",
    "            if partner.find(\", nes\")==-1 and partner.find(\"North America\")==-1 and partner.find(\"World\") == -1 and  partner.find(\"Union\") == -1 and partner.find(\"19\") == -1 and partner.find(\"20\") == -1:             \n",
    "                #print(r,partner)\n",
    "                data = np.nan_to_num(trade[(trade['reporterDesc'] == r)&(trade['partnerDesc'] == partner)&(trade['flowDesc'] == \"Export\")]['qty'].to_numpy().reshape(1,-1,1))\n",
    "                data2 = np.nan_to_num(trade[(trade['reporterDesc'] == r)&(trade['partnerDesc'] == partner)&(trade['flowDesc'] == \"Import\")]['qty'].to_numpy().reshape(1,-1,1))\n",
    "                data3 = np.nan_to_num(fao[fao[\"Area\"] == r][[\"Value\"]].to_numpy().reshape(1,-1,1))\n",
    "                data4 = np.nan_to_num(fao[fao[\"Area\"] == partner][[\"Value\"]].to_numpy().reshape(1,-1,1))\n",
    "                if data4.shape[1] > 0 and data3.shape[1] > 0:\n",
    "                    #print(data.shape,data2.shape,data3.shape,data4.shape)\n",
    "                    data = np.concatenate([data,data2,data3,data4],axis=2)\n",
    "                    datas.append(data)\n",
    "\n",
    "base_dataset = np.vstack(datas)"
   ]
  },
  {
   "cell_type": "code",
   "execution_count": null,
   "id": "bd6dea0a-a703-43cd-895e-0c43c3afb741",
   "metadata": {},
   "outputs": [],
   "source": [
    "base_dataset.shape"
   ]
  },
  {
   "cell_type": "code",
   "execution_count": null,
   "id": "72afc99c-bdff-422b-9328-865bc61e5e7e",
   "metadata": {},
   "outputs": [],
   "source": [
    "np.save(\"base_dataset.npy\",base_dataset)"
   ]
  },
  {
   "cell_type": "code",
   "execution_count": null,
   "id": "77660e64-dcde-4b78-84a5-35667ea1da99",
   "metadata": {},
   "outputs": [],
   "source": [
    "!pip install tkan"
   ]
  },
  {
   "cell_type": "markdown",
   "id": "f5a01b5f-8387-4c3d-b160-a0bcfe4e13ad",
   "metadata": {},
   "source": [
    "# Baselines"
   ]
  },
  {
   "cell_type": "code",
   "execution_count": 1,
   "id": "9f08bb0e-8e13-491c-b00a-8ce18b432e0d",
   "metadata": {},
   "outputs": [],
   "source": [
    "import numpy as np\n",
    "from sklearn.model_selection import train_test_split\n",
    "base_dataset = np.load(\"base_dataset.npy\")\n",
    "base_datasetX = base_dataset[:,:30,:]\n",
    "base_datasety = base_dataset[:,1:31,0]\n",
    "\n",
    "base_datasetX = base_datasetX.reshape(-1,5,4)\n",
    "base_datasety = base_datasety.reshape(-1,5,1)\n",
    "\n",
    "X_train, X_test, y_train, y_test = train_test_split(base_datasetX,base_datasety,test_size = 0.33)\n"
   ]
  },
  {
   "cell_type": "code",
   "execution_count": null,
   "id": "f8da1a08-6675-42c7-8b92-f50ed0103bd9",
   "metadata": {},
   "outputs": [
    {
     "name": "stderr",
     "output_type": "stream",
     "text": [
      "2025-02-21 16:08:40.642883: E external/local_xla/xla/stream_executor/cuda/cuda_fft.cc:477] Unable to register cuFFT factory: Attempting to register factory for plugin cuFFT when one has already been registered\n",
      "WARNING: All log messages before absl::InitializeLog() is called are written to STDERR\n",
      "E0000 00:00:1740143320.981908  244360 cuda_dnn.cc:8310] Unable to register cuDNN factory: Attempting to register factory for plugin cuDNN when one has already been registered\n",
      "E0000 00:00:1740143321.065789  244360 cuda_blas.cc:1418] Unable to register cuBLAS factory: Attempting to register factory for plugin cuBLAS when one has already been registered\n",
      "2025-02-21 16:08:41.976172: I tensorflow/core/platform/cpu_feature_guard.cc:210] This TensorFlow binary is optimized to use available CPU instructions in performance-critical operations.\n",
      "To enable the following instructions: AVX2 FMA, in other operations, rebuild TensorFlow with the appropriate compiler flags.\n",
      "[I 2025-02-21 16:08:56,559] A new study created in memory with name: no-name-82e5c05c-46cc-4435-a70c-75855e4f47b6\n",
      "2025-02-21 16:08:56.571385: E external/local_xla/xla/stream_executor/cuda/cuda_driver.cc:152] failed call to cuInit: INTERNAL: CUDA error: Failed call to cuInit: UNKNOWN ERROR (303)\n"
     ]
    },
    {
     "name": "stdout",
     "output_type": "stream",
     "text": [
      "\u001b[1m351/351\u001b[0m \u001b[32m━━━━━━━━━━━━━━━━━━━━\u001b[0m\u001b[37m\u001b[0m \u001b[1m0s\u001b[0m 1ms/step  \n",
      "\u001b[1m351/351\u001b[0m \u001b[32m━━━━━━━━━━━━━━━━━━━━\u001b[0m\u001b[37m\u001b[0m \u001b[1m0s\u001b[0m 1ms/step\n",
      "\u001b[1m351/351\u001b[0m \u001b[32m━━━━━━━━━━━━━━━━━━━━\u001b[0m\u001b[37m\u001b[0m \u001b[1m1s\u001b[0m 1ms/step\n"
     ]
    },
    {
     "name": "stderr",
     "output_type": "stream",
     "text": [
      "[I 2025-02-21 16:09:30,290] Trial 0 finished with value: 2.424692864122842e+16 and parameters: {'lr': 0.009824452680617284, 'hs': 3, 'dropout': 0.057498691932952734}. Best is trial 0 with value: 2.424692864122842e+16.\n"
     ]
    },
    {
     "name": "stdout",
     "output_type": "stream",
     "text": [
      "\u001b[1m351/351\u001b[0m \u001b[32m━━━━━━━━━━━━━━━━━━━━\u001b[0m\u001b[37m\u001b[0m \u001b[1m0s\u001b[0m 1ms/step  \n",
      "\u001b[1m351/351\u001b[0m \u001b[32m━━━━━━━━━━━━━━━━━━━━\u001b[0m\u001b[37m\u001b[0m \u001b[1m0s\u001b[0m 1ms/step  \n",
      "\u001b[1m351/351\u001b[0m \u001b[32m━━━━━━━━━━━━━━━━━━━━\u001b[0m\u001b[37m\u001b[0m \u001b[1m0s\u001b[0m 1ms/step\n"
     ]
    },
    {
     "name": "stderr",
     "output_type": "stream",
     "text": [
      "[I 2025-02-21 16:10:10,551] Trial 1 finished with value: 2.4246930979221856e+16 and parameters: {'lr': 0.0015253229847653359, 'hs': 7, 'dropout': 0.09946132386333571}. Best is trial 0 with value: 2.424692864122842e+16.\n"
     ]
    },
    {
     "name": "stdout",
     "output_type": "stream",
     "text": [
      "\u001b[1m351/351\u001b[0m \u001b[32m━━━━━━━━━━━━━━━━━━━━\u001b[0m\u001b[37m\u001b[0m \u001b[1m0s\u001b[0m 1ms/step\n",
      "\u001b[1m351/351\u001b[0m \u001b[32m━━━━━━━━━━━━━━━━━━━━\u001b[0m\u001b[37m\u001b[0m \u001b[1m0s\u001b[0m 1ms/step\n",
      "\u001b[1m351/351\u001b[0m \u001b[32m━━━━━━━━━━━━━━━━━━━━\u001b[0m\u001b[37m\u001b[0m \u001b[1m0s\u001b[0m 1ms/step\n"
     ]
    },
    {
     "name": "stderr",
     "output_type": "stream",
     "text": [
      "[I 2025-02-21 16:10:40,716] Trial 2 finished with value: 2.4246931754099252e+16 and parameters: {'lr': 0.0006406518943219147, 'hs': 12, 'dropout': 0.11251212739081766}. Best is trial 0 with value: 2.424692864122842e+16.\n"
     ]
    },
    {
     "name": "stdout",
     "output_type": "stream",
     "text": [
      "\u001b[1m351/351\u001b[0m \u001b[32m━━━━━━━━━━━━━━━━━━━━\u001b[0m\u001b[37m\u001b[0m \u001b[1m0s\u001b[0m 1ms/step\n",
      "\u001b[1m351/351\u001b[0m \u001b[32m━━━━━━━━━━━━━━━━━━━━\u001b[0m\u001b[37m\u001b[0m \u001b[1m0s\u001b[0m 1ms/step  \n",
      "\u001b[1m351/351\u001b[0m \u001b[32m━━━━━━━━━━━━━━━━━━━━\u001b[0m\u001b[37m\u001b[0m \u001b[1m0s\u001b[0m 1ms/step  \n"
     ]
    },
    {
     "name": "stderr",
     "output_type": "stream",
     "text": [
      "[I 2025-02-21 16:11:09,217] Trial 3 finished with value: 2.4246925802953244e+16 and parameters: {'lr': 0.005527433087639359, 'hs': 15, 'dropout': 0.11895008173046083}. Best is trial 3 with value: 2.4246925802953244e+16.\n"
     ]
    },
    {
     "name": "stdout",
     "output_type": "stream",
     "text": [
      "\u001b[1m351/351\u001b[0m \u001b[32m━━━━━━━━━━━━━━━━━━━━\u001b[0m\u001b[37m\u001b[0m \u001b[1m0s\u001b[0m 1ms/step\n",
      "\u001b[1m351/351\u001b[0m \u001b[32m━━━━━━━━━━━━━━━━━━━━\u001b[0m\u001b[37m\u001b[0m \u001b[1m0s\u001b[0m 1ms/step\n",
      "\u001b[1m351/351\u001b[0m \u001b[32m━━━━━━━━━━━━━━━━━━━━\u001b[0m\u001b[37m\u001b[0m \u001b[1m0s\u001b[0m 1ms/step\n"
     ]
    },
    {
     "name": "stderr",
     "output_type": "stream",
     "text": [
      "[I 2025-02-21 16:12:00,897] Trial 4 finished with value: 2.4246931171399476e+16 and parameters: {'lr': 0.001069649617395798, 'hs': 7, 'dropout': 0.1022770628436129}. Best is trial 3 with value: 2.4246925802953244e+16.\n"
     ]
    },
    {
     "name": "stdout",
     "output_type": "stream",
     "text": [
      "\u001b[1m351/351\u001b[0m \u001b[32m━━━━━━━━━━━━━━━━━━━━\u001b[0m\u001b[37m\u001b[0m \u001b[1m0s\u001b[0m 1ms/step\n",
      "\u001b[1m351/351\u001b[0m \u001b[32m━━━━━━━━━━━━━━━━━━━━\u001b[0m\u001b[37m\u001b[0m \u001b[1m0s\u001b[0m 1ms/step\n",
      "\u001b[1m351/351\u001b[0m \u001b[32m━━━━━━━━━━━━━━━━━━━━\u001b[0m\u001b[37m\u001b[0m \u001b[1m0s\u001b[0m 1ms/step  \n"
     ]
    },
    {
     "name": "stderr",
     "output_type": "stream",
     "text": [
      "[I 2025-02-21 16:12:31,091] Trial 5 finished with value: 2.4246928220180532e+16 and parameters: {'lr': 0.009493085739837075, 'hs': 4, 'dropout': 0.1334545360640746}. Best is trial 3 with value: 2.4246925802953244e+16.\n"
     ]
    },
    {
     "name": "stdout",
     "output_type": "stream",
     "text": [
      "\u001b[1m351/351\u001b[0m \u001b[32m━━━━━━━━━━━━━━━━━━━━\u001b[0m\u001b[37m\u001b[0m \u001b[1m0s\u001b[0m 1ms/step  \n",
      "\u001b[1m351/351\u001b[0m \u001b[32m━━━━━━━━━━━━━━━━━━━━\u001b[0m\u001b[37m\u001b[0m \u001b[1m0s\u001b[0m 1ms/step  \n",
      "\u001b[1m351/351\u001b[0m \u001b[32m━━━━━━━━━━━━━━━━━━━━\u001b[0m\u001b[37m\u001b[0m \u001b[1m0s\u001b[0m 1ms/step\n"
     ]
    },
    {
     "name": "stderr",
     "output_type": "stream",
     "text": [
      "[I 2025-02-21 16:13:02,587] Trial 6 finished with value: 2.4246925104546436e+16 and parameters: {'lr': 0.005644026112020815, 'hs': 14, 'dropout': 0.05360186270001509}. Best is trial 6 with value: 2.4246925104546436e+16.\n"
     ]
    },
    {
     "name": "stdout",
     "output_type": "stream",
     "text": [
      "\u001b[1m351/351\u001b[0m \u001b[32m━━━━━━━━━━━━━━━━━━━━\u001b[0m\u001b[37m\u001b[0m \u001b[1m0s\u001b[0m 1ms/step   \n",
      "\u001b[1m351/351\u001b[0m \u001b[32m━━━━━━━━━━━━━━━━━━━━\u001b[0m\u001b[37m\u001b[0m \u001b[1m0s\u001b[0m 1ms/step  \n",
      "\u001b[1m351/351\u001b[0m \u001b[32m━━━━━━━━━━━━━━━━━━━━\u001b[0m\u001b[37m\u001b[0m \u001b[1m0s\u001b[0m 1ms/step  \n"
     ]
    },
    {
     "name": "stderr",
     "output_type": "stream",
     "text": [
      "[I 2025-02-21 16:13:34,210] Trial 7 finished with value: 2.424692598587683e+16 and parameters: {'lr': 0.004531230352373386, 'hs': 16, 'dropout': 0.16795452741050043}. Best is trial 6 with value: 2.4246925104546436e+16.\n"
     ]
    },
    {
     "name": "stdout",
     "output_type": "stream",
     "text": [
      "\u001b[1m351/351\u001b[0m \u001b[32m━━━━━━━━━━━━━━━━━━━━\u001b[0m\u001b[37m\u001b[0m \u001b[1m0s\u001b[0m 989us/step\n",
      "\u001b[1m351/351\u001b[0m \u001b[32m━━━━━━━━━━━━━━━━━━━━\u001b[0m\u001b[37m\u001b[0m \u001b[1m0s\u001b[0m 1ms/step\n",
      "\u001b[1m351/351\u001b[0m \u001b[32m━━━━━━━━━━━━━━━━━━━━\u001b[0m\u001b[37m\u001b[0m \u001b[1m1s\u001b[0m 1ms/step\n"
     ]
    },
    {
     "name": "stderr",
     "output_type": "stream",
     "text": [
      "[I 2025-02-21 16:14:06,024] Trial 8 finished with value: 2.4246925530251744e+16 and parameters: {'lr': 0.006092727444813439, 'hs': 11, 'dropout': 0.19682443862087973}. Best is trial 6 with value: 2.4246925104546436e+16.\n"
     ]
    },
    {
     "name": "stdout",
     "output_type": "stream",
     "text": [
      "\u001b[1m351/351\u001b[0m \u001b[32m━━━━━━━━━━━━━━━━━━━━\u001b[0m\u001b[37m\u001b[0m \u001b[1m0s\u001b[0m 1ms/step\n",
      "\u001b[1m351/351\u001b[0m \u001b[32m━━━━━━━━━━━━━━━━━━━━\u001b[0m\u001b[37m\u001b[0m \u001b[1m0s\u001b[0m 1ms/step\n",
      "\u001b[1m351/351\u001b[0m \u001b[32m━━━━━━━━━━━━━━━━━━━━\u001b[0m\u001b[37m\u001b[0m \u001b[1m0s\u001b[0m 1ms/step\n"
     ]
    },
    {
     "name": "stderr",
     "output_type": "stream",
     "text": [
      "[I 2025-02-21 16:14:32,129] Trial 9 finished with value: 2.424693171766528e+16 and parameters: {'lr': 0.0006995033568211244, 'hs': 13, 'dropout': 0.15159618330785757}. Best is trial 6 with value: 2.4246925104546436e+16.\n"
     ]
    },
    {
     "name": "stdout",
     "output_type": "stream",
     "text": [
      "\u001b[1m351/351\u001b[0m \u001b[32m━━━━━━━━━━━━━━━━━━━━\u001b[0m\u001b[37m\u001b[0m \u001b[1m0s\u001b[0m 1ms/step  \n",
      "\u001b[1m351/351\u001b[0m \u001b[32m━━━━━━━━━━━━━━━━━━━━\u001b[0m\u001b[37m\u001b[0m \u001b[1m0s\u001b[0m 1ms/step\n",
      "\u001b[1m351/351\u001b[0m \u001b[32m━━━━━━━━━━━━━━━━━━━━\u001b[0m\u001b[37m\u001b[0m \u001b[1m0s\u001b[0m 1ms/step\n"
     ]
    },
    {
     "name": "stderr",
     "output_type": "stream",
     "text": [
      "[I 2025-02-21 16:15:01,428] Trial 10 finished with value: 2.424692745483382e+16 and parameters: {'lr': 0.007569791912830817, 'hs': 9, 'dropout': 0.06302649128070784}. Best is trial 6 with value: 2.4246925104546436e+16.\n"
     ]
    },
    {
     "name": "stdout",
     "output_type": "stream",
     "text": [
      "\u001b[1m351/351\u001b[0m \u001b[32m━━━━━━━━━━━━━━━━━━━━\u001b[0m\u001b[37m\u001b[0m \u001b[1m0s\u001b[0m 1ms/step  \n",
      "\u001b[1m351/351\u001b[0m \u001b[32m━━━━━━━━━━━━━━━━━━━━\u001b[0m\u001b[37m\u001b[0m \u001b[1m1s\u001b[0m 1ms/step\n",
      "\u001b[1m351/351\u001b[0m \u001b[32m━━━━━━━━━━━━━━━━━━━━\u001b[0m\u001b[37m\u001b[0m \u001b[1m0s\u001b[0m 1ms/step\n"
     ]
    },
    {
     "name": "stderr",
     "output_type": "stream",
     "text": [
      "[I 2025-02-21 16:15:53,048] Trial 11 finished with value: 2.4246925078108416e+16 and parameters: {'lr': 0.004747948476019606, 'hs': 11, 'dropout': 0.19974581762545182}. Best is trial 11 with value: 2.4246925078108416e+16.\n"
     ]
    },
    {
     "name": "stdout",
     "output_type": "stream",
     "text": [
      "\u001b[1m351/351\u001b[0m \u001b[32m━━━━━━━━━━━━━━━━━━━━\u001b[0m\u001b[37m\u001b[0m \u001b[1m0s\u001b[0m 1ms/step  \n",
      "\u001b[1m351/351\u001b[0m \u001b[32m━━━━━━━━━━━━━━━━━━━━\u001b[0m\u001b[37m\u001b[0m \u001b[1m0s\u001b[0m 1ms/step\n",
      "\u001b[1m351/351\u001b[0m \u001b[32m━━━━━━━━━━━━━━━━━━━━\u001b[0m\u001b[37m\u001b[0m \u001b[1m1s\u001b[0m 1ms/step\n"
     ]
    },
    {
     "name": "stderr",
     "output_type": "stream",
     "text": [
      "[I 2025-02-21 16:16:32,667] Trial 12 finished with value: 2.424692542130157e+16 and parameters: {'lr': 0.004021863549390055, 'hs': 14, 'dropout': 0.1892408557402423}. Best is trial 11 with value: 2.4246925078108416e+16.\n"
     ]
    },
    {
     "name": "stdout",
     "output_type": "stream",
     "text": [
      "\u001b[1m351/351\u001b[0m \u001b[32m━━━━━━━━━━━━━━━━━━━━\u001b[0m\u001b[37m\u001b[0m \u001b[1m0s\u001b[0m 1ms/step  \n",
      "\u001b[1m351/351\u001b[0m \u001b[32m━━━━━━━━━━━━━━━━━━━━\u001b[0m\u001b[37m\u001b[0m \u001b[1m0s\u001b[0m 997us/step\n",
      "\u001b[1m351/351\u001b[0m \u001b[32m━━━━━━━━━━━━━━━━━━━━\u001b[0m\u001b[37m\u001b[0m \u001b[1m0s\u001b[0m 1ms/step\n"
     ]
    },
    {
     "name": "stderr",
     "output_type": "stream",
     "text": [
      "[I 2025-02-21 16:17:05,513] Trial 13 finished with value: 2.4246929269073476e+16 and parameters: {'lr': 0.003007517685861791, 'hs': 10, 'dropout': 0.08642520126931741}. Best is trial 11 with value: 2.4246925078108416e+16.\n"
     ]
    },
    {
     "name": "stdout",
     "output_type": "stream",
     "text": [
      "\u001b[1m351/351\u001b[0m \u001b[32m━━━━━━━━━━━━━━━━━━━━\u001b[0m\u001b[37m\u001b[0m \u001b[1m0s\u001b[0m 1ms/step\n",
      "\u001b[1m351/351\u001b[0m \u001b[32m━━━━━━━━━━━━━━━━━━━━\u001b[0m\u001b[37m\u001b[0m \u001b[1m1s\u001b[0m 1ms/step\n",
      "\u001b[1m351/351\u001b[0m \u001b[32m━━━━━━━━━━━━━━━━━━━━\u001b[0m\u001b[37m\u001b[0m \u001b[1m1s\u001b[0m 1ms/step\n"
     ]
    },
    {
     "name": "stderr",
     "output_type": "stream",
     "text": [
      "[I 2025-02-21 16:17:36,639] Trial 14 finished with value: 2.4246925614501468e+16 and parameters: {'lr': 0.006805403414840594, 'hs': 13, 'dropout': 0.14600218934533962}. Best is trial 11 with value: 2.4246925078108416e+16.\n"
     ]
    },
    {
     "name": "stdout",
     "output_type": "stream",
     "text": [
      "\u001b[1m351/351\u001b[0m \u001b[32m━━━━━━━━━━━━━━━━━━━━\u001b[0m\u001b[37m\u001b[0m \u001b[1m0s\u001b[0m 1ms/step\n",
      "\u001b[1m351/351\u001b[0m \u001b[32m━━━━━━━━━━━━━━━━━━━━\u001b[0m\u001b[37m\u001b[0m \u001b[1m0s\u001b[0m 1ms/step\n",
      "\u001b[1m351/351\u001b[0m \u001b[32m━━━━━━━━━━━━━━━━━━━━\u001b[0m\u001b[37m\u001b[0m \u001b[1m0s\u001b[0m 1ms/step\n"
     ]
    },
    {
     "name": "stderr",
     "output_type": "stream",
     "text": [
      "[I 2025-02-21 16:18:15,315] Trial 15 finished with value: 2.424692936639349e+16 and parameters: {'lr': 0.0031762692027938137, 'hs': 7, 'dropout': 0.07843439423734108}. Best is trial 11 with value: 2.4246925078108416e+16.\n"
     ]
    },
    {
     "name": "stdout",
     "output_type": "stream",
     "text": [
      "\u001b[1m351/351\u001b[0m \u001b[32m━━━━━━━━━━━━━━━━━━━━\u001b[0m\u001b[37m\u001b[0m \u001b[1m1s\u001b[0m 1ms/step\n",
      "\u001b[1m351/351\u001b[0m \u001b[32m━━━━━━━━━━━━━━━━━━━━\u001b[0m\u001b[37m\u001b[0m \u001b[1m0s\u001b[0m 1ms/step\n",
      "\u001b[1m351/351\u001b[0m \u001b[32m━━━━━━━━━━━━━━━━━━━━\u001b[0m\u001b[37m\u001b[0m \u001b[1m0s\u001b[0m 1ms/step\n"
     ]
    },
    {
     "name": "stderr",
     "output_type": "stream",
     "text": [
      "[I 2025-02-21 16:18:52,425] Trial 16 finished with value: 2.4246924786381452e+16 and parameters: {'lr': 0.008019696806731175, 'hs': 9, 'dropout': 0.18288126950323316}. Best is trial 16 with value: 2.4246924786381452e+16.\n"
     ]
    },
    {
     "name": "stdout",
     "output_type": "stream",
     "text": [
      "\u001b[1m351/351\u001b[0m \u001b[32m━━━━━━━━━━━━━━━━━━━━\u001b[0m\u001b[37m\u001b[0m \u001b[1m1s\u001b[0m 1ms/step\n",
      "\u001b[1m351/351\u001b[0m \u001b[32m━━━━━━━━━━━━━━━━━━━━\u001b[0m\u001b[37m\u001b[0m \u001b[1m0s\u001b[0m 1ms/step\n",
      "\u001b[1m351/351\u001b[0m \u001b[32m━━━━━━━━━━━━━━━━━━━━\u001b[0m\u001b[37m\u001b[0m \u001b[1m0s\u001b[0m 1ms/step  \n"
     ]
    },
    {
     "name": "stderr",
     "output_type": "stream",
     "text": [
      "[I 2025-02-21 16:19:50,974] Trial 17 finished with value: 2.4246920665522164e+16 and parameters: {'lr': 0.008430521296530272, 'hs': 9, 'dropout': 0.17611431218107199}. Best is trial 17 with value: 2.4246920665522164e+16.\n"
     ]
    },
    {
     "name": "stdout",
     "output_type": "stream",
     "text": [
      "\u001b[1m351/351\u001b[0m \u001b[32m━━━━━━━━━━━━━━━━━━━━\u001b[0m\u001b[37m\u001b[0m \u001b[1m1s\u001b[0m 1ms/step\n",
      "\u001b[1m351/351\u001b[0m \u001b[32m━━━━━━━━━━━━━━━━━━━━\u001b[0m\u001b[37m\u001b[0m \u001b[1m0s\u001b[0m 995us/step\n",
      "\u001b[1m351/351\u001b[0m \u001b[32m━━━━━━━━━━━━━━━━━━━━\u001b[0m\u001b[37m\u001b[0m \u001b[1m0s\u001b[0m 1ms/step\n"
     ]
    },
    {
     "name": "stderr",
     "output_type": "stream",
     "text": [
      "[I 2025-02-21 16:20:15,152] Trial 18 finished with value: 2.4246929405906948e+16 and parameters: {'lr': 0.008383797855437771, 'hs': 5, 'dropout': 0.1713365254641212}. Best is trial 17 with value: 2.4246920665522164e+16.\n"
     ]
    },
    {
     "name": "stdout",
     "output_type": "stream",
     "text": [
      "\u001b[1m351/351\u001b[0m \u001b[32m━━━━━━━━━━━━━━━━━━━━\u001b[0m\u001b[37m\u001b[0m \u001b[1m0s\u001b[0m 1ms/step  \n",
      "\u001b[1m351/351\u001b[0m \u001b[32m━━━━━━━━━━━━━━━━━━━━\u001b[0m\u001b[37m\u001b[0m \u001b[1m0s\u001b[0m 1ms/step  \n",
      "\u001b[1m351/351\u001b[0m \u001b[32m━━━━━━━━━━━━━━━━━━━━\u001b[0m\u001b[37m\u001b[0m \u001b[1m0s\u001b[0m 1ms/step  \n"
     ]
    },
    {
     "name": "stderr",
     "output_type": "stream",
     "text": [
      "[I 2025-02-21 16:21:04,097] Trial 19 finished with value: 2.424692221787395e+16 and parameters: {'lr': 0.008501994658668431, 'hs': 8, 'dropout': 0.17743925825792115}. Best is trial 17 with value: 2.4246920665522164e+16.\n"
     ]
    },
    {
     "name": "stdout",
     "output_type": "stream",
     "text": [
      "\u001b[1m351/351\u001b[0m \u001b[32m━━━━━━━━━━━━━━━━━━━━\u001b[0m\u001b[37m\u001b[0m \u001b[1m0s\u001b[0m 1ms/step\n",
      "\u001b[1m351/351\u001b[0m \u001b[32m━━━━━━━━━━━━━━━━━━━━\u001b[0m\u001b[37m\u001b[0m \u001b[1m0s\u001b[0m 1ms/step  \n",
      "\u001b[1m351/351\u001b[0m \u001b[32m━━━━━━━━━━━━━━━━━━━━\u001b[0m\u001b[37m\u001b[0m \u001b[1m0s\u001b[0m 1ms/step  \n"
     ]
    },
    {
     "name": "stderr",
     "output_type": "stream",
     "text": [
      "[I 2025-02-21 16:21:43,301] Trial 20 finished with value: 2.4246925525422496e+16 and parameters: {'lr': 0.008928901626781931, 'hs': 6, 'dropout': 0.15833899869562998}. Best is trial 17 with value: 2.4246920665522164e+16.\n"
     ]
    },
    {
     "name": "stdout",
     "output_type": "stream",
     "text": [
      "\u001b[1m351/351\u001b[0m \u001b[32m━━━━━━━━━━━━━━━━━━━━\u001b[0m\u001b[37m\u001b[0m \u001b[1m0s\u001b[0m 1ms/step  \n",
      "\u001b[1m351/351\u001b[0m \u001b[32m━━━━━━━━━━━━━━━━━━━━\u001b[0m\u001b[37m\u001b[0m \u001b[1m0s\u001b[0m 1ms/step\n",
      "\u001b[1m351/351\u001b[0m \u001b[32m━━━━━━━━━━━━━━━━━━━━\u001b[0m\u001b[37m\u001b[0m \u001b[1m0s\u001b[0m 1ms/step  \n"
     ]
    },
    {
     "name": "stderr",
     "output_type": "stream",
     "text": [
      "[I 2025-02-21 16:22:13,992] Trial 21 finished with value: 2.424692627808534e+16 and parameters: {'lr': 0.007857915789059318, 'hs': 9, 'dropout': 0.18062659284871818}. Best is trial 17 with value: 2.4246920665522164e+16.\n"
     ]
    },
    {
     "name": "stdout",
     "output_type": "stream",
     "text": [
      "\u001b[1m351/351\u001b[0m \u001b[32m━━━━━━━━━━━━━━━━━━━━\u001b[0m\u001b[37m\u001b[0m \u001b[1m0s\u001b[0m 1ms/step\n",
      "\u001b[1m351/351\u001b[0m \u001b[32m━━━━━━━━━━━━━━━━━━━━\u001b[0m\u001b[37m\u001b[0m \u001b[1m0s\u001b[0m 1ms/step\n",
      "\u001b[1m351/351\u001b[0m \u001b[32m━━━━━━━━━━━━━━━━━━━━\u001b[0m\u001b[37m\u001b[0m \u001b[1m0s\u001b[0m 1ms/step\n"
     ]
    },
    {
     "name": "stderr",
     "output_type": "stream",
     "text": [
      "[I 2025-02-21 16:22:48,651] Trial 22 finished with value: 2.4246925609978612e+16 and parameters: {'lr': 0.006952216527135326, 'hs': 9, 'dropout': 0.17687620967091686}. Best is trial 17 with value: 2.4246920665522164e+16.\n"
     ]
    },
    {
     "name": "stdout",
     "output_type": "stream",
     "text": [
      "\u001b[1m351/351\u001b[0m \u001b[32m━━━━━━━━━━━━━━━━━━━━\u001b[0m\u001b[37m\u001b[0m \u001b[1m0s\u001b[0m 1ms/step  \n",
      "\u001b[1m351/351\u001b[0m \u001b[32m━━━━━━━━━━━━━━━━━━━━\u001b[0m\u001b[37m\u001b[0m \u001b[1m1s\u001b[0m 1ms/step\n",
      "\u001b[1m351/351\u001b[0m \u001b[32m━━━━━━━━━━━━━━━━━━━━\u001b[0m\u001b[37m\u001b[0m \u001b[1m1s\u001b[0m 1ms/step\n"
     ]
    },
    {
     "name": "stderr",
     "output_type": "stream",
     "text": [
      "[I 2025-02-21 16:23:32,953] Trial 23 finished with value: 2.4246925137252372e+16 and parameters: {'lr': 0.008647667426671725, 'hs': 8, 'dropout': 0.13738885177573967}. Best is trial 17 with value: 2.4246920665522164e+16.\n"
     ]
    },
    {
     "name": "stdout",
     "output_type": "stream",
     "text": [
      "\u001b[1m351/351\u001b[0m \u001b[32m━━━━━━━━━━━━━━━━━━━━\u001b[0m\u001b[37m\u001b[0m \u001b[1m1s\u001b[0m 1ms/step\n",
      "\u001b[1m351/351\u001b[0m \u001b[32m━━━━━━━━━━━━━━━━━━━━\u001b[0m\u001b[37m\u001b[0m \u001b[1m0s\u001b[0m 1ms/step\n",
      "\u001b[1m351/351\u001b[0m \u001b[32m━━━━━━━━━━━━━━━━━━━━\u001b[0m\u001b[37m\u001b[0m \u001b[1m0s\u001b[0m 1ms/step\n"
     ]
    },
    {
     "name": "stderr",
     "output_type": "stream",
     "text": [
      "[I 2025-02-21 16:24:13,307] Trial 24 finished with value: 2.4246930328919028e+16 and parameters: {'lr': 0.006989852556431018, 'hs': 2, 'dropout': 0.15951477254033342}. Best is trial 17 with value: 2.4246920665522164e+16.\n"
     ]
    },
    {
     "name": "stdout",
     "output_type": "stream",
     "text": [
      "\u001b[1m351/351\u001b[0m \u001b[32m━━━━━━━━━━━━━━━━━━━━\u001b[0m\u001b[37m\u001b[0m \u001b[1m0s\u001b[0m 1ms/step\n",
      "\u001b[1m351/351\u001b[0m \u001b[32m━━━━━━━━━━━━━━━━━━━━\u001b[0m\u001b[37m\u001b[0m \u001b[1m0s\u001b[0m 1ms/step\n",
      "\u001b[1m351/351\u001b[0m \u001b[32m━━━━━━━━━━━━━━━━━━━━\u001b[0m\u001b[37m\u001b[0m \u001b[1m0s\u001b[0m 997us/step\n"
     ]
    },
    {
     "name": "stderr",
     "output_type": "stream",
     "text": [
      "[I 2025-02-21 16:24:54,911] Trial 25 finished with value: 2.4246922895036484e+16 and parameters: {'lr': 0.007969970383656245, 'hs': 10, 'dropout': 0.1831300529386365}. Best is trial 17 with value: 2.4246920665522164e+16.\n"
     ]
    },
    {
     "name": "stdout",
     "output_type": "stream",
     "text": [
      "\u001b[1m351/351\u001b[0m \u001b[32m━━━━━━━━━━━━━━━━━━━━\u001b[0m\u001b[37m\u001b[0m \u001b[1m1s\u001b[0m 1ms/step\n",
      "\u001b[1m351/351\u001b[0m \u001b[32m━━━━━━━━━━━━━━━━━━━━\u001b[0m\u001b[37m\u001b[0m \u001b[1m0s\u001b[0m 994us/step\n",
      "\u001b[1m351/351\u001b[0m \u001b[32m━━━━━━━━━━━━━━━━━━━━\u001b[0m\u001b[37m\u001b[0m \u001b[1m0s\u001b[0m 1ms/step  \n"
     ]
    },
    {
     "name": "stderr",
     "output_type": "stream",
     "text": [
      "[I 2025-02-21 16:25:35,106] Trial 26 finished with value: 2.424692206355565e+16 and parameters: {'lr': 0.00921310368127085, 'hs': 11, 'dropout': 0.16672228171790704}. Best is trial 17 with value: 2.4246920665522164e+16.\n"
     ]
    },
    {
     "name": "stdout",
     "output_type": "stream",
     "text": [
      "\u001b[1m351/351\u001b[0m \u001b[32m━━━━━━━━━━━━━━━━━━━━\u001b[0m\u001b[37m\u001b[0m \u001b[1m0s\u001b[0m 1ms/step  \n",
      "\u001b[1m351/351\u001b[0m \u001b[32m━━━━━━━━━━━━━━━━━━━━\u001b[0m\u001b[37m\u001b[0m \u001b[1m0s\u001b[0m 1ms/step  \n",
      "\u001b[1m351/351\u001b[0m \u001b[32m━━━━━━━━━━━━━━━━━━━━\u001b[0m\u001b[37m\u001b[0m \u001b[1m0s\u001b[0m 1ms/step\n"
     ]
    },
    {
     "name": "stderr",
     "output_type": "stream",
     "text": [
      "[I 2025-02-21 16:26:03,876] Trial 27 finished with value: 2.424692497723118e+16 and parameters: {'lr': 0.009195160967442205, 'hs': 11, 'dropout': 0.16686179763172107}. Best is trial 17 with value: 2.4246920665522164e+16.\n"
     ]
    },
    {
     "name": "stdout",
     "output_type": "stream",
     "text": [
      "\u001b[1m351/351\u001b[0m \u001b[32m━━━━━━━━━━━━━━━━━━━━\u001b[0m\u001b[37m\u001b[0m \u001b[1m0s\u001b[0m 1ms/step  \n",
      "\u001b[1m351/351\u001b[0m \u001b[32m━━━━━━━━━━━━━━━━━━━━\u001b[0m\u001b[37m\u001b[0m \u001b[1m0s\u001b[0m 1ms/step  \n",
      "\u001b[1m351/351\u001b[0m \u001b[32m━━━━━━━━━━━━━━━━━━━━\u001b[0m\u001b[37m\u001b[0m \u001b[1m0s\u001b[0m 1ms/step  \n"
     ]
    },
    {
     "name": "stderr",
     "output_type": "stream",
     "text": [
      "[I 2025-02-21 16:26:32,029] Trial 28 finished with value: 2.42469276100057e+16 and parameters: {'lr': 0.00964777103909004, 'hs': 6, 'dropout': 0.14315085166101427}. Best is trial 17 with value: 2.4246920665522164e+16.\n"
     ]
    },
    {
     "name": "stdout",
     "output_type": "stream",
     "text": [
      "\u001b[1m351/351\u001b[0m \u001b[32m━━━━━━━━━━━━━━━━━━━━\u001b[0m\u001b[37m\u001b[0m \u001b[1m0s\u001b[0m 1ms/step  \n",
      "\u001b[1m351/351\u001b[0m \u001b[32m━━━━━━━━━━━━━━━━━━━━\u001b[0m\u001b[37m\u001b[0m \u001b[1m0s\u001b[0m 1ms/step\n",
      "\u001b[1m351/351\u001b[0m \u001b[32m━━━━━━━━━━━━━━━━━━━━\u001b[0m\u001b[37m\u001b[0m \u001b[1m1s\u001b[0m 1ms/step\n"
     ]
    },
    {
     "name": "stderr",
     "output_type": "stream",
     "text": [
      "[I 2025-02-21 16:27:21,914] Trial 29 finished with value: 2.4246922629171508e+16 and parameters: {'lr': 0.008851334319060242, 'hs': 8, 'dropout': 0.1567124468130191}. Best is trial 17 with value: 2.4246920665522164e+16.\n"
     ]
    },
    {
     "name": "stdout",
     "output_type": "stream",
     "text": [
      "\u001b[1m351/351\u001b[0m \u001b[32m━━━━━━━━━━━━━━━━━━━━\u001b[0m\u001b[37m\u001b[0m \u001b[1m0s\u001b[0m 1ms/step\n",
      "\u001b[1m351/351\u001b[0m \u001b[32m━━━━━━━━━━━━━━━━━━━━\u001b[0m\u001b[37m\u001b[0m \u001b[1m0s\u001b[0m 1ms/step\n",
      "\u001b[1m351/351\u001b[0m \u001b[32m━━━━━━━━━━━━━━━━━━━━\u001b[0m\u001b[37m\u001b[0m \u001b[1m0s\u001b[0m 1ms/step\n"
     ]
    },
    {
     "name": "stderr",
     "output_type": "stream",
     "text": [
      "[I 2025-02-21 16:28:02,602] Trial 30 finished with value: 2.424692013180467e+16 and parameters: {'lr': 0.00996813441219359, 'hs': 12, 'dropout': 0.13200682918440612}. Best is trial 30 with value: 2.424692013180467e+16.\n"
     ]
    },
    {
     "name": "stdout",
     "output_type": "stream",
     "text": [
      "\u001b[1m351/351\u001b[0m \u001b[32m━━━━━━━━━━━━━━━━━━━━\u001b[0m\u001b[37m\u001b[0m \u001b[1m0s\u001b[0m 1ms/step\n",
      "\u001b[1m351/351\u001b[0m \u001b[32m━━━━━━━━━━━━━━━━━━━━\u001b[0m\u001b[37m\u001b[0m \u001b[1m1s\u001b[0m 1ms/step\n",
      "\u001b[1m351/351\u001b[0m \u001b[32m━━━━━━━━━━━━━━━━━━━━\u001b[0m\u001b[37m\u001b[0m \u001b[1m0s\u001b[0m 1ms/step  \n"
     ]
    },
    {
     "name": "stderr",
     "output_type": "stream",
     "text": [
      "[I 2025-02-21 16:28:52,716] Trial 31 finished with value: 2.4246920403230708e+16 and parameters: {'lr': 0.009985221756886799, 'hs': 10, 'dropout': 0.13216036076783216}. Best is trial 30 with value: 2.424692013180467e+16.\n"
     ]
    },
    {
     "name": "stdout",
     "output_type": "stream",
     "text": [
      "\u001b[1m351/351\u001b[0m \u001b[32m━━━━━━━━━━━━━━━━━━━━\u001b[0m\u001b[37m\u001b[0m \u001b[1m0s\u001b[0m 1ms/step\n",
      "\u001b[1m351/351\u001b[0m \u001b[32m━━━━━━━━━━━━━━━━━━━━\u001b[0m\u001b[37m\u001b[0m \u001b[1m0s\u001b[0m 1ms/step\n",
      "\u001b[1m351/351\u001b[0m \u001b[32m━━━━━━━━━━━━━━━━━━━━\u001b[0m\u001b[37m\u001b[0m \u001b[1m1s\u001b[0m 1ms/step\n"
     ]
    },
    {
     "name": "stderr",
     "output_type": "stream",
     "text": [
      "[I 2025-02-21 16:29:24,538] Trial 32 finished with value: 2.4246923968471692e+16 and parameters: {'lr': 0.009978933817689618, 'hs': 12, 'dropout': 0.12578192439219973}. Best is trial 30 with value: 2.424692013180467e+16.\n"
     ]
    },
    {
     "name": "stdout",
     "output_type": "stream",
     "text": [
      "\u001b[1m351/351\u001b[0m \u001b[32m━━━━━━━━━━━━━━━━━━━━\u001b[0m\u001b[37m\u001b[0m \u001b[1m0s\u001b[0m 1ms/step\n",
      "\u001b[1m351/351\u001b[0m \u001b[32m━━━━━━━━━━━━━━━━━━━━\u001b[0m\u001b[37m\u001b[0m \u001b[1m0s\u001b[0m 1ms/step\n",
      "\u001b[1m351/351\u001b[0m \u001b[32m━━━━━━━━━━━━━━━━━━━━\u001b[0m\u001b[37m\u001b[0m \u001b[1m1s\u001b[0m 1ms/step\n"
     ]
    },
    {
     "name": "stderr",
     "output_type": "stream",
     "text": [
      "[I 2025-02-21 16:29:57,602] Trial 33 finished with value: 2.424692290844598e+16 and parameters: {'lr': 0.009994639801476347, 'hs': 12, 'dropout': 0.12595749827905084}. Best is trial 30 with value: 2.424692013180467e+16.\n"
     ]
    },
    {
     "name": "stdout",
     "output_type": "stream",
     "text": [
      "\u001b[1m351/351\u001b[0m \u001b[32m━━━━━━━━━━━━━━━━━━━━\u001b[0m\u001b[37m\u001b[0m \u001b[1m1s\u001b[0m 1ms/step\n",
      "\u001b[1m351/351\u001b[0m \u001b[32m━━━━━━━━━━━━━━━━━━━━\u001b[0m\u001b[37m\u001b[0m \u001b[1m1s\u001b[0m 1ms/step\n",
      "\u001b[1m351/351\u001b[0m \u001b[32m━━━━━━━━━━━━━━━━━━━━\u001b[0m\u001b[37m\u001b[0m \u001b[1m0s\u001b[0m 1ms/step\n"
     ]
    },
    {
     "name": "stderr",
     "output_type": "stream",
     "text": [
      "[I 2025-02-21 16:30:29,584] Trial 34 finished with value: 2.4246925503322004e+16 and parameters: {'lr': 0.009333323064557156, 'hs': 10, 'dropout': 0.13510233090204976}. Best is trial 30 with value: 2.424692013180467e+16.\n"
     ]
    },
    {
     "name": "stdout",
     "output_type": "stream",
     "text": [
      "\u001b[1m351/351\u001b[0m \u001b[32m━━━━━━━━━━━━━━━━━━━━\u001b[0m\u001b[37m\u001b[0m \u001b[1m1s\u001b[0m 1ms/step\n",
      "\u001b[1m351/351\u001b[0m \u001b[32m━━━━━━━━━━━━━━━━━━━━\u001b[0m\u001b[37m\u001b[0m \u001b[1m1s\u001b[0m 1ms/step\n",
      "\u001b[1m351/351\u001b[0m \u001b[32m━━━━━━━━━━━━━━━━━━━━\u001b[0m\u001b[37m\u001b[0m \u001b[1m1s\u001b[0m 1ms/step\n"
     ]
    },
    {
     "name": "stderr",
     "output_type": "stream",
     "text": [
      "[I 2025-02-21 16:31:30,864] Trial 35 finished with value: 2.4246914580073524e+16 and parameters: {'lr': 0.00916332111425359, 'hs': 13, 'dropout': 0.11082867101156502}. Best is trial 35 with value: 2.4246914580073524e+16.\n"
     ]
    },
    {
     "name": "stdout",
     "output_type": "stream",
     "text": [
      "\u001b[1m351/351\u001b[0m \u001b[32m━━━━━━━━━━━━━━━━━━━━\u001b[0m\u001b[37m\u001b[0m \u001b[1m0s\u001b[0m 1ms/step\n",
      "\u001b[1m351/351\u001b[0m \u001b[32m━━━━━━━━━━━━━━━━━━━━\u001b[0m\u001b[37m\u001b[0m \u001b[1m0s\u001b[0m 1ms/step  \n",
      "\u001b[1m351/351\u001b[0m \u001b[32m━━━━━━━━━━━━━━━━━━━━\u001b[0m\u001b[37m\u001b[0m \u001b[1m1s\u001b[0m 1ms/step\n"
     ]
    },
    {
     "name": "stderr",
     "output_type": "stream",
     "text": [
      "[I 2025-02-21 16:32:09,744] Trial 36 finished with value: 2.4246918461660108e+16 and parameters: {'lr': 0.009994438891697667, 'hs': 13, 'dropout': 0.10875985435904355}. Best is trial 35 with value: 2.4246914580073524e+16.\n"
     ]
    },
    {
     "name": "stdout",
     "output_type": "stream",
     "text": [
      "\u001b[1m351/351\u001b[0m \u001b[32m━━━━━━━━━━━━━━━━━━━━\u001b[0m\u001b[37m\u001b[0m \u001b[1m0s\u001b[0m 1ms/step\n",
      "\u001b[1m351/351\u001b[0m \u001b[32m━━━━━━━━━━━━━━━━━━━━\u001b[0m\u001b[37m\u001b[0m \u001b[1m0s\u001b[0m 1ms/step\n",
      "\u001b[1m351/351\u001b[0m \u001b[32m━━━━━━━━━━━━━━━━━━━━\u001b[0m\u001b[37m\u001b[0m \u001b[1m0s\u001b[0m 1ms/step\n"
     ]
    },
    {
     "name": "stderr",
     "output_type": "stream",
     "text": [
      "[I 2025-02-21 16:32:42,128] Trial 37 finished with value: 2.4246920957188052e+16 and parameters: {'lr': 0.00994220336593483, 'hs': 15, 'dropout': 0.1092954674090551}. Best is trial 35 with value: 2.4246914580073524e+16.\n"
     ]
    },
    {
     "name": "stdout",
     "output_type": "stream",
     "text": [
      "\u001b[1m351/351\u001b[0m \u001b[32m━━━━━━━━━━━━━━━━━━━━\u001b[0m\u001b[37m\u001b[0m \u001b[1m0s\u001b[0m 1ms/step  \n",
      "\u001b[1m351/351\u001b[0m \u001b[32m━━━━━━━━━━━━━━━━━━━━\u001b[0m\u001b[37m\u001b[0m \u001b[1m0s\u001b[0m 1ms/step  \n",
      "\u001b[1m351/351\u001b[0m \u001b[32m━━━━━━━━━━━━━━━━━━━━\u001b[0m\u001b[37m\u001b[0m \u001b[1m0s\u001b[0m 999us/step\n"
     ]
    },
    {
     "name": "stderr",
     "output_type": "stream",
     "text": [
      "[I 2025-02-21 16:33:19,633] Trial 38 finished with value: 2.424691955162046e+16 and parameters: {'lr': 0.009479804292706924, 'hs': 13, 'dropout': 0.09702748647994626}. Best is trial 35 with value: 2.4246914580073524e+16.\n"
     ]
    },
    {
     "name": "stdout",
     "output_type": "stream",
     "text": [
      "\u001b[1m351/351\u001b[0m \u001b[32m━━━━━━━━━━━━━━━━━━━━\u001b[0m\u001b[37m\u001b[0m \u001b[1m0s\u001b[0m 1ms/step  \n",
      "\u001b[1m351/351\u001b[0m \u001b[32m━━━━━━━━━━━━━━━━━━━━\u001b[0m\u001b[37m\u001b[0m \u001b[1m0s\u001b[0m 1ms/step  \n",
      "\u001b[1m351/351\u001b[0m \u001b[32m━━━━━━━━━━━━━━━━━━━━\u001b[0m\u001b[37m\u001b[0m \u001b[1m0s\u001b[0m 1ms/step  \n"
     ]
    },
    {
     "name": "stderr",
     "output_type": "stream",
     "text": [
      "[I 2025-02-21 16:33:59,033] Trial 39 finished with value: 2.4246919111468596e+16 and parameters: {'lr': 0.007441966615306503, 'hs': 16, 'dropout': 0.0940917643446536}. Best is trial 35 with value: 2.4246914580073524e+16.\n"
     ]
    },
    {
     "name": "stdout",
     "output_type": "stream",
     "text": [
      "\u001b[1m351/351\u001b[0m \u001b[32m━━━━━━━━━━━━━━━━━━━━\u001b[0m\u001b[37m\u001b[0m \u001b[1m0s\u001b[0m 1ms/step  \n",
      "\u001b[1m351/351\u001b[0m \u001b[32m━━━━━━━━━━━━━━━━━━━━\u001b[0m\u001b[37m\u001b[0m \u001b[1m0s\u001b[0m 1ms/step   \n",
      "\u001b[1m351/351\u001b[0m \u001b[32m━━━━━━━━━━━━━━━━━━━━\u001b[0m\u001b[37m\u001b[0m \u001b[1m0s\u001b[0m 1ms/step\n"
     ]
    },
    {
     "name": "stderr",
     "output_type": "stream",
     "text": [
      "[I 2025-02-21 16:34:49,399] Trial 40 finished with value: 2.4246918740534644e+16 and parameters: {'lr': 0.006093051315665247, 'hs': 16, 'dropout': 0.09618193184243061}. Best is trial 35 with value: 2.4246914580073524e+16.\n"
     ]
    },
    {
     "name": "stdout",
     "output_type": "stream",
     "text": [
      "\u001b[1m351/351\u001b[0m \u001b[32m━━━━━━━━━━━━━━━━━━━━\u001b[0m\u001b[37m\u001b[0m \u001b[1m0s\u001b[0m 1ms/step\n",
      "\u001b[1m351/351\u001b[0m \u001b[32m━━━━━━━━━━━━━━━━━━━━\u001b[0m\u001b[37m\u001b[0m \u001b[1m1s\u001b[0m 1ms/step\n",
      "\u001b[1m351/351\u001b[0m \u001b[32m━━━━━━━━━━━━━━━━━━━━\u001b[0m\u001b[37m\u001b[0m \u001b[1m0s\u001b[0m 1ms/step\n"
     ]
    },
    {
     "name": "stderr",
     "output_type": "stream",
     "text": [
      "[I 2025-02-21 16:35:21,449] Trial 41 finished with value: 2.424692457469358e+16 and parameters: {'lr': 0.0062762081955890885, 'hs': 16, 'dropout': 0.09479675308310037}. Best is trial 35 with value: 2.4246914580073524e+16.\n"
     ]
    },
    {
     "name": "stdout",
     "output_type": "stream",
     "text": [
      "\u001b[1m351/351\u001b[0m \u001b[32m━━━━━━━━━━━━━━━━━━━━\u001b[0m\u001b[37m\u001b[0m \u001b[1m0s\u001b[0m 1ms/step  \n",
      "\u001b[1m351/351\u001b[0m \u001b[32m━━━━━━━━━━━━━━━━━━━━\u001b[0m\u001b[37m\u001b[0m \u001b[1m0s\u001b[0m 1ms/step  \n",
      "\u001b[1m351/351\u001b[0m \u001b[32m━━━━━━━━━━━━━━━━━━━━\u001b[0m\u001b[37m\u001b[0m \u001b[1m1s\u001b[0m 1ms/step\n"
     ]
    },
    {
     "name": "stderr",
     "output_type": "stream",
     "text": [
      "[I 2025-02-21 16:36:46,040] Trial 42 finished with value: 2.424690707554304e+16 and parameters: {'lr': 0.007342385014201016, 'hs': 15, 'dropout': 0.11431180998180336}. Best is trial 42 with value: 2.424690707554304e+16.\n"
     ]
    },
    {
     "name": "stdout",
     "output_type": "stream",
     "text": [
      "\u001b[1m351/351\u001b[0m \u001b[32m━━━━━━━━━━━━━━━━━━━━\u001b[0m\u001b[37m\u001b[0m \u001b[1m0s\u001b[0m 1ms/step  \n",
      "\u001b[1m351/351\u001b[0m \u001b[32m━━━━━━━━━━━━━━━━━━━━\u001b[0m\u001b[37m\u001b[0m \u001b[1m0s\u001b[0m 1ms/step\n",
      "\u001b[1m351/351\u001b[0m \u001b[32m━━━━━━━━━━━━━━━━━━━━\u001b[0m\u001b[37m\u001b[0m \u001b[1m1s\u001b[0m 1ms/step\n"
     ]
    },
    {
     "name": "stderr",
     "output_type": "stream",
     "text": [
      "[I 2025-02-21 16:37:13,811] Trial 43 finished with value: 2.424692430290301e+16 and parameters: {'lr': 0.007368650374632666, 'hs': 15, 'dropout': 0.1139283001578479}. Best is trial 42 with value: 2.424690707554304e+16.\n"
     ]
    },
    {
     "name": "stdout",
     "output_type": "stream",
     "text": [
      "\u001b[1m351/351\u001b[0m \u001b[32m━━━━━━━━━━━━━━━━━━━━\u001b[0m\u001b[37m\u001b[0m \u001b[1m0s\u001b[0m 1ms/step\n",
      "\u001b[1m351/351\u001b[0m \u001b[32m━━━━━━━━━━━━━━━━━━━━\u001b[0m\u001b[37m\u001b[0m \u001b[1m1s\u001b[0m 1ms/step\n",
      "\u001b[1m351/351\u001b[0m \u001b[32m━━━━━━━━━━━━━━━━━━━━\u001b[0m\u001b[37m\u001b[0m \u001b[1m0s\u001b[0m 1ms/step\n"
     ]
    },
    {
     "name": "stderr",
     "output_type": "stream",
     "text": [
      "[I 2025-02-21 16:37:56,675] Trial 44 finished with value: 2.4246921520480576e+16 and parameters: {'lr': 0.005411673636140054, 'hs': 16, 'dropout': 0.10538409261248612}. Best is trial 42 with value: 2.424690707554304e+16.\n"
     ]
    },
    {
     "name": "stdout",
     "output_type": "stream",
     "text": [
      "\u001b[1m351/351\u001b[0m \u001b[32m━━━━━━━━━━━━━━━━━━━━\u001b[0m\u001b[37m\u001b[0m \u001b[1m0s\u001b[0m 1ms/step\n",
      "\u001b[1m351/351\u001b[0m \u001b[32m━━━━━━━━━━━━━━━━━━━━\u001b[0m\u001b[37m\u001b[0m \u001b[1m0s\u001b[0m 1ms/step  \n",
      "\u001b[1m351/351\u001b[0m \u001b[32m━━━━━━━━━━━━━━━━━━━━\u001b[0m\u001b[37m\u001b[0m \u001b[1m0s\u001b[0m 1ms/step  \n"
     ]
    },
    {
     "name": "stderr",
     "output_type": "stream",
     "text": [
      "[I 2025-02-21 16:38:30,794] Trial 45 finished with value: 2.4246923635015308e+16 and parameters: {'lr': 0.006253792976182336, 'hs': 14, 'dropout': 0.08772798924121535}. Best is trial 42 with value: 2.424690707554304e+16.\n"
     ]
    },
    {
     "name": "stdout",
     "output_type": "stream",
     "text": [
      "\u001b[1m351/351\u001b[0m \u001b[32m━━━━━━━━━━━━━━━━━━━━\u001b[0m\u001b[37m\u001b[0m \u001b[1m1s\u001b[0m 1ms/step\n",
      "\u001b[1m351/351\u001b[0m \u001b[32m━━━━━━━━━━━━━━━━━━━━\u001b[0m\u001b[37m\u001b[0m \u001b[1m0s\u001b[0m 1ms/step  \n",
      "\u001b[1m351/351\u001b[0m \u001b[32m━━━━━━━━━━━━━━━━━━━━\u001b[0m\u001b[37m\u001b[0m \u001b[1m0s\u001b[0m 1ms/step\n"
     ]
    },
    {
     "name": "stderr",
     "output_type": "stream",
     "text": [
      "[I 2025-02-21 16:39:06,064] Trial 46 finished with value: 2.4246924677489984e+16 and parameters: {'lr': 0.0058620845303448185, 'hs': 15, 'dropout': 0.07056350388142901}. Best is trial 42 with value: 2.424690707554304e+16.\n"
     ]
    },
    {
     "name": "stdout",
     "output_type": "stream",
     "text": [
      "\u001b[1m351/351\u001b[0m \u001b[32m━━━━━━━━━━━━━━━━━━━━\u001b[0m\u001b[37m\u001b[0m \u001b[1m0s\u001b[0m 1ms/step\n",
      "\u001b[1m351/351\u001b[0m \u001b[32m━━━━━━━━━━━━━━━━━━━━\u001b[0m\u001b[37m\u001b[0m \u001b[1m0s\u001b[0m 1ms/step\n",
      "\u001b[1m351/351\u001b[0m \u001b[32m━━━━━━━━━━━━━━━━━━━━\u001b[0m\u001b[37m\u001b[0m \u001b[1m1s\u001b[0m 1ms/step\n"
     ]
    },
    {
     "name": "stderr",
     "output_type": "stream",
     "text": [
      "[I 2025-02-21 16:39:42,606] Trial 47 finished with value: 2.4246922912087972e+16 and parameters: {'lr': 0.007244337050100266, 'hs': 14, 'dropout': 0.11673864221177825}. Best is trial 42 with value: 2.424690707554304e+16.\n"
     ]
    },
    {
     "name": "stdout",
     "output_type": "stream",
     "text": [
      "\u001b[1m351/351\u001b[0m \u001b[32m━━━━━━━━━━━━━━━━━━━━\u001b[0m\u001b[37m\u001b[0m \u001b[1m0s\u001b[0m 1ms/step\n",
      "\u001b[1m351/351\u001b[0m \u001b[32m━━━━━━━━━━━━━━━━━━━━\u001b[0m\u001b[37m\u001b[0m \u001b[1m0s\u001b[0m 1ms/step\n",
      "\u001b[1m351/351\u001b[0m \u001b[32m━━━━━━━━━━━━━━━━━━━━\u001b[0m\u001b[37m\u001b[0m \u001b[1m0s\u001b[0m 1ms/step\n"
     ]
    },
    {
     "name": "stderr",
     "output_type": "stream",
     "text": [
      "[I 2025-02-21 16:40:10,095] Trial 48 finished with value: 2.4246923692681504e+16 and parameters: {'lr': 0.006506290596089963, 'hs': 16, 'dropout': 0.09037937349803052}. Best is trial 42 with value: 2.424690707554304e+16.\n"
     ]
    },
    {
     "name": "stdout",
     "output_type": "stream",
     "text": [
      "\u001b[1m351/351\u001b[0m \u001b[32m━━━━━━━━━━━━━━━━━━━━\u001b[0m\u001b[37m\u001b[0m \u001b[1m0s\u001b[0m 1ms/step\n",
      "\u001b[1m351/351\u001b[0m \u001b[32m━━━━━━━━━━━━━━━━━━━━\u001b[0m\u001b[37m\u001b[0m \u001b[1m0s\u001b[0m 1ms/step\n",
      "\u001b[1m351/351\u001b[0m \u001b[32m━━━━━━━━━━━━━━━━━━━━\u001b[0m\u001b[37m\u001b[0m \u001b[1m0s\u001b[0m 1ms/step\n"
     ]
    },
    {
     "name": "stderr",
     "output_type": "stream",
     "text": [
      "[I 2025-02-21 16:40:46,319] Trial 49 finished with value: 2.424692069796448e+16 and parameters: {'lr': 0.007656947402865934, 'hs': 14, 'dropout': 0.10418529169433129}. Best is trial 42 with value: 2.424690707554304e+16.\n"
     ]
    },
    {
     "name": "stdout",
     "output_type": "stream",
     "text": [
      "\u001b[1m351/351\u001b[0m \u001b[32m━━━━━━━━━━━━━━━━━━━━\u001b[0m\u001b[37m\u001b[0m \u001b[1m0s\u001b[0m 1ms/step\n",
      "\u001b[1m351/351\u001b[0m \u001b[32m━━━━━━━━━━━━━━━━━━━━\u001b[0m\u001b[37m\u001b[0m \u001b[1m0s\u001b[0m 1ms/step\n",
      "\u001b[1m351/351\u001b[0m \u001b[32m━━━━━━━━━━━━━━━━━━━━\u001b[0m\u001b[37m\u001b[0m \u001b[1m0s\u001b[0m 1ms/step  \n"
     ]
    },
    {
     "name": "stderr",
     "output_type": "stream",
     "text": [
      "[I 2025-02-21 16:41:18,761] Trial 50 finished with value: 2.424692537260184e+16 and parameters: {'lr': 0.0048623324819067615, 'hs': 15, 'dropout': 0.07818498306853872}. Best is trial 42 with value: 2.424690707554304e+16.\n"
     ]
    },
    {
     "name": "stdout",
     "output_type": "stream",
     "text": [
      "\u001b[1m351/351\u001b[0m \u001b[32m━━━━━━━━━━━━━━━━━━━━\u001b[0m\u001b[37m\u001b[0m \u001b[1m0s\u001b[0m 1ms/step\n",
      "\u001b[1m351/351\u001b[0m \u001b[32m━━━━━━━━━━━━━━━━━━━━\u001b[0m\u001b[37m\u001b[0m \u001b[1m0s\u001b[0m 1ms/step\n",
      "\u001b[1m351/351\u001b[0m \u001b[32m━━━━━━━━━━━━━━━━━━━━\u001b[0m\u001b[37m\u001b[0m \u001b[1m0s\u001b[0m 1ms/step\n"
     ]
    },
    {
     "name": "stderr",
     "output_type": "stream",
     "text": [
      "[I 2025-02-21 16:41:53,960] Trial 51 finished with value: 2.424692258577573e+16 and parameters: {'lr': 0.008190007433668156, 'hs': 13, 'dropout': 0.09707506264488142}. Best is trial 42 with value: 2.424690707554304e+16.\n"
     ]
    },
    {
     "name": "stdout",
     "output_type": "stream",
     "text": [
      "\u001b[1m351/351\u001b[0m \u001b[32m━━━━━━━━━━━━━━━━━━━━\u001b[0m\u001b[37m\u001b[0m \u001b[1m1s\u001b[0m 1ms/step\n",
      "\u001b[1m351/351\u001b[0m \u001b[32m━━━━━━━━━━━━━━━━━━━━\u001b[0m\u001b[37m\u001b[0m \u001b[1m1s\u001b[0m 1ms/step\n",
      "\u001b[1m351/351\u001b[0m \u001b[32m━━━━━━━━━━━━━━━━━━━━\u001b[0m\u001b[37m\u001b[0m \u001b[1m0s\u001b[0m 1ms/step\n"
     ]
    },
    {
     "name": "stderr",
     "output_type": "stream",
     "text": [
      "[I 2025-02-21 16:42:28,081] Trial 52 finished with value: 2.4246921623510452e+16 and parameters: {'lr': 0.009407304202589508, 'hs': 13, 'dropout': 0.12210756168165654}. Best is trial 42 with value: 2.424690707554304e+16.\n"
     ]
    },
    {
     "name": "stdout",
     "output_type": "stream",
     "text": [
      "\u001b[1m351/351\u001b[0m \u001b[32m━━━━━━━━━━━━━━━━━━━━\u001b[0m\u001b[37m\u001b[0m \u001b[1m0s\u001b[0m 1ms/step\n",
      "\u001b[1m351/351\u001b[0m \u001b[32m━━━━━━━━━━━━━━━━━━━━\u001b[0m\u001b[37m\u001b[0m \u001b[1m0s\u001b[0m 1ms/step\n",
      "\u001b[1m351/351\u001b[0m \u001b[32m━━━━━━━━━━━━━━━━━━━━\u001b[0m\u001b[37m\u001b[0m \u001b[1m0s\u001b[0m 1ms/step  \n"
     ]
    },
    {
     "name": "stderr",
     "output_type": "stream",
     "text": [
      "[I 2025-02-21 16:42:56,765] Trial 53 finished with value: 2.4246927353011972e+16 and parameters: {'lr': 0.003838397734711248, 'hs': 16, 'dropout': 0.11082325221335194}. Best is trial 42 with value: 2.424690707554304e+16.\n"
     ]
    },
    {
     "name": "stdout",
     "output_type": "stream",
     "text": [
      "\u001b[1m351/351\u001b[0m \u001b[32m━━━━━━━━━━━━━━━━━━━━\u001b[0m\u001b[37m\u001b[0m \u001b[1m0s\u001b[0m 999us/step\n",
      "\u001b[1m351/351\u001b[0m \u001b[32m━━━━━━━━━━━━━━━━━━━━\u001b[0m\u001b[37m\u001b[0m \u001b[1m0s\u001b[0m 1ms/step  \n",
      "\u001b[1m351/351\u001b[0m \u001b[32m━━━━━━━━━━━━━━━━━━━━\u001b[0m\u001b[37m\u001b[0m \u001b[1m0s\u001b[0m 1ms/step\n"
     ]
    },
    {
     "name": "stderr",
     "output_type": "stream",
     "text": [
      "[I 2025-02-21 16:43:24,310] Trial 54 finished with value: 2.424692681792315e+16 and parameters: {'lr': 0.00535650142093581, 'hs': 13, 'dropout': 0.07944535727442141}. Best is trial 42 with value: 2.424690707554304e+16.\n"
     ]
    },
    {
     "name": "stdout",
     "output_type": "stream",
     "text": [
      "\u001b[1m351/351\u001b[0m \u001b[32m━━━━━━━━━━━━━━━━━━━━\u001b[0m\u001b[37m\u001b[0m \u001b[1m0s\u001b[0m 1ms/step  \n",
      "\u001b[1m351/351\u001b[0m \u001b[32m━━━━━━━━━━━━━━━━━━━━\u001b[0m\u001b[37m\u001b[0m \u001b[1m1s\u001b[0m 1ms/step\n",
      "\u001b[1m351/351\u001b[0m \u001b[32m━━━━━━━━━━━━━━━━━━━━\u001b[0m\u001b[37m\u001b[0m \u001b[1m1s\u001b[0m 1ms/step\n"
     ]
    },
    {
     "name": "stderr",
     "output_type": "stream",
     "text": [
      "[I 2025-02-21 16:44:11,300] Trial 55 finished with value: 2.424691910699304e+16 and parameters: {'lr': 0.008913951396078462, 'hs': 15, 'dropout': 0.09973279330391241}. Best is trial 42 with value: 2.424690707554304e+16.\n"
     ]
    },
    {
     "name": "stdout",
     "output_type": "stream",
     "text": [
      "\u001b[1m351/351\u001b[0m \u001b[32m━━━━━━━━━━━━━━━━━━━━\u001b[0m\u001b[37m\u001b[0m \u001b[1m0s\u001b[0m 1ms/step  \n",
      "\u001b[1m351/351\u001b[0m \u001b[32m━━━━━━━━━━━━━━━━━━━━\u001b[0m\u001b[37m\u001b[0m \u001b[1m0s\u001b[0m 1ms/step\n",
      "\u001b[1m351/351\u001b[0m \u001b[32m━━━━━━━━━━━━━━━━━━━━\u001b[0m\u001b[37m\u001b[0m \u001b[1m1s\u001b[0m 1ms/step\n"
     ]
    },
    {
     "name": "stderr",
     "output_type": "stream",
     "text": [
      "[I 2025-02-21 16:44:55,409] Trial 56 finished with value: 2.424691827983954e+16 and parameters: {'lr': 0.00877773347405663, 'hs': 14, 'dropout': 0.10574427559593845}. Best is trial 42 with value: 2.424690707554304e+16.\n"
     ]
    },
    {
     "name": "stdout",
     "output_type": "stream",
     "text": [
      "\u001b[1m351/351\u001b[0m \u001b[32m━━━━━━━━━━━━━━━━━━━━\u001b[0m\u001b[37m\u001b[0m \u001b[1m0s\u001b[0m 1ms/step\n",
      "\u001b[1m351/351\u001b[0m \u001b[32m━━━━━━━━━━━━━━━━━━━━\u001b[0m\u001b[37m\u001b[0m \u001b[1m0s\u001b[0m 1ms/step\n",
      "\u001b[1m351/351\u001b[0m \u001b[32m━━━━━━━━━━━━━━━━━━━━\u001b[0m\u001b[37m\u001b[0m \u001b[1m0s\u001b[0m 1ms/step\n"
     ]
    },
    {
     "name": "stderr",
     "output_type": "stream",
     "text": [
      "[I 2025-02-21 16:45:36,276] Trial 57 finished with value: 2.4246918408817036e+16 and parameters: {'lr': 0.008925430086392839, 'hs': 14, 'dropout': 0.10123776116714668}. Best is trial 42 with value: 2.424690707554304e+16.\n"
     ]
    },
    {
     "name": "stdout",
     "output_type": "stream",
     "text": [
      "\u001b[1m351/351\u001b[0m \u001b[32m━━━━━━━━━━━━━━━━━━━━\u001b[0m\u001b[37m\u001b[0m \u001b[1m0s\u001b[0m 1ms/step\n",
      "\u001b[1m351/351\u001b[0m \u001b[32m━━━━━━━━━━━━━━━━━━━━\u001b[0m\u001b[37m\u001b[0m \u001b[1m0s\u001b[0m 1ms/step\n",
      "\u001b[1m351/351\u001b[0m \u001b[32m━━━━━━━━━━━━━━━━━━━━\u001b[0m\u001b[37m\u001b[0m \u001b[1m0s\u001b[0m 1ms/step\n"
     ]
    },
    {
     "name": "stderr",
     "output_type": "stream",
     "text": [
      "[I 2025-02-21 16:46:03,893] Trial 58 finished with value: 2.4246924053947036e+16 and parameters: {'lr': 0.008596505535638416, 'hs': 14, 'dropout': 0.10857888773917021}. Best is trial 42 with value: 2.424690707554304e+16.\n"
     ]
    },
    {
     "name": "stdout",
     "output_type": "stream",
     "text": [
      "\u001b[1m351/351\u001b[0m \u001b[32m━━━━━━━━━━━━━━━━━━━━\u001b[0m\u001b[37m\u001b[0m \u001b[1m0s\u001b[0m 1ms/step\n",
      "\u001b[1m351/351\u001b[0m \u001b[32m━━━━━━━━━━━━━━━━━━━━\u001b[0m\u001b[37m\u001b[0m \u001b[1m0s\u001b[0m 1ms/step  \n",
      "\u001b[1m351/351\u001b[0m \u001b[32m━━━━━━━━━━━━━━━━━━━━\u001b[0m\u001b[37m\u001b[0m \u001b[1m0s\u001b[0m 1ms/step  \n"
     ]
    },
    {
     "name": "stderr",
     "output_type": "stream",
     "text": [
      "[I 2025-02-21 16:46:41,247] Trial 59 finished with value: 2.4246923703069356e+16 and parameters: {'lr': 0.00661539733128562, 'hs': 14, 'dropout': 0.1212551362042849}. Best is trial 42 with value: 2.424690707554304e+16.\n"
     ]
    },
    {
     "name": "stdout",
     "output_type": "stream",
     "text": [
      "\u001b[1m351/351\u001b[0m \u001b[32m━━━━━━━━━━━━━━━━━━━━\u001b[0m\u001b[37m\u001b[0m \u001b[1m0s\u001b[0m 1ms/step\n",
      "\u001b[1m351/351\u001b[0m \u001b[32m━━━━━━━━━━━━━━━━━━━━\u001b[0m\u001b[37m\u001b[0m \u001b[1m0s\u001b[0m 1ms/step\n",
      "\u001b[1m351/351\u001b[0m \u001b[32m━━━━━━━━━━━━━━━━━━━━\u001b[0m\u001b[37m\u001b[0m \u001b[1m1s\u001b[0m 1ms/step\n"
     ]
    },
    {
     "name": "stderr",
     "output_type": "stream",
     "text": [
      "[I 2025-02-21 16:47:37,930] Trial 60 finished with value: 2.4246913170574708e+16 and parameters: {'lr': 0.008205733477355733, 'hs': 15, 'dropout': 0.11624140264390768}. Best is trial 42 with value: 2.424690707554304e+16.\n"
     ]
    },
    {
     "name": "stdout",
     "output_type": "stream",
     "text": [
      "\u001b[1m351/351\u001b[0m \u001b[32m━━━━━━━━━━━━━━━━━━━━\u001b[0m\u001b[37m\u001b[0m \u001b[1m0s\u001b[0m 1ms/step  \n",
      "\u001b[1m351/351\u001b[0m \u001b[32m━━━━━━━━━━━━━━━━━━━━\u001b[0m\u001b[37m\u001b[0m \u001b[1m0s\u001b[0m 1ms/step\n",
      "\u001b[1m351/351\u001b[0m \u001b[32m━━━━━━━━━━━━━━━━━━━━\u001b[0m\u001b[37m\u001b[0m \u001b[1m1s\u001b[0m 1ms/step\n"
     ]
    },
    {
     "name": "stderr",
     "output_type": "stream",
     "text": [
      "[I 2025-02-21 16:48:20,803] Trial 61 finished with value: 2.424691922942061e+16 and parameters: {'lr': 0.008108233978058915, 'hs': 15, 'dropout': 0.1028972371776177}. Best is trial 42 with value: 2.424690707554304e+16.\n"
     ]
    },
    {
     "name": "stdout",
     "output_type": "stream",
     "text": [
      "\u001b[1m351/351\u001b[0m \u001b[32m━━━━━━━━━━━━━━━━━━━━\u001b[0m\u001b[37m\u001b[0m \u001b[1m1s\u001b[0m 1ms/step\n",
      "\u001b[1m351/351\u001b[0m \u001b[32m━━━━━━━━━━━━━━━━━━━━\u001b[0m\u001b[37m\u001b[0m \u001b[1m1s\u001b[0m 1ms/step\n",
      "\u001b[1m351/351\u001b[0m \u001b[32m━━━━━━━━━━━━━━━━━━━━\u001b[0m\u001b[37m\u001b[0m \u001b[1m0s\u001b[0m 1ms/step\n"
     ]
    },
    {
     "name": "stderr",
     "output_type": "stream",
     "text": [
      "[I 2025-02-21 16:48:48,096] Trial 62 finished with value: 2.4246930989880628e+16 and parameters: {'lr': 0.001503388254804497, 'hs': 14, 'dropout': 0.1178010742387039}. Best is trial 42 with value: 2.424690707554304e+16.\n"
     ]
    },
    {
     "name": "stdout",
     "output_type": "stream",
     "text": [
      "\u001b[1m351/351\u001b[0m \u001b[32m━━━━━━━━━━━━━━━━━━━━\u001b[0m\u001b[37m\u001b[0m \u001b[1m0s\u001b[0m 1ms/step\n",
      "\u001b[1m351/351\u001b[0m \u001b[32m━━━━━━━━━━━━━━━━━━━━\u001b[0m\u001b[37m\u001b[0m \u001b[1m1s\u001b[0m 1ms/step\n",
      "\u001b[1m351/351\u001b[0m \u001b[32m━━━━━━━━━━━━━━━━━━━━\u001b[0m\u001b[37m\u001b[0m \u001b[1m1s\u001b[0m 1ms/step\n"
     ]
    },
    {
     "name": "stderr",
     "output_type": "stream",
     "text": [
      "[I 2025-02-21 16:49:22,501] Trial 63 finished with value: 2.4246932007427468e+16 and parameters: {'lr': 0.0001749829469666125, 'hs': 15, 'dropout': 0.08326075778923675}. Best is trial 42 with value: 2.424690707554304e+16.\n"
     ]
    },
    {
     "name": "stdout",
     "output_type": "stream",
     "text": [
      "\u001b[1m351/351\u001b[0m \u001b[32m━━━━━━━━━━━━━━━━━━━━\u001b[0m\u001b[37m\u001b[0m \u001b[1m0s\u001b[0m 1ms/step  \n",
      "\u001b[1m351/351\u001b[0m \u001b[32m━━━━━━━━━━━━━━━━━━━━\u001b[0m\u001b[37m\u001b[0m \u001b[1m0s\u001b[0m 1ms/step  \n",
      "\u001b[1m351/351\u001b[0m \u001b[32m━━━━━━━━━━━━━━━━━━━━\u001b[0m\u001b[37m\u001b[0m \u001b[1m0s\u001b[0m 1ms/step\n"
     ]
    },
    {
     "name": "stderr",
     "output_type": "stream",
     "text": [
      "[I 2025-02-21 16:49:54,802] Trial 64 finished with value: 2.4246922451712156e+16 and parameters: {'lr': 0.009040191317105314, 'hs': 13, 'dropout': 0.10709604557319416}. Best is trial 42 with value: 2.424690707554304e+16.\n"
     ]
    },
    {
     "name": "stdout",
     "output_type": "stream",
     "text": [
      "\u001b[1m351/351\u001b[0m \u001b[32m━━━━━━━━━━━━━━━━━━━━\u001b[0m\u001b[37m\u001b[0m \u001b[1m0s\u001b[0m 1ms/step  \n",
      "\u001b[1m351/351\u001b[0m \u001b[32m━━━━━━━━━━━━━━━━━━━━\u001b[0m\u001b[37m\u001b[0m \u001b[1m0s\u001b[0m 1ms/step\n",
      "\u001b[1m351/351\u001b[0m \u001b[32m━━━━━━━━━━━━━━━━━━━━\u001b[0m\u001b[37m\u001b[0m \u001b[1m0s\u001b[0m 1ms/step\n"
     ]
    },
    {
     "name": "stderr",
     "output_type": "stream",
     "text": [
      "[I 2025-02-21 16:50:28,575] Trial 65 finished with value: 2.424692195891384e+16 and parameters: {'lr': 0.008646291531957187, 'hs': 14, 'dropout': 0.11329984577372833}. Best is trial 42 with value: 2.424690707554304e+16.\n"
     ]
    },
    {
     "name": "stdout",
     "output_type": "stream",
     "text": [
      "\u001b[1m351/351\u001b[0m \u001b[32m━━━━━━━━━━━━━━━━━━━━\u001b[0m\u001b[37m\u001b[0m \u001b[1m0s\u001b[0m 1ms/step\n",
      "\u001b[1m351/351\u001b[0m \u001b[32m━━━━━━━━━━━━━━━━━━━━\u001b[0m\u001b[37m\u001b[0m \u001b[1m0s\u001b[0m 1ms/step\n",
      "\u001b[1m351/351\u001b[0m \u001b[32m━━━━━━━━━━━━━━━━━━━━\u001b[0m\u001b[37m\u001b[0m \u001b[1m1s\u001b[0m 1ms/step\n"
     ]
    },
    {
     "name": "stderr",
     "output_type": "stream",
     "text": [
      "[I 2025-02-21 16:51:11,921] Trial 66 finished with value: 2.4246921061364304e+16 and parameters: {'lr': 0.007760036783124435, 'hs': 12, 'dropout': 0.09177736371734797}. Best is trial 42 with value: 2.424690707554304e+16.\n"
     ]
    },
    {
     "name": "stdout",
     "output_type": "stream",
     "text": [
      "\u001b[1m351/351\u001b[0m \u001b[32m━━━━━━━━━━━━━━━━━━━━\u001b[0m\u001b[37m\u001b[0m \u001b[1m0s\u001b[0m 1ms/step\n",
      "\u001b[1m351/351\u001b[0m \u001b[32m━━━━━━━━━━━━━━━━━━━━\u001b[0m\u001b[37m\u001b[0m \u001b[1m0s\u001b[0m 995us/step\n",
      "\u001b[1m351/351\u001b[0m \u001b[32m━━━━━━━━━━━━━━━━━━━━\u001b[0m\u001b[37m\u001b[0m \u001b[1m0s\u001b[0m 1ms/step\n"
     ]
    },
    {
     "name": "stderr",
     "output_type": "stream",
     "text": [
      "[I 2025-02-21 16:52:06,817] Trial 67 finished with value: 2.4246908872025044e+16 and parameters: {'lr': 0.009652063517950627, 'hs': 16, 'dropout': 0.10019249909808246}. Best is trial 42 with value: 2.424690707554304e+16.\n"
     ]
    },
    {
     "name": "stdout",
     "output_type": "stream",
     "text": [
      "\u001b[1m351/351\u001b[0m \u001b[32m━━━━━━━━━━━━━━━━━━━━\u001b[0m\u001b[37m\u001b[0m \u001b[1m0s\u001b[0m 1ms/step\n",
      "\u001b[1m351/351\u001b[0m \u001b[32m━━━━━━━━━━━━━━━━━━━━\u001b[0m\u001b[37m\u001b[0m \u001b[1m0s\u001b[0m 1ms/step\n",
      "\u001b[1m351/351\u001b[0m \u001b[32m━━━━━━━━━━━━━━━━━━━━\u001b[0m\u001b[37m\u001b[0m \u001b[1m1s\u001b[0m 1ms/step\n"
     ]
    },
    {
     "name": "stderr",
     "output_type": "stream",
     "text": [
      "[I 2025-02-21 16:52:49,545] Trial 68 finished with value: 2.4246917017294372e+16 and parameters: {'lr': 0.009688307652347825, 'hs': 15, 'dropout': 0.12699503848610177}. Best is trial 42 with value: 2.424690707554304e+16.\n"
     ]
    },
    {
     "name": "stdout",
     "output_type": "stream",
     "text": [
      "\u001b[1m351/351\u001b[0m \u001b[32m━━━━━━━━━━━━━━━━━━━━\u001b[0m\u001b[37m\u001b[0m \u001b[1m0s\u001b[0m 1ms/step\n",
      "\u001b[1m351/351\u001b[0m \u001b[32m━━━━━━━━━━━━━━━━━━━━\u001b[0m\u001b[37m\u001b[0m \u001b[1m0s\u001b[0m 1ms/step  \n",
      "\u001b[1m351/351\u001b[0m \u001b[32m━━━━━━━━━━━━━━━━━━━━\u001b[0m\u001b[37m\u001b[0m \u001b[1m0s\u001b[0m 1ms/step\n"
     ]
    },
    {
     "name": "stderr",
     "output_type": "stream",
     "text": [
      "[I 2025-02-21 16:53:19,399] Trial 69 finished with value: 2.4246921896807756e+16 and parameters: {'lr': 0.009615139761974395, 'hs': 15, 'dropout': 0.12712292169120742}. Best is trial 42 with value: 2.424690707554304e+16.\n"
     ]
    },
    {
     "name": "stdout",
     "output_type": "stream",
     "text": [
      "\u001b[1m351/351\u001b[0m \u001b[32m━━━━━━━━━━━━━━━━━━━━\u001b[0m\u001b[37m\u001b[0m \u001b[1m1s\u001b[0m 1ms/step\n",
      "\u001b[1m351/351\u001b[0m \u001b[32m━━━━━━━━━━━━━━━━━━━━\u001b[0m\u001b[37m\u001b[0m \u001b[1m1s\u001b[0m 1ms/step\n",
      "\u001b[1m351/351\u001b[0m \u001b[32m━━━━━━━━━━━━━━━━━━━━\u001b[0m\u001b[37m\u001b[0m \u001b[1m1s\u001b[0m 1ms/step\n"
     ]
    },
    {
     "name": "stderr",
     "output_type": "stream",
     "text": [
      "[I 2025-02-21 16:54:08,630] Trial 70 finished with value: 2.42469153182937e+16 and parameters: {'lr': 0.008843875666642059, 'hs': 15, 'dropout': 0.11493383390951484}. Best is trial 42 with value: 2.424690707554304e+16.\n"
     ]
    },
    {
     "name": "stdout",
     "output_type": "stream",
     "text": [
      "\u001b[1m351/351\u001b[0m \u001b[32m━━━━━━━━━━━━━━━━━━━━\u001b[0m\u001b[37m\u001b[0m \u001b[1m1s\u001b[0m 1ms/step\n",
      "\u001b[1m351/351\u001b[0m \u001b[32m━━━━━━━━━━━━━━━━━━━━\u001b[0m\u001b[37m\u001b[0m \u001b[1m1s\u001b[0m 1ms/step\n",
      "\u001b[1m351/351\u001b[0m \u001b[32m━━━━━━━━━━━━━━━━━━━━\u001b[0m\u001b[37m\u001b[0m \u001b[1m1s\u001b[0m 1ms/step\n"
     ]
    },
    {
     "name": "stderr",
     "output_type": "stream",
     "text": [
      "[I 2025-02-21 16:55:01,689] Trial 71 finished with value: 2.4246915217002836e+16 and parameters: {'lr': 0.009113953386817994, 'hs': 15, 'dropout': 0.1165895914200919}. Best is trial 42 with value: 2.424690707554304e+16.\n"
     ]
    },
    {
     "name": "stdout",
     "output_type": "stream",
     "text": [
      "\u001b[1m351/351\u001b[0m \u001b[32m━━━━━━━━━━━━━━━━━━━━\u001b[0m\u001b[37m\u001b[0m \u001b[1m1s\u001b[0m 1ms/step\n",
      "\u001b[1m351/351\u001b[0m \u001b[32m━━━━━━━━━━━━━━━━━━━━\u001b[0m\u001b[37m\u001b[0m \u001b[1m0s\u001b[0m 1ms/step\n",
      "\u001b[1m351/351\u001b[0m \u001b[32m━━━━━━━━━━━━━━━━━━━━\u001b[0m\u001b[37m\u001b[0m \u001b[1m1s\u001b[0m 1ms/step\n"
     ]
    },
    {
     "name": "stderr",
     "output_type": "stream",
     "text": [
      "[I 2025-02-21 16:55:50,323] Trial 72 finished with value: 2.4246915411529948e+16 and parameters: {'lr': 0.008364197636959355, 'hs': 16, 'dropout': 0.11534834352107058}. Best is trial 42 with value: 2.424690707554304e+16.\n"
     ]
    },
    {
     "name": "stdout",
     "output_type": "stream",
     "text": [
      "\u001b[1m351/351\u001b[0m \u001b[32m━━━━━━━━━━━━━━━━━━━━\u001b[0m\u001b[37m\u001b[0m \u001b[1m1s\u001b[0m 1ms/step\n",
      "\u001b[1m351/351\u001b[0m \u001b[32m━━━━━━━━━━━━━━━━━━━━\u001b[0m\u001b[37m\u001b[0m \u001b[1m1s\u001b[0m 1ms/step\n",
      "\u001b[1m351/351\u001b[0m \u001b[32m━━━━━━━━━━━━━━━━━━━━\u001b[0m\u001b[37m\u001b[0m \u001b[1m1s\u001b[0m 1ms/step\n"
     ]
    },
    {
     "name": "stderr",
     "output_type": "stream",
     "text": [
      "[I 2025-02-21 16:56:45,595] Trial 73 finished with value: 2.4246918825677044e+16 and parameters: {'lr': 0.009293185616643116, 'hs': 16, 'dropout': 0.12906479070207746}. Best is trial 42 with value: 2.424690707554304e+16.\n"
     ]
    },
    {
     "name": "stdout",
     "output_type": "stream",
     "text": [
      "\u001b[1m351/351\u001b[0m \u001b[32m━━━━━━━━━━━━━━━━━━━━\u001b[0m\u001b[37m\u001b[0m \u001b[1m1s\u001b[0m 1ms/step\n",
      "\u001b[1m351/351\u001b[0m \u001b[32m━━━━━━━━━━━━━━━━━━━━\u001b[0m\u001b[37m\u001b[0m \u001b[1m1s\u001b[0m 1ms/step\n",
      "\u001b[1m351/351\u001b[0m \u001b[32m━━━━━━━━━━━━━━━━━━━━\u001b[0m\u001b[37m\u001b[0m \u001b[1m1s\u001b[0m 1ms/step\n"
     ]
    },
    {
     "name": "stderr",
     "output_type": "stream",
     "text": [
      "[I 2025-02-21 16:57:29,412] Trial 74 finished with value: 2.4246919259913316e+16 and parameters: {'lr': 0.008326431685289853, 'hs': 15, 'dropout': 0.12151875478989561}. Best is trial 42 with value: 2.424690707554304e+16.\n"
     ]
    },
    {
     "name": "stdout",
     "output_type": "stream",
     "text": [
      "\u001b[1m351/351\u001b[0m \u001b[32m━━━━━━━━━━━━━━━━━━━━\u001b[0m\u001b[37m\u001b[0m \u001b[1m1s\u001b[0m 1ms/step\n",
      "\u001b[1m351/351\u001b[0m \u001b[32m━━━━━━━━━━━━━━━━━━━━\u001b[0m\u001b[37m\u001b[0m \u001b[1m1s\u001b[0m 1ms/step\n",
      "\u001b[1m351/351\u001b[0m \u001b[32m━━━━━━━━━━━━━━━━━━━━\u001b[0m\u001b[37m\u001b[0m \u001b[1m1s\u001b[0m 1ms/step\n"
     ]
    },
    {
     "name": "stderr",
     "output_type": "stream",
     "text": [
      "[I 2025-02-21 16:57:59,259] Trial 75 finished with value: 2.4246921964676268e+16 and parameters: {'lr': 0.00971619235022076, 'hs': 16, 'dropout': 0.1401515490839122}. Best is trial 42 with value: 2.424690707554304e+16.\n"
     ]
    },
    {
     "name": "stdout",
     "output_type": "stream",
     "text": [
      "\u001b[1m351/351\u001b[0m \u001b[32m━━━━━━━━━━━━━━━━━━━━\u001b[0m\u001b[37m\u001b[0m \u001b[1m1s\u001b[0m 1ms/step\n",
      "\u001b[1m351/351\u001b[0m \u001b[32m━━━━━━━━━━━━━━━━━━━━\u001b[0m\u001b[37m\u001b[0m \u001b[1m0s\u001b[0m 1ms/step\n",
      "\u001b[1m351/351\u001b[0m \u001b[32m━━━━━━━━━━━━━━━━━━━━\u001b[0m\u001b[37m\u001b[0m \u001b[1m1s\u001b[0m 1ms/step\n"
     ]
    },
    {
     "name": "stderr",
     "output_type": "stream",
     "text": [
      "[I 2025-02-21 16:58:36,994] Trial 76 finished with value: 2.4246920099355876e+16 and parameters: {'lr': 0.009172683874297826, 'hs': 15, 'dropout': 0.11555525283460373}. Best is trial 42 with value: 2.424690707554304e+16.\n"
     ]
    },
    {
     "name": "stdout",
     "output_type": "stream",
     "text": [
      "\u001b[1m351/351\u001b[0m \u001b[32m━━━━━━━━━━━━━━━━━━━━\u001b[0m\u001b[37m\u001b[0m \u001b[1m0s\u001b[0m 1ms/step\n",
      "\u001b[1m351/351\u001b[0m \u001b[32m━━━━━━━━━━━━━━━━━━━━\u001b[0m\u001b[37m\u001b[0m \u001b[1m1s\u001b[0m 1ms/step\n",
      "\u001b[1m351/351\u001b[0m \u001b[32m━━━━━━━━━━━━━━━━━━━━\u001b[0m\u001b[37m\u001b[0m \u001b[1m0s\u001b[0m 1ms/step  \n"
     ]
    },
    {
     "name": "stderr",
     "output_type": "stream",
     "text": [
      "[I 2025-02-21 16:59:05,156] Trial 77 finished with value: 2.4246923440780384e+16 and parameters: {'lr': 0.008394371185833258, 'hs': 16, 'dropout': 0.1302457525561786}. Best is trial 42 with value: 2.424690707554304e+16.\n"
     ]
    },
    {
     "name": "stdout",
     "output_type": "stream",
     "text": [
      "\u001b[1m351/351\u001b[0m \u001b[32m━━━━━━━━━━━━━━━━━━━━\u001b[0m\u001b[37m\u001b[0m \u001b[1m0s\u001b[0m 1ms/step\n",
      "\u001b[1m351/351\u001b[0m \u001b[32m━━━━━━━━━━━━━━━━━━━━\u001b[0m\u001b[37m\u001b[0m \u001b[1m0s\u001b[0m 1ms/step  \n",
      "\u001b[1m351/351\u001b[0m \u001b[32m━━━━━━━━━━━━━━━━━━━━\u001b[0m\u001b[37m\u001b[0m \u001b[1m0s\u001b[0m 1ms/step  \n"
     ]
    },
    {
     "name": "stderr",
     "output_type": "stream",
     "text": [
      "[I 2025-02-21 16:59:38,528] Trial 78 finished with value: 2.4246921528679236e+16 and parameters: {'lr': 0.008034565583759628, 'hs': 15, 'dropout': 0.12274802196421934}. Best is trial 42 with value: 2.424690707554304e+16.\n"
     ]
    },
    {
     "name": "stdout",
     "output_type": "stream",
     "text": [
      "\u001b[1m351/351\u001b[0m \u001b[32m━━━━━━━━━━━━━━━━━━━━\u001b[0m\u001b[37m\u001b[0m \u001b[1m0s\u001b[0m 1ms/step  \n",
      "\u001b[1m351/351\u001b[0m \u001b[32m━━━━━━━━━━━━━━━━━━━━\u001b[0m\u001b[37m\u001b[0m \u001b[1m0s\u001b[0m 1ms/step\n",
      "\u001b[1m351/351\u001b[0m \u001b[32m━━━━━━━━━━━━━━━━━━━━\u001b[0m\u001b[37m\u001b[0m \u001b[1m0s\u001b[0m 1ms/step  \n"
     ]
    },
    {
     "name": "stderr",
     "output_type": "stream",
     "text": [
      "[I 2025-02-21 17:00:19,612] Trial 79 finished with value: 2.424691519801448e+16 and parameters: {'lr': 0.009471042467780143, 'hs': 16, 'dropout': 0.11833078615039837}. Best is trial 42 with value: 2.424690707554304e+16.\n"
     ]
    },
    {
     "name": "stdout",
     "output_type": "stream",
     "text": [
      "\u001b[1m351/351\u001b[0m \u001b[32m━━━━━━━━━━━━━━━━━━━━\u001b[0m\u001b[37m\u001b[0m \u001b[1m0s\u001b[0m 1ms/step  \n",
      "\u001b[1m351/351\u001b[0m \u001b[32m━━━━━━━━━━━━━━━━━━━━\u001b[0m\u001b[37m\u001b[0m \u001b[1m0s\u001b[0m 1ms/step  \n",
      "\u001b[1m351/351\u001b[0m \u001b[32m━━━━━━━━━━━━━━━━━━━━\u001b[0m\u001b[37m\u001b[0m \u001b[1m0s\u001b[0m 1ms/step\n"
     ]
    },
    {
     "name": "stderr",
     "output_type": "stream",
     "text": [
      "[I 2025-02-21 17:00:57,114] Trial 80 finished with value: 2.4246919448041092e+16 and parameters: {'lr': 0.008640573707040746, 'hs': 16, 'dropout': 0.11464658916874933}. Best is trial 42 with value: 2.424690707554304e+16.\n"
     ]
    },
    {
     "name": "stdout",
     "output_type": "stream",
     "text": [
      "\u001b[1m351/351\u001b[0m \u001b[32m━━━━━━━━━━━━━━━━━━━━\u001b[0m\u001b[37m\u001b[0m \u001b[1m0s\u001b[0m 1ms/step  \n",
      "\u001b[1m351/351\u001b[0m \u001b[32m━━━━━━━━━━━━━━━━━━━━\u001b[0m\u001b[37m\u001b[0m \u001b[1m0s\u001b[0m 1ms/step  \n",
      "\u001b[1m351/351\u001b[0m \u001b[32m━━━━━━━━━━━━━━━━━━━━\u001b[0m\u001b[37m\u001b[0m \u001b[1m0s\u001b[0m 1ms/step\n"
     ]
    },
    {
     "name": "stderr",
     "output_type": "stream",
     "text": [
      "[I 2025-02-21 17:01:44,798] Trial 81 finished with value: 2.424691531632507e+16 and parameters: {'lr': 0.009614057762227738, 'hs': 16, 'dropout': 0.11898203489746606}. Best is trial 42 with value: 2.424690707554304e+16.\n"
     ]
    },
    {
     "name": "stdout",
     "output_type": "stream",
     "text": [
      "\u001b[1m351/351\u001b[0m \u001b[32m━━━━━━━━━━━━━━━━━━━━\u001b[0m\u001b[37m\u001b[0m \u001b[1m0s\u001b[0m 1ms/step  \n",
      "\u001b[1m351/351\u001b[0m \u001b[32m━━━━━━━━━━━━━━━━━━━━\u001b[0m\u001b[37m\u001b[0m \u001b[1m0s\u001b[0m 1ms/step\n",
      "\u001b[1m351/351\u001b[0m \u001b[32m━━━━━━━━━━━━━━━━━━━━\u001b[0m\u001b[37m\u001b[0m \u001b[1m0s\u001b[0m 1ms/step\n"
     ]
    },
    {
     "name": "stderr",
     "output_type": "stream",
     "text": [
      "[I 2025-02-21 17:02:28,052] Trial 82 finished with value: 2.4246916750233676e+16 and parameters: {'lr': 0.009417718732439524, 'hs': 16, 'dropout': 0.11951808210002594}. Best is trial 42 with value: 2.424690707554304e+16.\n"
     ]
    },
    {
     "name": "stdout",
     "output_type": "stream",
     "text": [
      "\u001b[1m351/351\u001b[0m \u001b[32m━━━━━━━━━━━━━━━━━━━━\u001b[0m\u001b[37m\u001b[0m \u001b[1m1s\u001b[0m 1ms/step\n",
      "\u001b[1m351/351\u001b[0m \u001b[32m━━━━━━━━━━━━━━━━━━━━\u001b[0m\u001b[37m\u001b[0m \u001b[1m0s\u001b[0m 1ms/step\n",
      "\u001b[1m351/351\u001b[0m \u001b[32m━━━━━━━━━━━━━━━━━━━━\u001b[0m\u001b[37m\u001b[0m \u001b[1m1s\u001b[0m 1ms/step\n"
     ]
    },
    {
     "name": "stderr",
     "output_type": "stream",
     "text": [
      "[I 2025-02-21 17:03:11,415] Trial 83 finished with value: 2.4246917192953428e+16 and parameters: {'lr': 0.00896477713570809, 'hs': 16, 'dropout': 0.11069257705352316}. Best is trial 42 with value: 2.424690707554304e+16.\n"
     ]
    },
    {
     "name": "stdout",
     "output_type": "stream",
     "text": [
      "\u001b[1m351/351\u001b[0m \u001b[32m━━━━━━━━━━━━━━━━━━━━\u001b[0m\u001b[37m\u001b[0m \u001b[1m0s\u001b[0m 1ms/step\n",
      "\u001b[1m351/351\u001b[0m \u001b[32m━━━━━━━━━━━━━━━━━━━━\u001b[0m\u001b[37m\u001b[0m \u001b[1m1s\u001b[0m 1ms/step\n",
      "\u001b[1m351/351\u001b[0m \u001b[32m━━━━━━━━━━━━━━━━━━━━\u001b[0m\u001b[37m\u001b[0m \u001b[1m1s\u001b[0m 1ms/step\n"
     ]
    },
    {
     "name": "stderr",
     "output_type": "stream",
     "text": [
      "[I 2025-02-21 17:03:50,545] Trial 84 finished with value: 2.4246918150583372e+16 and parameters: {'lr': 0.009187544192103839, 'hs': 15, 'dropout': 0.11786627037740968}. Best is trial 42 with value: 2.424690707554304e+16.\n"
     ]
    },
    {
     "name": "stdout",
     "output_type": "stream",
     "text": [
      "\u001b[1m351/351\u001b[0m \u001b[32m━━━━━━━━━━━━━━━━━━━━\u001b[0m\u001b[37m\u001b[0m \u001b[1m0s\u001b[0m 1ms/step  \n",
      "\u001b[1m351/351\u001b[0m \u001b[32m━━━━━━━━━━━━━━━━━━━━\u001b[0m\u001b[37m\u001b[0m \u001b[1m0s\u001b[0m 1ms/step\n",
      "\u001b[1m351/351\u001b[0m \u001b[32m━━━━━━━━━━━━━━━━━━━━\u001b[0m\u001b[37m\u001b[0m \u001b[1m0s\u001b[0m 1ms/step  \n"
     ]
    },
    {
     "name": "stderr",
     "output_type": "stream",
     "text": [
      "[I 2025-02-21 17:04:29,184] Trial 85 finished with value: 2.4246919327964828e+16 and parameters: {'lr': 0.008381555254991568, 'hs': 16, 'dropout': 0.1376957944082463}. Best is trial 42 with value: 2.424690707554304e+16.\n"
     ]
    },
    {
     "name": "stdout",
     "output_type": "stream",
     "text": [
      "\u001b[1m351/351\u001b[0m \u001b[32m━━━━━━━━━━━━━━━━━━━━\u001b[0m\u001b[37m\u001b[0m \u001b[1m0s\u001b[0m 1ms/step  \n",
      "\u001b[1m351/351\u001b[0m \u001b[32m━━━━━━━━━━━━━━━━━━━━\u001b[0m\u001b[37m\u001b[0m \u001b[1m0s\u001b[0m 1ms/step\n",
      "\u001b[1m351/351\u001b[0m \u001b[32m━━━━━━━━━━━━━━━━━━━━\u001b[0m\u001b[37m\u001b[0m \u001b[1m0s\u001b[0m 1ms/step\n"
     ]
    },
    {
     "name": "stderr",
     "output_type": "stream",
     "text": [
      "[I 2025-02-21 17:05:05,813] Trial 86 finished with value: 2.4246918497066036e+16 and parameters: {'lr': 0.009608908424061546, 'hs': 16, 'dropout': 0.11222909680937809}. Best is trial 42 with value: 2.424690707554304e+16.\n"
     ]
    },
    {
     "name": "stdout",
     "output_type": "stream",
     "text": [
      "\u001b[1m351/351\u001b[0m \u001b[32m━━━━━━━━━━━━━━━━━━━━\u001b[0m\u001b[37m\u001b[0m \u001b[1m0s\u001b[0m 1ms/step  \n",
      "\u001b[1m351/351\u001b[0m \u001b[32m━━━━━━━━━━━━━━━━━━━━\u001b[0m\u001b[37m\u001b[0m \u001b[1m0s\u001b[0m 1ms/step\n",
      "\u001b[1m351/351\u001b[0m \u001b[32m━━━━━━━━━━━━━━━━━━━━\u001b[0m\u001b[37m\u001b[0m \u001b[1m0s\u001b[0m 1ms/step\n"
     ]
    },
    {
     "name": "stderr",
     "output_type": "stream",
     "text": [
      "[I 2025-02-21 17:05:52,008] Trial 87 finished with value: 2.4246918924738736e+16 and parameters: {'lr': 0.007137023896214734, 'hs': 15, 'dropout': 0.10135149088840414}. Best is trial 42 with value: 2.424690707554304e+16.\n"
     ]
    },
    {
     "name": "stdout",
     "output_type": "stream",
     "text": [
      "\u001b[1m351/351\u001b[0m \u001b[32m━━━━━━━━━━━━━━━━━━━━\u001b[0m\u001b[37m\u001b[0m \u001b[1m1s\u001b[0m 1ms/step\n",
      "\u001b[1m351/351\u001b[0m \u001b[32m━━━━━━━━━━━━━━━━━━━━\u001b[0m\u001b[37m\u001b[0m \u001b[1m0s\u001b[0m 1ms/step\n",
      "\u001b[1m351/351\u001b[0m \u001b[32m━━━━━━━━━━━━━━━━━━━━\u001b[0m\u001b[37m\u001b[0m \u001b[1m0s\u001b[0m 1ms/step  \n"
     ]
    },
    {
     "name": "stderr",
     "output_type": "stream",
     "text": [
      "[I 2025-02-21 17:06:23,722] Trial 88 finished with value: 2.4246929350604844e+16 and parameters: {'lr': 0.007851538308313519, 'hs': 4, 'dropout': 0.12283881159185}. Best is trial 42 with value: 2.424690707554304e+16.\n"
     ]
    },
    {
     "name": "stdout",
     "output_type": "stream",
     "text": [
      "\u001b[1m351/351\u001b[0m \u001b[32m━━━━━━━━━━━━━━━━━━━━\u001b[0m\u001b[37m\u001b[0m \u001b[1m1s\u001b[0m 1ms/step\n",
      "\u001b[1m351/351\u001b[0m \u001b[32m━━━━━━━━━━━━━━━━━━━━\u001b[0m\u001b[37m\u001b[0m \u001b[1m1s\u001b[0m 1ms/step\n",
      "\u001b[1m351/351\u001b[0m \u001b[32m━━━━━━━━━━━━━━━━━━━━\u001b[0m\u001b[37m\u001b[0m \u001b[1m0s\u001b[0m 1ms/step  \n"
     ]
    },
    {
     "name": "stderr",
     "output_type": "stream",
     "text": [
      "[I 2025-02-21 17:07:06,213] Trial 89 finished with value: 2.424692059941232e+16 and parameters: {'lr': 0.007522184834097448, 'hs': 16, 'dropout': 0.1457521877814698}. Best is trial 42 with value: 2.424690707554304e+16.\n"
     ]
    },
    {
     "name": "stdout",
     "output_type": "stream",
     "text": [
      "\u001b[1m351/351\u001b[0m \u001b[32m━━━━━━━━━━━━━━━━━━━━\u001b[0m\u001b[37m\u001b[0m \u001b[1m0s\u001b[0m 1ms/step\n",
      "\u001b[1m351/351\u001b[0m \u001b[32m━━━━━━━━━━━━━━━━━━━━\u001b[0m\u001b[37m\u001b[0m \u001b[1m1s\u001b[0m 1ms/step\n",
      "\u001b[1m351/351\u001b[0m \u001b[32m━━━━━━━━━━━━━━━━━━━━\u001b[0m\u001b[37m\u001b[0m \u001b[1m0s\u001b[0m 1ms/step\n"
     ]
    },
    {
     "name": "stderr",
     "output_type": "stream",
     "text": [
      "[I 2025-02-21 17:08:04,897] Trial 90 finished with value: 2.4246914049958932e+16 and parameters: {'lr': 0.00908731898908721, 'hs': 14, 'dropout': 0.11802221894392619}. Best is trial 42 with value: 2.424690707554304e+16.\n"
     ]
    },
    {
     "name": "stdout",
     "output_type": "stream",
     "text": [
      "\u001b[1m351/351\u001b[0m \u001b[32m━━━━━━━━━━━━━━━━━━━━\u001b[0m\u001b[37m\u001b[0m \u001b[1m0s\u001b[0m 1ms/step\n",
      "\u001b[1m351/351\u001b[0m \u001b[32m━━━━━━━━━━━━━━━━━━━━\u001b[0m\u001b[37m\u001b[0m \u001b[1m0s\u001b[0m 1ms/step  \n",
      "\u001b[1m351/351\u001b[0m \u001b[32m━━━━━━━━━━━━━━━━━━━━\u001b[0m\u001b[37m\u001b[0m \u001b[1m0s\u001b[0m 1ms/step  \n"
     ]
    },
    {
     "name": "stderr",
     "output_type": "stream",
     "text": [
      "[I 2025-02-21 17:08:41,831] Trial 91 finished with value: 2.424692184455509e+16 and parameters: {'lr': 0.009080193516775886, 'hs': 14, 'dropout': 0.11656315400658894}. Best is trial 42 with value: 2.424690707554304e+16.\n"
     ]
    },
    {
     "name": "stdout",
     "output_type": "stream",
     "text": [
      "\u001b[1m351/351\u001b[0m \u001b[32m━━━━━━━━━━━━━━━━━━━━\u001b[0m\u001b[37m\u001b[0m \u001b[1m0s\u001b[0m 1ms/step\n",
      "\u001b[1m351/351\u001b[0m \u001b[32m━━━━━━━━━━━━━━━━━━━━\u001b[0m\u001b[37m\u001b[0m \u001b[1m0s\u001b[0m 1ms/step\n",
      "\u001b[1m351/351\u001b[0m \u001b[32m━━━━━━━━━━━━━━━━━━━━\u001b[0m\u001b[37m\u001b[0m \u001b[1m1s\u001b[0m 1ms/step\n"
     ]
    },
    {
     "name": "stderr",
     "output_type": "stream",
     "text": [
      "[I 2025-02-21 17:09:18,522] Trial 92 finished with value: 2.4246920856385292e+16 and parameters: {'lr': 0.008756512213346074, 'hs': 15, 'dropout': 0.1337745640716441}. Best is trial 42 with value: 2.424690707554304e+16.\n"
     ]
    },
    {
     "name": "stdout",
     "output_type": "stream",
     "text": [
      "\u001b[1m351/351\u001b[0m \u001b[32m━━━━━━━━━━━━━━━━━━━━\u001b[0m\u001b[37m\u001b[0m \u001b[1m0s\u001b[0m 1ms/step  \n",
      "\u001b[1m351/351\u001b[0m \u001b[32m━━━━━━━━━━━━━━━━━━━━\u001b[0m\u001b[37m\u001b[0m \u001b[1m0s\u001b[0m 994us/step\n",
      "\u001b[1m351/351\u001b[0m \u001b[32m━━━━━━━━━━━━━━━━━━━━\u001b[0m\u001b[37m\u001b[0m \u001b[1m1s\u001b[0m 1ms/step\n"
     ]
    },
    {
     "name": "stderr",
     "output_type": "stream",
     "text": [
      "[I 2025-02-21 17:10:09,683] Trial 93 finished with value: 2.4246913752062356e+16 and parameters: {'lr': 0.009445837424555495, 'hs': 15, 'dropout': 0.12433666976659763}. Best is trial 42 with value: 2.424690707554304e+16.\n"
     ]
    },
    {
     "name": "stdout",
     "output_type": "stream",
     "text": [
      "\u001b[1m351/351\u001b[0m \u001b[32m━━━━━━━━━━━━━━━━━━━━\u001b[0m\u001b[37m\u001b[0m \u001b[1m0s\u001b[0m 1ms/step\n",
      "\u001b[1m351/351\u001b[0m \u001b[32m━━━━━━━━━━━━━━━━━━━━\u001b[0m\u001b[37m\u001b[0m \u001b[1m0s\u001b[0m 1ms/step\n",
      "\u001b[1m351/351\u001b[0m \u001b[32m━━━━━━━━━━━━━━━━━━━━\u001b[0m\u001b[37m\u001b[0m \u001b[1m0s\u001b[0m 1ms/step\n"
     ]
    },
    {
     "name": "stderr",
     "output_type": "stream",
     "text": [
      "[I 2025-02-21 17:10:36,612] Trial 94 finished with value: 2.4246923560265204e+16 and parameters: {'lr': 0.009457318403953618, 'hs': 15, 'dropout': 0.12385487496128089}. Best is trial 42 with value: 2.424690707554304e+16.\n"
     ]
    },
    {
     "name": "stdout",
     "output_type": "stream",
     "text": [
      "\u001b[1m351/351\u001b[0m \u001b[32m━━━━━━━━━━━━━━━━━━━━\u001b[0m\u001b[37m\u001b[0m \u001b[1m0s\u001b[0m 1ms/step\n",
      "\u001b[1m351/351\u001b[0m \u001b[32m━━━━━━━━━━━━━━━━━━━━\u001b[0m\u001b[37m\u001b[0m \u001b[1m0s\u001b[0m 1ms/step\n",
      "\u001b[1m351/351\u001b[0m \u001b[32m━━━━━━━━━━━━━━━━━━━━\u001b[0m\u001b[37m\u001b[0m \u001b[1m0s\u001b[0m 1ms/step\n"
     ]
    },
    {
     "name": "stderr",
     "output_type": "stream",
     "text": [
      "[I 2025-02-21 17:11:23,493] Trial 95 finished with value: 2.4246915672513884e+16 and parameters: {'lr': 0.009748492584925116, 'hs': 14, 'dropout': 0.10703517581031492}. Best is trial 42 with value: 2.424690707554304e+16.\n"
     ]
    },
    {
     "name": "stdout",
     "output_type": "stream",
     "text": [
      "\u001b[1m351/351\u001b[0m \u001b[32m━━━━━━━━━━━━━━━━━━━━\u001b[0m\u001b[37m\u001b[0m \u001b[1m0s\u001b[0m 1ms/step  \n",
      "\u001b[1m351/351\u001b[0m \u001b[32m━━━━━━━━━━━━━━━━━━━━\u001b[0m\u001b[37m\u001b[0m \u001b[1m0s\u001b[0m 1ms/step\n",
      "\u001b[1m351/351\u001b[0m \u001b[32m━━━━━━━━━━━━━━━━━━━━\u001b[0m\u001b[37m\u001b[0m \u001b[1m1s\u001b[0m 1ms/step\n"
     ]
    },
    {
     "name": "stderr",
     "output_type": "stream",
     "text": [
      "[I 2025-02-21 17:12:12,498] Trial 96 finished with value: 2.4246917292771812e+16 and parameters: {'lr': 0.009300970739973621, 'hs': 14, 'dropout': 0.11946195281959329}. Best is trial 42 with value: 2.424690707554304e+16.\n"
     ]
    },
    {
     "name": "stdout",
     "output_type": "stream",
     "text": [
      "\u001b[1m351/351\u001b[0m \u001b[32m━━━━━━━━━━━━━━━━━━━━\u001b[0m\u001b[37m\u001b[0m \u001b[1m1s\u001b[0m 1ms/step\n",
      "\u001b[1m351/351\u001b[0m \u001b[32m━━━━━━━━━━━━━━━━━━━━\u001b[0m\u001b[37m\u001b[0m \u001b[1m0s\u001b[0m 1ms/step\n",
      "\u001b[1m351/351\u001b[0m \u001b[32m━━━━━━━━━━━━━━━━━━━━\u001b[0m\u001b[37m\u001b[0m \u001b[1m1s\u001b[0m 1ms/step\n"
     ]
    },
    {
     "name": "stderr",
     "output_type": "stream",
     "text": [
      "[I 2025-02-21 17:12:57,601] Trial 97 finished with value: 2.424691782362976e+16 and parameters: {'lr': 0.009813802042882862, 'hs': 15, 'dropout': 0.11158604120715493}. Best is trial 42 with value: 2.424690707554304e+16.\n"
     ]
    },
    {
     "name": "stdout",
     "output_type": "stream",
     "text": [
      "\u001b[1m351/351\u001b[0m \u001b[32m━━━━━━━━━━━━━━━━━━━━\u001b[0m\u001b[37m\u001b[0m \u001b[1m1s\u001b[0m 1ms/step\n",
      "\u001b[1m351/351\u001b[0m \u001b[32m━━━━━━━━━━━━━━━━━━━━\u001b[0m\u001b[37m\u001b[0m \u001b[1m0s\u001b[0m 1ms/step\n",
      "\u001b[1m351/351\u001b[0m \u001b[32m━━━━━━━━━━━━━━━━━━━━\u001b[0m\u001b[37m\u001b[0m \u001b[1m1s\u001b[0m 1ms/step\n"
     ]
    },
    {
     "name": "stderr",
     "output_type": "stream",
     "text": [
      "[I 2025-02-21 17:13:40,427] Trial 98 finished with value: 2.4246920470362484e+16 and parameters: {'lr': 0.008780214630500894, 'hs': 15, 'dropout': 0.1293282309380443}. Best is trial 42 with value: 2.424690707554304e+16.\n"
     ]
    },
    {
     "name": "stdout",
     "output_type": "stream",
     "text": [
      "\u001b[1m351/351\u001b[0m \u001b[32m━━━━━━━━━━━━━━━━━━━━\u001b[0m\u001b[37m\u001b[0m \u001b[1m0s\u001b[0m 1ms/step\n",
      "\u001b[1m351/351\u001b[0m \u001b[32m━━━━━━━━━━━━━━━━━━━━\u001b[0m\u001b[37m\u001b[0m \u001b[1m0s\u001b[0m 1ms/step\n",
      "\u001b[1m351/351\u001b[0m \u001b[32m━━━━━━━━━━━━━━━━━━━━\u001b[0m\u001b[37m\u001b[0m \u001b[1m0s\u001b[0m 998us/step\n"
     ]
    },
    {
     "name": "stderr",
     "output_type": "stream",
     "text": [
      "[I 2025-02-21 17:14:15,431] Trial 99 finished with value: 2.424692938484224e+16 and parameters: {'lr': 0.0022248753257323403, 'hs': 13, 'dropout': 0.1250223096201434}. Best is trial 42 with value: 2.424690707554304e+16.\n"
     ]
    },
    {
     "name": "stdout",
     "output_type": "stream",
     "text": [
      "\u001b[1m519/519\u001b[0m \u001b[32m━━━━━━━━━━━━━━━━━━━━\u001b[0m\u001b[37m\u001b[0m \u001b[1m1s\u001b[0m 925us/step\n"
     ]
    },
    {
     "name": "stderr",
     "output_type": "stream",
     "text": [
      "[I 2025-02-21 17:14:58,526] A new study created in memory with name: no-name-8d9529d8-ffb1-40b2-8832-7965bcb6c633\n"
     ]
    },
    {
     "name": "stdout",
     "output_type": "stream",
     "text": [
      "name 'ds_name' is not defined\n",
      "\u001b[1m351/351\u001b[0m \u001b[32m━━━━━━━━━━━━━━━━━━━━\u001b[0m\u001b[37m\u001b[0m \u001b[1m1s\u001b[0m 1ms/step\n",
      "\u001b[1m351/351\u001b[0m \u001b[32m━━━━━━━━━━━━━━━━━━━━\u001b[0m\u001b[37m\u001b[0m \u001b[1m1s\u001b[0m 1ms/step\n",
      "\u001b[1m351/351\u001b[0m \u001b[32m━━━━━━━━━━━━━━━━━━━━\u001b[0m\u001b[37m\u001b[0m \u001b[1m1s\u001b[0m 1ms/step\n"
     ]
    },
    {
     "name": "stderr",
     "output_type": "stream",
     "text": [
      "[I 2025-02-21 17:15:39,868] Trial 0 finished with value: 2.4246929861227948e+16 and parameters: {'lr': 0.004912420722654109, 'hs': 4, 'dropout': 0.13469773743546448}. Best is trial 0 with value: 2.4246929861227948e+16.\n"
     ]
    },
    {
     "name": "stdout",
     "output_type": "stream",
     "text": [
      "\u001b[1m351/351\u001b[0m \u001b[32m━━━━━━━━━━━━━━━━━━━━\u001b[0m\u001b[37m\u001b[0m \u001b[1m0s\u001b[0m 1ms/step\n",
      "\u001b[1m351/351\u001b[0m \u001b[32m━━━━━━━━━━━━━━━━━━━━\u001b[0m\u001b[37m\u001b[0m \u001b[1m1s\u001b[0m 1ms/step\n",
      "\u001b[1m351/351\u001b[0m \u001b[32m━━━━━━━━━━━━━━━━━━━━\u001b[0m\u001b[37m\u001b[0m \u001b[1m1s\u001b[0m 1ms/step\n"
     ]
    },
    {
     "name": "stderr",
     "output_type": "stream",
     "text": [
      "[I 2025-02-21 17:16:07,554] Trial 1 finished with value: 2.424693203109224e+16 and parameters: {'lr': 0.00011988744154425945, 'hs': 3, 'dropout': 0.17555004524286133}. Best is trial 0 with value: 2.4246929861227948e+16.\n"
     ]
    },
    {
     "name": "stdout",
     "output_type": "stream",
     "text": [
      "\u001b[1m351/351\u001b[0m \u001b[32m━━━━━━━━━━━━━━━━━━━━\u001b[0m\u001b[37m\u001b[0m \u001b[1m1s\u001b[0m 1ms/step\n",
      "\u001b[1m351/351\u001b[0m \u001b[32m━━━━━━━━━━━━━━━━━━━━\u001b[0m\u001b[37m\u001b[0m \u001b[1m1s\u001b[0m 1ms/step\n",
      "\u001b[1m351/351\u001b[0m \u001b[32m━━━━━━━━━━━━━━━━━━━━\u001b[0m\u001b[37m\u001b[0m \u001b[1m1s\u001b[0m 1ms/step\n"
     ]
    },
    {
     "name": "stderr",
     "output_type": "stream",
     "text": [
      "[I 2025-02-21 17:16:39,567] Trial 2 finished with value: 2.4246930573428116e+16 and parameters: {'lr': 0.0019081329378191755, 'hs': 10, 'dropout': 0.09350374894537289}. Best is trial 0 with value: 2.4246929861227948e+16.\n"
     ]
    },
    {
     "name": "stdout",
     "output_type": "stream",
     "text": [
      "\u001b[1m351/351\u001b[0m \u001b[32m━━━━━━━━━━━━━━━━━━━━\u001b[0m\u001b[37m\u001b[0m \u001b[1m1s\u001b[0m 1ms/step\n",
      "\u001b[1m351/351\u001b[0m \u001b[32m━━━━━━━━━━━━━━━━━━━━\u001b[0m\u001b[37m\u001b[0m \u001b[1m1s\u001b[0m 1ms/step\n",
      "\u001b[1m351/351\u001b[0m \u001b[32m━━━━━━━━━━━━━━━━━━━━\u001b[0m\u001b[37m\u001b[0m \u001b[1m1s\u001b[0m 1ms/step\n"
     ]
    },
    {
     "name": "stderr",
     "output_type": "stream",
     "text": [
      "[I 2025-02-21 17:17:26,831] Trial 3 finished with value: 2.4246920331884508e+16 and parameters: {'lr': 0.009850928588746994, 'hs': 11, 'dropout': 0.15374404682950327}. Best is trial 3 with value: 2.4246920331884508e+16.\n"
     ]
    },
    {
     "name": "stdout",
     "output_type": "stream",
     "text": [
      "\u001b[1m351/351\u001b[0m \u001b[32m━━━━━━━━━━━━━━━━━━━━\u001b[0m\u001b[37m\u001b[0m \u001b[1m1s\u001b[0m 1ms/step\n",
      "\u001b[1m351/351\u001b[0m \u001b[32m━━━━━━━━━━━━━━━━━━━━\u001b[0m\u001b[37m\u001b[0m \u001b[1m1s\u001b[0m 1ms/step\n",
      "\u001b[1m351/351\u001b[0m \u001b[32m━━━━━━━━━━━━━━━━━━━━\u001b[0m\u001b[37m\u001b[0m \u001b[1m1s\u001b[0m 1ms/step\n"
     ]
    },
    {
     "name": "stderr",
     "output_type": "stream",
     "text": [
      "[I 2025-02-21 17:18:27,401] Trial 4 finished with value: 2.4246928371079644e+16 and parameters: {'lr': 0.0017827731395359436, 'hs': 16, 'dropout': 0.1927094012280655}. Best is trial 3 with value: 2.4246920331884508e+16.\n"
     ]
    },
    {
     "name": "stdout",
     "output_type": "stream",
     "text": [
      "\u001b[1m351/351\u001b[0m \u001b[32m━━━━━━━━━━━━━━━━━━━━\u001b[0m\u001b[37m\u001b[0m \u001b[1m1s\u001b[0m 1ms/step\n",
      "\u001b[1m351/351\u001b[0m \u001b[32m━━━━━━━━━━━━━━━━━━━━\u001b[0m\u001b[37m\u001b[0m \u001b[1m1s\u001b[0m 1ms/step\n",
      "\u001b[1m351/351\u001b[0m \u001b[32m━━━━━━━━━━━━━━━━━━━━\u001b[0m\u001b[37m\u001b[0m \u001b[1m1s\u001b[0m 1ms/step\n"
     ]
    },
    {
     "name": "stderr",
     "output_type": "stream",
     "text": [
      "[I 2025-02-21 17:19:26,930] Trial 5 finished with value: 2.4246918655861748e+16 and parameters: {'lr': 0.008559611245229342, 'hs': 11, 'dropout': 0.14272071720000895}. Best is trial 5 with value: 2.4246918655861748e+16.\n"
     ]
    },
    {
     "name": "stdout",
     "output_type": "stream",
     "text": [
      "\u001b[1m351/351\u001b[0m \u001b[32m━━━━━━━━━━━━━━━━━━━━\u001b[0m\u001b[37m\u001b[0m \u001b[1m1s\u001b[0m 1ms/step\n",
      "\u001b[1m351/351\u001b[0m \u001b[32m━━━━━━━━━━━━━━━━━━━━\u001b[0m\u001b[37m\u001b[0m \u001b[1m1s\u001b[0m 1ms/step\n",
      "\u001b[1m351/351\u001b[0m \u001b[32m━━━━━━━━━━━━━━━━━━━━\u001b[0m\u001b[37m\u001b[0m \u001b[1m1s\u001b[0m 1ms/step\n"
     ]
    },
    {
     "name": "stderr",
     "output_type": "stream",
     "text": [
      "[I 2025-02-21 17:20:02,248] Trial 6 finished with value: 2.4246922020262176e+16 and parameters: {'lr': 0.008054162705372675, 'hs': 15, 'dropout': 0.09465381703594314}. Best is trial 5 with value: 2.4246918655861748e+16.\n"
     ]
    },
    {
     "name": "stdout",
     "output_type": "stream",
     "text": [
      "\u001b[1m351/351\u001b[0m \u001b[32m━━━━━━━━━━━━━━━━━━━━\u001b[0m\u001b[37m\u001b[0m \u001b[1m1s\u001b[0m 1ms/step\n",
      "\u001b[1m351/351\u001b[0m \u001b[32m━━━━━━━━━━━━━━━━━━━━\u001b[0m\u001b[37m\u001b[0m \u001b[1m1s\u001b[0m 1ms/step\n",
      "\u001b[1m351/351\u001b[0m \u001b[32m━━━━━━━━━━━━━━━━━━━━\u001b[0m\u001b[37m\u001b[0m \u001b[1m1s\u001b[0m 1ms/step\n"
     ]
    },
    {
     "name": "stderr",
     "output_type": "stream",
     "text": [
      "[I 2025-02-21 17:20:35,818] Trial 7 finished with value: 2.4246927148813536e+16 and parameters: {'lr': 0.005224040328228324, 'hs': 9, 'dropout': 0.19375715157673}. Best is trial 5 with value: 2.4246918655861748e+16.\n"
     ]
    },
    {
     "name": "stdout",
     "output_type": "stream",
     "text": [
      "\u001b[1m351/351\u001b[0m \u001b[32m━━━━━━━━━━━━━━━━━━━━\u001b[0m\u001b[37m\u001b[0m \u001b[1m0s\u001b[0m 1ms/step\n",
      "\u001b[1m351/351\u001b[0m \u001b[32m━━━━━━━━━━━━━━━━━━━━\u001b[0m\u001b[37m\u001b[0m \u001b[1m0s\u001b[0m 1ms/step\n",
      "\u001b[1m351/351\u001b[0m \u001b[32m━━━━━━━━━━━━━━━━━━━━\u001b[0m\u001b[37m\u001b[0m \u001b[1m0s\u001b[0m 1ms/step\n"
     ]
    },
    {
     "name": "stderr",
     "output_type": "stream",
     "text": [
      "[I 2025-02-21 17:21:17,237] Trial 8 finished with value: 2.424692362231808e+16 and parameters: {'lr': 0.005368332624256668, 'hs': 13, 'dropout': 0.08131439852446559}. Best is trial 5 with value: 2.4246918655861748e+16.\n"
     ]
    },
    {
     "name": "stdout",
     "output_type": "stream",
     "text": [
      "\u001b[1m351/351\u001b[0m \u001b[32m━━━━━━━━━━━━━━━━━━━━\u001b[0m\u001b[37m\u001b[0m \u001b[1m0s\u001b[0m 1ms/step\n",
      "\u001b[1m351/351\u001b[0m \u001b[32m━━━━━━━━━━━━━━━━━━━━\u001b[0m\u001b[37m\u001b[0m \u001b[1m1s\u001b[0m 1ms/step\n",
      "\u001b[1m351/351\u001b[0m \u001b[32m━━━━━━━━━━━━━━━━━━━━\u001b[0m\u001b[37m\u001b[0m \u001b[1m1s\u001b[0m 1ms/step\n"
     ]
    },
    {
     "name": "stderr",
     "output_type": "stream",
     "text": [
      "[I 2025-02-21 17:21:50,189] Trial 9 finished with value: 2.424693177045616e+16 and parameters: {'lr': 0.0005592038210514095, 'hs': 7, 'dropout': 0.13200825994864013}. Best is trial 5 with value: 2.4246918655861748e+16.\n"
     ]
    },
    {
     "name": "stdout",
     "output_type": "stream",
     "text": [
      "\u001b[1m351/351\u001b[0m \u001b[32m━━━━━━━━━━━━━━━━━━━━\u001b[0m\u001b[37m\u001b[0m \u001b[1m1s\u001b[0m 1ms/step\n",
      "\u001b[1m351/351\u001b[0m \u001b[32m━━━━━━━━━━━━━━━━━━━━\u001b[0m\u001b[37m\u001b[0m \u001b[1m1s\u001b[0m 1ms/step\n",
      "\u001b[1m351/351\u001b[0m \u001b[32m━━━━━━━━━━━━━━━━━━━━\u001b[0m\u001b[37m\u001b[0m \u001b[1m1s\u001b[0m 1ms/step\n"
     ]
    },
    {
     "name": "stderr",
     "output_type": "stream",
     "text": [
      "[I 2025-02-21 17:22:25,809] Trial 10 finished with value: 2.4246927306037052e+16 and parameters: {'lr': 0.007611796114228428, 'hs': 6, 'dropout': 0.05040372937441839}. Best is trial 5 with value: 2.4246918655861748e+16.\n"
     ]
    },
    {
     "name": "stdout",
     "output_type": "stream",
     "text": [
      "\u001b[1m351/351\u001b[0m \u001b[32m━━━━━━━━━━━━━━━━━━━━\u001b[0m\u001b[37m\u001b[0m \u001b[1m0s\u001b[0m 1ms/step\n",
      "\u001b[1m351/351\u001b[0m \u001b[32m━━━━━━━━━━━━━━━━━━━━\u001b[0m\u001b[37m\u001b[0m \u001b[1m1s\u001b[0m 1ms/step\n",
      "\u001b[1m351/351\u001b[0m \u001b[32m━━━━━━━━━━━━━━━━━━━━\u001b[0m\u001b[37m\u001b[0m \u001b[1m1s\u001b[0m 1ms/step\n"
     ]
    },
    {
     "name": "stderr",
     "output_type": "stream",
     "text": [
      "[I 2025-02-21 17:23:14,088] Trial 11 finished with value: 2.424691704832402e+16 and parameters: {'lr': 0.009871552923080996, 'hs': 12, 'dropout': 0.15696161940673764}. Best is trial 11 with value: 2.424691704832402e+16.\n"
     ]
    },
    {
     "name": "stdout",
     "output_type": "stream",
     "text": [
      "\u001b[1m351/351\u001b[0m \u001b[32m━━━━━━━━━━━━━━━━━━━━\u001b[0m\u001b[37m\u001b[0m \u001b[1m1s\u001b[0m 1ms/step\n",
      "\u001b[1m351/351\u001b[0m \u001b[32m━━━━━━━━━━━━━━━━━━━━\u001b[0m\u001b[37m\u001b[0m \u001b[1m1s\u001b[0m 1ms/step\n",
      "\u001b[1m351/351\u001b[0m \u001b[32m━━━━━━━━━━━━━━━━━━━━\u001b[0m\u001b[37m\u001b[0m \u001b[1m0s\u001b[0m 1ms/step\n"
     ]
    },
    {
     "name": "stderr",
     "output_type": "stream",
     "text": [
      "[I 2025-02-21 17:23:59,849] Trial 12 finished with value: 2.4246917408802304e+16 and parameters: {'lr': 0.009563255835368389, 'hs': 13, 'dropout': 0.1591031567493693}. Best is trial 11 with value: 2.424691704832402e+16.\n"
     ]
    },
    {
     "name": "stdout",
     "output_type": "stream",
     "text": [
      "\u001b[1m351/351\u001b[0m \u001b[32m━━━━━━━━━━━━━━━━━━━━\u001b[0m\u001b[37m\u001b[0m \u001b[1m1s\u001b[0m 1ms/step\n",
      "\u001b[1m351/351\u001b[0m \u001b[32m━━━━━━━━━━━━━━━━━━━━\u001b[0m\u001b[37m\u001b[0m \u001b[1m1s\u001b[0m 1ms/step\n",
      "\u001b[1m351/351\u001b[0m \u001b[32m━━━━━━━━━━━━━━━━━━━━\u001b[0m\u001b[37m\u001b[0m \u001b[1m1s\u001b[0m 1ms/step\n"
     ]
    },
    {
     "name": "stderr",
     "output_type": "stream",
     "text": [
      "[I 2025-02-21 17:24:35,922] Trial 13 finished with value: 2.4246921552223372e+16 and parameters: {'lr': 0.009962545589252483, 'hs': 13, 'dropout': 0.1557194444249682}. Best is trial 11 with value: 2.424691704832402e+16.\n"
     ]
    },
    {
     "name": "stdout",
     "output_type": "stream",
     "text": [
      "\u001b[1m351/351\u001b[0m \u001b[32m━━━━━━━━━━━━━━━━━━━━\u001b[0m\u001b[37m\u001b[0m \u001b[1m1s\u001b[0m 1ms/step\n",
      "\u001b[1m351/351\u001b[0m \u001b[32m━━━━━━━━━━━━━━━━━━━━\u001b[0m\u001b[37m\u001b[0m \u001b[1m1s\u001b[0m 1ms/step\n",
      "\u001b[1m351/351\u001b[0m \u001b[32m━━━━━━━━━━━━━━━━━━━━\u001b[0m\u001b[37m\u001b[0m \u001b[1m1s\u001b[0m 1ms/step\n"
     ]
    },
    {
     "name": "stderr",
     "output_type": "stream",
     "text": [
      "[I 2025-02-21 17:25:05,942] Trial 14 finished with value: 2.4246924901027324e+16 and parameters: {'lr': 0.0069140991541803325, 'hs': 13, 'dropout': 0.17192238477189298}. Best is trial 11 with value: 2.424691704832402e+16.\n"
     ]
    },
    {
     "name": "stdout",
     "output_type": "stream",
     "text": [
      "\u001b[1m351/351\u001b[0m \u001b[32m━━━━━━━━━━━━━━━━━━━━\u001b[0m\u001b[37m\u001b[0m \u001b[1m1s\u001b[0m 1ms/step\n",
      "\u001b[1m351/351\u001b[0m \u001b[32m━━━━━━━━━━━━━━━━━━━━\u001b[0m\u001b[37m\u001b[0m \u001b[1m1s\u001b[0m 1ms/step\n",
      "\u001b[1m351/351\u001b[0m \u001b[32m━━━━━━━━━━━━━━━━━━━━\u001b[0m\u001b[37m\u001b[0m \u001b[1m1s\u001b[0m 1ms/step\n"
     ]
    },
    {
     "name": "stderr",
     "output_type": "stream",
     "text": [
      "[I 2025-02-21 17:25:40,133] Trial 15 finished with value: 2.424692253514797e+16 and parameters: {'lr': 0.00907627311708239, 'hs': 14, 'dropout': 0.11619979203311727}. Best is trial 11 with value: 2.424691704832402e+16.\n"
     ]
    },
    {
     "name": "stdout",
     "output_type": "stream",
     "text": [
      "\u001b[1m351/351\u001b[0m \u001b[32m━━━━━━━━━━━━━━━━━━━━\u001b[0m\u001b[37m\u001b[0m \u001b[1m1s\u001b[0m 1ms/step\n",
      "\u001b[1m351/351\u001b[0m \u001b[32m━━━━━━━━━━━━━━━━━━━━\u001b[0m\u001b[37m\u001b[0m \u001b[1m1s\u001b[0m 1ms/step\n",
      "\u001b[1m351/351\u001b[0m \u001b[32m━━━━━━━━━━━━━━━━━━━━\u001b[0m\u001b[37m\u001b[0m \u001b[1m1s\u001b[0m 1ms/step\n"
     ]
    },
    {
     "name": "stderr",
     "output_type": "stream",
     "text": [
      "[I 2025-02-21 17:26:06,353] Trial 16 finished with value: 2.4246928577012884e+16 and parameters: {'lr': 0.006571367382701278, 'hs': 8, 'dropout': 0.16843944129559474}. Best is trial 11 with value: 2.424691704832402e+16.\n"
     ]
    },
    {
     "name": "stdout",
     "output_type": "stream",
     "text": [
      "\u001b[1m351/351\u001b[0m \u001b[32m━━━━━━━━━━━━━━━━━━━━\u001b[0m\u001b[37m\u001b[0m \u001b[1m1s\u001b[0m 1ms/step\n",
      "\u001b[1m351/351\u001b[0m \u001b[32m━━━━━━━━━━━━━━━━━━━━\u001b[0m\u001b[37m\u001b[0m \u001b[1m1s\u001b[0m 1ms/step\n",
      "\u001b[1m351/351\u001b[0m \u001b[32m━━━━━━━━━━━━━━━━━━━━\u001b[0m\u001b[37m\u001b[0m \u001b[1m0s\u001b[0m 1ms/step\n"
     ]
    },
    {
     "name": "stderr",
     "output_type": "stream",
     "text": [
      "[I 2025-02-21 17:26:37,346] Trial 17 finished with value: 2.424692884544544e+16 and parameters: {'lr': 0.0033310408937603205, 'hs': 11, 'dropout': 0.11531213218698586}. Best is trial 11 with value: 2.424691704832402e+16.\n"
     ]
    },
    {
     "name": "stdout",
     "output_type": "stream",
     "text": [
      "\u001b[1m351/351\u001b[0m \u001b[32m━━━━━━━━━━━━━━━━━━━━\u001b[0m\u001b[37m\u001b[0m \u001b[1m1s\u001b[0m 1ms/step\n",
      "\u001b[1m351/351\u001b[0m \u001b[32m━━━━━━━━━━━━━━━━━━━━\u001b[0m\u001b[37m\u001b[0m \u001b[1m1s\u001b[0m 1ms/step\n",
      "\u001b[1m351/351\u001b[0m \u001b[32m━━━━━━━━━━━━━━━━━━━━\u001b[0m\u001b[37m\u001b[0m \u001b[1m1s\u001b[0m 1ms/step\n"
     ]
    },
    {
     "name": "stderr",
     "output_type": "stream",
     "text": [
      "[I 2025-02-21 17:27:30,900] Trial 18 finished with value: 2.424691493565688e+16 and parameters: {'lr': 0.009007435989394352, 'hs': 16, 'dropout': 0.15962246492925905}. Best is trial 18 with value: 2.424691493565688e+16.\n"
     ]
    },
    {
     "name": "stdout",
     "output_type": "stream",
     "text": [
      "\u001b[1m351/351\u001b[0m \u001b[32m━━━━━━━━━━━━━━━━━━━━\u001b[0m\u001b[37m\u001b[0m \u001b[1m0s\u001b[0m 1ms/step\n",
      "\u001b[1m351/351\u001b[0m \u001b[32m━━━━━━━━━━━━━━━━━━━━\u001b[0m\u001b[37m\u001b[0m \u001b[1m1s\u001b[0m 1ms/step\n",
      "\u001b[1m351/351\u001b[0m \u001b[32m━━━━━━━━━━━━━━━━━━━━\u001b[0m\u001b[37m\u001b[0m \u001b[1m1s\u001b[0m 1ms/step\n"
     ]
    },
    {
     "name": "stderr",
     "output_type": "stream",
     "text": [
      "[I 2025-02-21 17:28:02,281] Trial 19 finished with value: 2.424692335887574e+16 and parameters: {'lr': 0.00663743040902481, 'hs': 16, 'dropout': 0.18955250856379352}. Best is trial 18 with value: 2.424691493565688e+16.\n"
     ]
    },
    {
     "name": "stdout",
     "output_type": "stream",
     "text": [
      "\u001b[1m351/351\u001b[0m \u001b[32m━━━━━━━━━━━━━━━━━━━━\u001b[0m\u001b[37m\u001b[0m \u001b[1m1s\u001b[0m 1ms/step\n",
      "\u001b[1m351/351\u001b[0m \u001b[32m━━━━━━━━━━━━━━━━━━━━\u001b[0m\u001b[37m\u001b[0m \u001b[1m1s\u001b[0m 1ms/step\n",
      "\u001b[1m351/351\u001b[0m \u001b[32m━━━━━━━━━━━━━━━━━━━━\u001b[0m\u001b[37m\u001b[0m \u001b[1m1s\u001b[0m 1ms/step\n"
     ]
    },
    {
     "name": "stderr",
     "output_type": "stream",
     "text": [
      "[I 2025-02-21 17:28:43,690] Trial 20 finished with value: 2.4246917792674868e+16 and parameters: {'lr': 0.008263010259900257, 'hs': 16, 'dropout': 0.14544487871399983}. Best is trial 18 with value: 2.424691493565688e+16.\n"
     ]
    },
    {
     "name": "stdout",
     "output_type": "stream",
     "text": [
      "\u001b[1m351/351\u001b[0m \u001b[32m━━━━━━━━━━━━━━━━━━━━\u001b[0m\u001b[37m\u001b[0m \u001b[1m1s\u001b[0m 1ms/step\n",
      "\u001b[1m351/351\u001b[0m \u001b[32m━━━━━━━━━━━━━━━━━━━━\u001b[0m\u001b[37m\u001b[0m \u001b[1m1s\u001b[0m 1ms/step\n",
      "\u001b[1m351/351\u001b[0m \u001b[32m━━━━━━━━━━━━━━━━━━━━\u001b[0m\u001b[37m\u001b[0m \u001b[1m1s\u001b[0m 1ms/step\n"
     ]
    },
    {
     "name": "stderr",
     "output_type": "stream",
     "text": [
      "[I 2025-02-21 17:29:28,539] Trial 21 finished with value: 2.4246917442382444e+16 and parameters: {'lr': 0.009327109832925555, 'hs': 14, 'dropout': 0.1593936478829017}. Best is trial 18 with value: 2.424691493565688e+16.\n"
     ]
    },
    {
     "name": "stdout",
     "output_type": "stream",
     "text": [
      "\u001b[1m351/351\u001b[0m \u001b[32m━━━━━━━━━━━━━━━━━━━━\u001b[0m\u001b[37m\u001b[0m \u001b[1m1s\u001b[0m 1ms/step\n",
      "\u001b[1m351/351\u001b[0m \u001b[32m━━━━━━━━━━━━━━━━━━━━\u001b[0m\u001b[37m\u001b[0m \u001b[1m1s\u001b[0m 1ms/step\n",
      "\u001b[1m351/351\u001b[0m \u001b[32m━━━━━━━━━━━━━━━━━━━━\u001b[0m\u001b[37m\u001b[0m \u001b[1m1s\u001b[0m 1ms/step\n"
     ]
    },
    {
     "name": "stderr",
     "output_type": "stream",
     "text": [
      "[I 2025-02-21 17:30:10,230] Trial 22 finished with value: 2.424692042410306e+16 and parameters: {'lr': 0.009011710922402945, 'hs': 12, 'dropout': 0.17909100225150248}. Best is trial 18 with value: 2.424691493565688e+16.\n"
     ]
    },
    {
     "name": "stdout",
     "output_type": "stream",
     "text": [
      "\u001b[1m351/351\u001b[0m \u001b[32m━━━━━━━━━━━━━━━━━━━━\u001b[0m\u001b[37m\u001b[0m \u001b[1m1s\u001b[0m 1ms/step\n",
      "\u001b[1m351/351\u001b[0m \u001b[32m━━━━━━━━━━━━━━━━━━━━\u001b[0m\u001b[37m\u001b[0m \u001b[1m1s\u001b[0m 1ms/step\n",
      "\u001b[1m351/351\u001b[0m \u001b[32m━━━━━━━━━━━━━━━━━━━━\u001b[0m\u001b[37m\u001b[0m \u001b[1m1s\u001b[0m 1ms/step\n"
     ]
    },
    {
     "name": "stderr",
     "output_type": "stream",
     "text": [
      "[I 2025-02-21 17:31:17,230] Trial 23 finished with value: 2.4246915815282096e+16 and parameters: {'lr': 0.007395839265551844, 'hs': 14, 'dropout': 0.1596507829547326}. Best is trial 18 with value: 2.424691493565688e+16.\n"
     ]
    },
    {
     "name": "stdout",
     "output_type": "stream",
     "text": [
      "\u001b[1m351/351\u001b[0m \u001b[32m━━━━━━━━━━━━━━━━━━━━\u001b[0m\u001b[37m\u001b[0m \u001b[1m1s\u001b[0m 1ms/step\n",
      "\u001b[1m351/351\u001b[0m \u001b[32m━━━━━━━━━━━━━━━━━━━━\u001b[0m\u001b[37m\u001b[0m \u001b[1m1s\u001b[0m 1ms/step\n",
      "\u001b[1m351/351\u001b[0m \u001b[32m━━━━━━━━━━━━━━━━━━━━\u001b[0m\u001b[37m\u001b[0m \u001b[1m1s\u001b[0m 1ms/step\n"
     ]
    },
    {
     "name": "stderr",
     "output_type": "stream",
     "text": [
      "[I 2025-02-21 17:32:08,161] Trial 24 finished with value: 2.4246917800237564e+16 and parameters: {'lr': 0.0074725725698056465, 'hs': 15, 'dropout': 0.11753174016487776}. Best is trial 18 with value: 2.424691493565688e+16.\n"
     ]
    },
    {
     "name": "stdout",
     "output_type": "stream",
     "text": [
      "\u001b[1m351/351\u001b[0m \u001b[32m━━━━━━━━━━━━━━━━━━━━\u001b[0m\u001b[37m\u001b[0m \u001b[1m1s\u001b[0m 1ms/step\n",
      "\u001b[1m351/351\u001b[0m \u001b[32m━━━━━━━━━━━━━━━━━━━━\u001b[0m\u001b[37m\u001b[0m \u001b[1m1s\u001b[0m 1ms/step\n",
      "\u001b[1m351/351\u001b[0m \u001b[32m━━━━━━━━━━━━━━━━━━━━\u001b[0m\u001b[37m\u001b[0m \u001b[1m1s\u001b[0m 1ms/step\n"
     ]
    },
    {
     "name": "stderr",
     "output_type": "stream",
     "text": [
      "[I 2025-02-21 17:32:52,540] Trial 25 finished with value: 2.4246922205015244e+16 and parameters: {'lr': 0.0059816824451459725, 'hs': 15, 'dropout': 0.14403756099820744}. Best is trial 18 with value: 2.424691493565688e+16.\n"
     ]
    },
    {
     "name": "stdout",
     "output_type": "stream",
     "text": [
      "\u001b[1m351/351\u001b[0m \u001b[32m━━━━━━━━━━━━━━━━━━━━\u001b[0m\u001b[37m\u001b[0m \u001b[1m1s\u001b[0m 1ms/step\n",
      "\u001b[1m351/351\u001b[0m \u001b[32m━━━━━━━━━━━━━━━━━━━━\u001b[0m\u001b[37m\u001b[0m \u001b[1m1s\u001b[0m 1ms/step\n",
      "\u001b[1m351/351\u001b[0m \u001b[32m━━━━━━━━━━━━━━━━━━━━\u001b[0m\u001b[37m\u001b[0m \u001b[1m1s\u001b[0m 1ms/step\n"
     ]
    },
    {
     "name": "stderr",
     "output_type": "stream",
     "text": [
      "[I 2025-02-21 17:33:37,017] Trial 26 finished with value: 2.4246919530535216e+16 and parameters: {'lr': 0.0085094491283855, 'hs': 14, 'dropout': 0.1845217678773271}. Best is trial 18 with value: 2.424691493565688e+16.\n"
     ]
    },
    {
     "name": "stdout",
     "output_type": "stream",
     "text": [
      "\u001b[1m351/351\u001b[0m \u001b[32m━━━━━━━━━━━━━━━━━━━━\u001b[0m\u001b[37m\u001b[0m \u001b[1m1s\u001b[0m 1ms/step\n",
      "\u001b[1m351/351\u001b[0m \u001b[32m━━━━━━━━━━━━━━━━━━━━\u001b[0m\u001b[37m\u001b[0m \u001b[1m1s\u001b[0m 1ms/step\n",
      "\u001b[1m351/351\u001b[0m \u001b[32m━━━━━━━━━━━━━━━━━━━━\u001b[0m\u001b[37m\u001b[0m \u001b[1m1s\u001b[0m 1ms/step\n"
     ]
    },
    {
     "name": "stderr",
     "output_type": "stream",
     "text": [
      "[I 2025-02-21 17:34:07,906] Trial 27 finished with value: 2.4246924897980596e+16 and parameters: {'lr': 0.007429843696712866, 'hs': 12, 'dropout': 0.16741183938695647}. Best is trial 18 with value: 2.424691493565688e+16.\n"
     ]
    },
    {
     "name": "stdout",
     "output_type": "stream",
     "text": [
      "\u001b[1m351/351\u001b[0m \u001b[32m━━━━━━━━━━━━━━━━━━━━\u001b[0m\u001b[37m\u001b[0m \u001b[1m1s\u001b[0m 1ms/step\n",
      "\u001b[1m351/351\u001b[0m \u001b[32m━━━━━━━━━━━━━━━━━━━━\u001b[0m\u001b[37m\u001b[0m \u001b[1m1s\u001b[0m 1ms/step\n",
      "\u001b[1m351/351\u001b[0m \u001b[32m━━━━━━━━━━━━━━━━━━━━\u001b[0m\u001b[37m\u001b[0m \u001b[1m1s\u001b[0m 1ms/step\n"
     ]
    },
    {
     "name": "stderr",
     "output_type": "stream",
     "text": [
      "[I 2025-02-21 17:34:45,777] Trial 28 finished with value: 2.4246927921611188e+16 and parameters: {'lr': 0.003939904284383591, 'hs': 9, 'dropout': 0.12918132030415963}. Best is trial 18 with value: 2.424691493565688e+16.\n"
     ]
    },
    {
     "name": "stdout",
     "output_type": "stream",
     "text": [
      "\u001b[1m351/351\u001b[0m \u001b[32m━━━━━━━━━━━━━━━━━━━━\u001b[0m\u001b[37m\u001b[0m \u001b[1m1s\u001b[0m 1ms/step\n",
      "\u001b[1m351/351\u001b[0m \u001b[32m━━━━━━━━━━━━━━━━━━━━\u001b[0m\u001b[37m\u001b[0m \u001b[1m0s\u001b[0m 1ms/step\n",
      "\u001b[1m351/351\u001b[0m \u001b[32m━━━━━━━━━━━━━━━━━━━━\u001b[0m\u001b[37m\u001b[0m \u001b[1m1s\u001b[0m 1ms/step\n"
     ]
    },
    {
     "name": "stderr",
     "output_type": "stream",
     "text": [
      "[I 2025-02-21 17:35:16,296] Trial 29 finished with value: 2.424692991613707e+16 and parameters: {'lr': 0.009035133977349716, 'hs': 2, 'dropout': 0.1398726123235399}. Best is trial 18 with value: 2.424691493565688e+16.\n"
     ]
    },
    {
     "name": "stdout",
     "output_type": "stream",
     "text": [
      "\u001b[1m351/351\u001b[0m \u001b[32m━━━━━━━━━━━━━━━━━━━━\u001b[0m\u001b[37m\u001b[0m \u001b[1m1s\u001b[0m 1ms/step\n",
      "\u001b[1m351/351\u001b[0m \u001b[32m━━━━━━━━━━━━━━━━━━━━\u001b[0m\u001b[37m\u001b[0m \u001b[1m1s\u001b[0m 1ms/step\n",
      "\u001b[1m351/351\u001b[0m \u001b[32m━━━━━━━━━━━━━━━━━━━━\u001b[0m\u001b[37m\u001b[0m \u001b[1m1s\u001b[0m 1ms/step\n"
     ]
    },
    {
     "name": "stderr",
     "output_type": "stream",
     "text": [
      "[I 2025-02-21 17:35:51,660] Trial 30 finished with value: 2.424692392833086e+16 and parameters: {'lr': 0.008122854615265292, 'hs': 12, 'dropout': 0.16331054426670302}. Best is trial 18 with value: 2.424691493565688e+16.\n"
     ]
    },
    {
     "name": "stdout",
     "output_type": "stream",
     "text": [
      "\u001b[1m351/351\u001b[0m \u001b[32m━━━━━━━━━━━━━━━━━━━━\u001b[0m\u001b[37m\u001b[0m \u001b[1m1s\u001b[0m 1ms/step\n",
      "\u001b[1m351/351\u001b[0m \u001b[32m━━━━━━━━━━━━━━━━━━━━\u001b[0m\u001b[37m\u001b[0m \u001b[1m1s\u001b[0m 1ms/step\n",
      "\u001b[1m351/351\u001b[0m \u001b[32m━━━━━━━━━━━━━━━━━━━━\u001b[0m\u001b[37m\u001b[0m \u001b[1m0s\u001b[0m 1ms/step\n"
     ]
    },
    {
     "name": "stderr",
     "output_type": "stream",
     "text": [
      "[I 2025-02-21 17:36:59,041] Trial 31 finished with value: 2.424690727233557e+16 and parameters: {'lr': 0.009613523652083091, 'hs': 14, 'dropout': 0.15276502223365457}. Best is trial 31 with value: 2.424690727233557e+16.\n"
     ]
    },
    {
     "name": "stdout",
     "output_type": "stream",
     "text": [
      "\u001b[1m351/351\u001b[0m \u001b[32m━━━━━━━━━━━━━━━━━━━━\u001b[0m\u001b[37m\u001b[0m \u001b[1m1s\u001b[0m 1ms/step\n",
      "\u001b[1m351/351\u001b[0m \u001b[32m━━━━━━━━━━━━━━━━━━━━\u001b[0m\u001b[37m\u001b[0m \u001b[1m1s\u001b[0m 1ms/step\n",
      "\u001b[1m351/351\u001b[0m \u001b[32m━━━━━━━━━━━━━━━━━━━━\u001b[0m\u001b[37m\u001b[0m \u001b[1m0s\u001b[0m 1ms/step\n"
     ]
    },
    {
     "name": "stderr",
     "output_type": "stream",
     "text": [
      "[I 2025-02-21 17:37:31,640] Trial 32 finished with value: 2.424692026695027e+16 and parameters: {'lr': 0.008903144183952771, 'hs': 15, 'dropout': 0.15161092002897233}. Best is trial 31 with value: 2.424690727233557e+16.\n"
     ]
    },
    {
     "name": "stdout",
     "output_type": "stream",
     "text": [
      "\u001b[1m351/351\u001b[0m \u001b[32m━━━━━━━━━━━━━━━━━━━━\u001b[0m\u001b[37m\u001b[0m \u001b[1m0s\u001b[0m 1ms/step\n",
      "\u001b[1m351/351\u001b[0m \u001b[32m━━━━━━━━━━━━━━━━━━━━\u001b[0m\u001b[37m\u001b[0m \u001b[1m1s\u001b[0m 1ms/step\n",
      "\u001b[1m351/351\u001b[0m \u001b[32m━━━━━━━━━━━━━━━━━━━━\u001b[0m\u001b[37m\u001b[0m \u001b[1m1s\u001b[0m 1ms/step\n"
     ]
    },
    {
     "name": "stderr",
     "output_type": "stream",
     "text": [
      "[I 2025-02-21 17:38:04,396] Trial 33 finished with value: 2.424692151111818e+16 and parameters: {'lr': 0.009700008140955348, 'hs': 14, 'dropout': 0.17901190669619166}. Best is trial 31 with value: 2.424690727233557e+16.\n"
     ]
    },
    {
     "name": "stdout",
     "output_type": "stream",
     "text": [
      "\u001b[1m351/351\u001b[0m \u001b[32m━━━━━━━━━━━━━━━━━━━━\u001b[0m\u001b[37m\u001b[0m \u001b[1m0s\u001b[0m 1ms/step\n",
      "\u001b[1m351/351\u001b[0m \u001b[32m━━━━━━━━━━━━━━━━━━━━\u001b[0m\u001b[37m\u001b[0m \u001b[1m1s\u001b[0m 1ms/step\n",
      "\u001b[1m351/351\u001b[0m \u001b[32m━━━━━━━━━━━━━━━━━━━━\u001b[0m\u001b[37m\u001b[0m \u001b[1m0s\u001b[0m 1ms/step   \n"
     ]
    },
    {
     "name": "stderr",
     "output_type": "stream",
     "text": [
      "[I 2025-02-21 17:38:37,635] Trial 34 finished with value: 2.4246927748820148e+16 and parameters: {'lr': 0.007741235832833081, 'hs': 5, 'dropout': 0.1995617370459456}. Best is trial 31 with value: 2.424690727233557e+16.\n"
     ]
    },
    {
     "name": "stdout",
     "output_type": "stream",
     "text": [
      "\u001b[1m351/351\u001b[0m \u001b[32m━━━━━━━━━━━━━━━━━━━━\u001b[0m\u001b[37m\u001b[0m \u001b[1m0s\u001b[0m 1ms/step\n",
      "\u001b[1m351/351\u001b[0m \u001b[32m━━━━━━━━━━━━━━━━━━━━\u001b[0m\u001b[37m\u001b[0m \u001b[1m1s\u001b[0m 1ms/step\n",
      "\u001b[1m351/351\u001b[0m \u001b[32m━━━━━━━━━━━━━━━━━━━━\u001b[0m\u001b[37m\u001b[0m \u001b[1m1s\u001b[0m 1ms/step\n"
     ]
    },
    {
     "name": "stderr",
     "output_type": "stream",
     "text": [
      "[I 2025-02-21 17:39:42,580] Trial 35 finished with value: 2.4246907364944684e+16 and parameters: {'lr': 0.009933409592351429, 'hs': 16, 'dropout': 0.15070046332128945}. Best is trial 31 with value: 2.424690727233557e+16.\n"
     ]
    },
    {
     "name": "stdout",
     "output_type": "stream",
     "text": [
      "\u001b[1m351/351\u001b[0m \u001b[32m━━━━━━━━━━━━━━━━━━━━\u001b[0m\u001b[37m\u001b[0m \u001b[1m1s\u001b[0m 1ms/step\n",
      "\u001b[1m351/351\u001b[0m \u001b[32m━━━━━━━━━━━━━━━━━━━━\u001b[0m\u001b[37m\u001b[0m \u001b[1m0s\u001b[0m 1ms/step\n",
      "\u001b[1m351/351\u001b[0m \u001b[32m━━━━━━━━━━━━━━━━━━━━\u001b[0m\u001b[37m\u001b[0m \u001b[1m1s\u001b[0m 1ms/step\n"
     ]
    },
    {
     "name": "stderr",
     "output_type": "stream",
     "text": [
      "[I 2025-02-21 17:40:22,022] Trial 36 finished with value: 2.4246919449014476e+16 and parameters: {'lr': 0.008640149604603966, 'hs': 16, 'dropout': 0.14790272431899293}. Best is trial 31 with value: 2.424690727233557e+16.\n"
     ]
    },
    {
     "name": "stdout",
     "output_type": "stream",
     "text": [
      "\u001b[1m351/351\u001b[0m \u001b[32m━━━━━━━━━━━━━━━━━━━━\u001b[0m\u001b[37m\u001b[0m \u001b[1m1s\u001b[0m 1ms/step\n",
      "\u001b[1m351/351\u001b[0m \u001b[32m━━━━━━━━━━━━━━━━━━━━\u001b[0m\u001b[37m\u001b[0m \u001b[1m1s\u001b[0m 1ms/step\n",
      "\u001b[1m351/351\u001b[0m \u001b[32m━━━━━━━━━━━━━━━━━━━━\u001b[0m\u001b[37m\u001b[0m \u001b[1m1s\u001b[0m 1ms/step\n"
     ]
    },
    {
     "name": "stderr",
     "output_type": "stream",
     "text": [
      "[I 2025-02-21 17:41:10,209] Trial 37 finished with value: 2.4246917091336932e+16 and parameters: {'lr': 0.007026859830344732, 'hs': 16, 'dropout': 0.13636995782680594}. Best is trial 31 with value: 2.424690727233557e+16.\n"
     ]
    },
    {
     "name": "stdout",
     "output_type": "stream",
     "text": [
      "\u001b[1m351/351\u001b[0m \u001b[32m━━━━━━━━━━━━━━━━━━━━\u001b[0m\u001b[37m\u001b[0m \u001b[1m1s\u001b[0m 1ms/step\n",
      "\u001b[1m351/351\u001b[0m \u001b[32m━━━━━━━━━━━━━━━━━━━━\u001b[0m\u001b[37m\u001b[0m \u001b[1m1s\u001b[0m 1ms/step\n",
      "\u001b[1m351/351\u001b[0m \u001b[32m━━━━━━━━━━━━━━━━━━━━\u001b[0m\u001b[37m\u001b[0m \u001b[1m1s\u001b[0m 1ms/step\n"
     ]
    },
    {
     "name": "stderr",
     "output_type": "stream",
     "text": [
      "[I 2025-02-21 17:41:46,896] Trial 38 finished with value: 2.4246923744172364e+16 and parameters: {'lr': 0.00592213028100929, 'hs': 15, 'dropout': 0.1237707997017339}. Best is trial 31 with value: 2.424690727233557e+16.\n"
     ]
    },
    {
     "name": "stdout",
     "output_type": "stream",
     "text": [
      "\u001b[1m351/351\u001b[0m \u001b[32m━━━━━━━━━━━━━━━━━━━━\u001b[0m\u001b[37m\u001b[0m \u001b[1m0s\u001b[0m 1ms/step\n",
      "\u001b[1m351/351\u001b[0m \u001b[32m━━━━━━━━━━━━━━━━━━━━\u001b[0m\u001b[37m\u001b[0m \u001b[1m1s\u001b[0m 1ms/step\n",
      "\u001b[1m351/351\u001b[0m \u001b[32m━━━━━━━━━━━━━━━━━━━━\u001b[0m\u001b[37m\u001b[0m \u001b[1m1s\u001b[0m 1ms/step\n"
     ]
    },
    {
     "name": "stderr",
     "output_type": "stream",
     "text": [
      "[I 2025-02-21 17:42:34,984] Trial 39 finished with value: 2.4246919591741652e+16 and parameters: {'lr': 0.00928017993878601, 'hs': 10, 'dropout': 0.10387558118704467}. Best is trial 31 with value: 2.424690727233557e+16.\n"
     ]
    },
    {
     "name": "stdout",
     "output_type": "stream",
     "text": [
      "\u001b[1m351/351\u001b[0m \u001b[32m━━━━━━━━━━━━━━━━━━━━\u001b[0m\u001b[37m\u001b[0m \u001b[1m0s\u001b[0m 1ms/step\n",
      "\u001b[1m351/351\u001b[0m \u001b[32m━━━━━━━━━━━━━━━━━━━━\u001b[0m\u001b[37m\u001b[0m \u001b[1m1s\u001b[0m 1ms/step\n",
      "\u001b[1m351/351\u001b[0m \u001b[32m━━━━━━━━━━━━━━━━━━━━\u001b[0m\u001b[37m\u001b[0m \u001b[1m0s\u001b[0m 1ms/step\n"
     ]
    },
    {
     "name": "stderr",
     "output_type": "stream",
     "text": [
      "[I 2025-02-21 17:43:15,219] Trial 40 finished with value: 2.424691721100146e+16 and parameters: {'lr': 0.009998069730324735, 'hs': 16, 'dropout': 0.1746329493813699}. Best is trial 31 with value: 2.424690727233557e+16.\n"
     ]
    },
    {
     "name": "stdout",
     "output_type": "stream",
     "text": [
      "\u001b[1m351/351\u001b[0m \u001b[32m━━━━━━━━━━━━━━━━━━━━\u001b[0m\u001b[37m\u001b[0m \u001b[1m1s\u001b[0m 1ms/step\n",
      "\u001b[1m351/351\u001b[0m \u001b[32m━━━━━━━━━━━━━━━━━━━━\u001b[0m\u001b[37m\u001b[0m \u001b[1m0s\u001b[0m 1ms/step\n",
      "\u001b[1m351/351\u001b[0m \u001b[32m━━━━━━━━━━━━━━━━━━━━\u001b[0m\u001b[37m\u001b[0m \u001b[1m1s\u001b[0m 1ms/step\n"
     ]
    },
    {
     "name": "stderr",
     "output_type": "stream",
     "text": [
      "[I 2025-02-21 17:44:04,475] Trial 41 finished with value: 2.424691488157438e+16 and parameters: {'lr': 0.00951566986197495, 'hs': 14, 'dropout': 0.15026826136735072}. Best is trial 31 with value: 2.424690727233557e+16.\n"
     ]
    },
    {
     "name": "stdout",
     "output_type": "stream",
     "text": [
      "\u001b[1m351/351\u001b[0m \u001b[32m━━━━━━━━━━━━━━━━━━━━\u001b[0m\u001b[37m\u001b[0m \u001b[1m1s\u001b[0m 1ms/step\n",
      "\u001b[1m351/351\u001b[0m \u001b[32m━━━━━━━━━━━━━━━━━━━━\u001b[0m\u001b[37m\u001b[0m \u001b[1m1s\u001b[0m 1ms/step\n",
      "\u001b[1m351/351\u001b[0m \u001b[32m━━━━━━━━━━━━━━━━━━━━\u001b[0m\u001b[37m\u001b[0m \u001b[1m1s\u001b[0m 1ms/step\n"
     ]
    },
    {
     "name": "stderr",
     "output_type": "stream",
     "text": [
      "[I 2025-02-21 17:45:08,617] Trial 42 finished with value: 2.424691052727885e+16 and parameters: {'lr': 0.00861474636236811, 'hs': 14, 'dropout': 0.15095079088488253}. Best is trial 31 with value: 2.424690727233557e+16.\n"
     ]
    },
    {
     "name": "stdout",
     "output_type": "stream",
     "text": [
      "\u001b[1m351/351\u001b[0m \u001b[32m━━━━━━━━━━━━━━━━━━━━\u001b[0m\u001b[37m\u001b[0m \u001b[1m1s\u001b[0m 1ms/step\n",
      "\u001b[1m351/351\u001b[0m \u001b[32m━━━━━━━━━━━━━━━━━━━━\u001b[0m\u001b[37m\u001b[0m \u001b[1m1s\u001b[0m 1ms/step\n",
      "\u001b[1m351/351\u001b[0m \u001b[32m━━━━━━━━━━━━━━━━━━━━\u001b[0m\u001b[37m\u001b[0m \u001b[1m1s\u001b[0m 1ms/step\n"
     ]
    },
    {
     "name": "stderr",
     "output_type": "stream",
     "text": [
      "[I 2025-02-21 17:46:00,501] Trial 43 finished with value: 2.4246916880038404e+16 and parameters: {'lr': 0.008534909510344869, 'hs': 15, 'dropout': 0.14958817932554405}. Best is trial 31 with value: 2.424690727233557e+16.\n"
     ]
    },
    {
     "name": "stdout",
     "output_type": "stream",
     "text": [
      "\u001b[1m351/351\u001b[0m \u001b[32m━━━━━━━━━━━━━━━━━━━━\u001b[0m\u001b[37m\u001b[0m \u001b[1m1s\u001b[0m 1ms/step\n",
      "\u001b[1m351/351\u001b[0m \u001b[32m━━━━━━━━━━━━━━━━━━━━\u001b[0m\u001b[37m\u001b[0m \u001b[1m1s\u001b[0m 1ms/step\n",
      "\u001b[1m351/351\u001b[0m \u001b[32m━━━━━━━━━━━━━━━━━━━━\u001b[0m\u001b[37m\u001b[0m \u001b[1m1s\u001b[0m 1ms/step\n"
     ]
    },
    {
     "name": "stderr",
     "output_type": "stream",
     "text": [
      "[I 2025-02-21 17:46:41,910] Trial 44 finished with value: 2.4246919144934924e+16 and parameters: {'lr': 0.009354300641835556, 'hs': 15, 'dropout': 0.1374805224521702}. Best is trial 31 with value: 2.424690727233557e+16.\n"
     ]
    },
    {
     "name": "stdout",
     "output_type": "stream",
     "text": [
      "\u001b[1m351/351\u001b[0m \u001b[32m━━━━━━━━━━━━━━━━━━━━\u001b[0m\u001b[37m\u001b[0m \u001b[1m1s\u001b[0m 1ms/step\n",
      "\u001b[1m351/351\u001b[0m \u001b[32m━━━━━━━━━━━━━━━━━━━━\u001b[0m\u001b[37m\u001b[0m \u001b[1m1s\u001b[0m 1ms/step\n",
      "\u001b[1m351/351\u001b[0m \u001b[32m━━━━━━━━━━━━━━━━━━━━\u001b[0m\u001b[37m\u001b[0m \u001b[1m1s\u001b[0m 1ms/step\n"
     ]
    },
    {
     "name": "stderr",
     "output_type": "stream",
     "text": [
      "[I 2025-02-21 17:47:16,988] Trial 45 finished with value: 2.424692234546802e+16 and parameters: {'lr': 0.007973072476485953, 'hs': 13, 'dropout': 0.12703768375800928}. Best is trial 31 with value: 2.424690727233557e+16.\n"
     ]
    },
    {
     "name": "stdout",
     "output_type": "stream",
     "text": [
      "\u001b[1m351/351\u001b[0m \u001b[32m━━━━━━━━━━━━━━━━━━━━\u001b[0m\u001b[37m\u001b[0m \u001b[1m1s\u001b[0m 1ms/step\n",
      "\u001b[1m351/351\u001b[0m \u001b[32m━━━━━━━━━━━━━━━━━━━━\u001b[0m\u001b[37m\u001b[0m \u001b[1m1s\u001b[0m 1ms/step\n",
      "\u001b[1m351/351\u001b[0m \u001b[32m━━━━━━━━━━━━━━━━━━━━\u001b[0m\u001b[37m\u001b[0m \u001b[1m1s\u001b[0m 1ms/step\n"
     ]
    },
    {
     "name": "stderr",
     "output_type": "stream",
     "text": [
      "[I 2025-02-21 17:48:02,739] Trial 46 finished with value: 2.4246919568937196e+16 and parameters: {'lr': 0.00956428578330422, 'hs': 14, 'dropout': 0.16529572995380795}. Best is trial 31 with value: 2.424690727233557e+16.\n"
     ]
    },
    {
     "name": "stdout",
     "output_type": "stream",
     "text": [
      "\u001b[1m351/351\u001b[0m \u001b[32m━━━━━━━━━━━━━━━━━━━━\u001b[0m\u001b[37m\u001b[0m \u001b[1m1s\u001b[0m 1ms/step\n",
      "\u001b[1m351/351\u001b[0m \u001b[32m━━━━━━━━━━━━━━━━━━━━\u001b[0m\u001b[37m\u001b[0m \u001b[1m1s\u001b[0m 1ms/step\n",
      "\u001b[1m351/351\u001b[0m \u001b[32m━━━━━━━━━━━━━━━━━━━━\u001b[0m\u001b[37m\u001b[0m \u001b[1m1s\u001b[0m 1ms/step\n"
     ]
    },
    {
     "name": "stderr",
     "output_type": "stream",
     "text": [
      "[I 2025-02-21 17:48:54,414] Trial 47 finished with value: 2.424692536908664e+16 and parameters: {'lr': 0.004221939544435542, 'hs': 10, 'dropout': 0.06387678104138264}. Best is trial 31 with value: 2.424690727233557e+16.\n"
     ]
    },
    {
     "name": "stdout",
     "output_type": "stream",
     "text": [
      "\u001b[1m351/351\u001b[0m \u001b[32m━━━━━━━━━━━━━━━━━━━━\u001b[0m\u001b[37m\u001b[0m \u001b[1m1s\u001b[0m 1ms/step\n",
      "\u001b[1m351/351\u001b[0m \u001b[32m━━━━━━━━━━━━━━━━━━━━\u001b[0m\u001b[37m\u001b[0m \u001b[1m1s\u001b[0m 1ms/step\n",
      "\u001b[1m351/351\u001b[0m \u001b[32m━━━━━━━━━━━━━━━━━━━━\u001b[0m\u001b[37m\u001b[0m \u001b[1m1s\u001b[0m 1ms/step\n"
     ]
    },
    {
     "name": "stderr",
     "output_type": "stream",
     "text": [
      "[I 2025-02-21 17:49:46,805] Trial 48 finished with value: 2.4246919696179532e+16 and parameters: {'lr': 0.008671414397043095, 'hs': 11, 'dropout': 0.13360584893362662}. Best is trial 31 with value: 2.424690727233557e+16.\n"
     ]
    },
    {
     "name": "stdout",
     "output_type": "stream",
     "text": [
      "\u001b[1m351/351\u001b[0m \u001b[32m━━━━━━━━━━━━━━━━━━━━\u001b[0m\u001b[37m\u001b[0m \u001b[1m1s\u001b[0m 1ms/step\n",
      "\u001b[1m351/351\u001b[0m \u001b[32m━━━━━━━━━━━━━━━━━━━━\u001b[0m\u001b[37m\u001b[0m \u001b[1m1s\u001b[0m 1ms/step\n",
      "\u001b[1m351/351\u001b[0m \u001b[32m━━━━━━━━━━━━━━━━━━━━\u001b[0m\u001b[37m\u001b[0m \u001b[1m1s\u001b[0m 1ms/step\n"
     ]
    },
    {
     "name": "stderr",
     "output_type": "stream",
     "text": [
      "[I 2025-02-21 17:50:19,595] Trial 49 finished with value: 2.424692981878008e+16 and parameters: {'lr': 0.002252395204782955, 'hs': 13, 'dropout': 0.15378180958842108}. Best is trial 31 with value: 2.424690727233557e+16.\n"
     ]
    },
    {
     "name": "stdout",
     "output_type": "stream",
     "text": [
      "\u001b[1m351/351\u001b[0m \u001b[32m━━━━━━━━━━━━━━━━━━━━\u001b[0m\u001b[37m\u001b[0m \u001b[1m1s\u001b[0m 1ms/step\n",
      "\u001b[1m351/351\u001b[0m \u001b[32m━━━━━━━━━━━━━━━━━━━━\u001b[0m\u001b[37m\u001b[0m \u001b[1m1s\u001b[0m 1ms/step\n",
      "\u001b[1m351/351\u001b[0m \u001b[32m━━━━━━━━━━━━━━━━━━━━\u001b[0m\u001b[37m\u001b[0m \u001b[1m1s\u001b[0m 1ms/step\n"
     ]
    },
    {
     "name": "stderr",
     "output_type": "stream",
     "text": [
      "[I 2025-02-21 17:51:19,358] Trial 50 finished with value: 2.424690979886962e+16 and parameters: {'lr': 0.009673774737575523, 'hs': 16, 'dropout': 0.14618554985150944}. Best is trial 31 with value: 2.424690727233557e+16.\n"
     ]
    },
    {
     "name": "stdout",
     "output_type": "stream",
     "text": [
      "\u001b[1m351/351\u001b[0m \u001b[32m━━━━━━━━━━━━━━━━━━━━\u001b[0m\u001b[37m\u001b[0m \u001b[1m1s\u001b[0m 1ms/step\n",
      "\u001b[1m351/351\u001b[0m \u001b[32m━━━━━━━━━━━━━━━━━━━━\u001b[0m\u001b[37m\u001b[0m \u001b[1m1s\u001b[0m 1ms/step\n",
      "\u001b[1m351/351\u001b[0m \u001b[32m━━━━━━━━━━━━━━━━━━━━\u001b[0m\u001b[37m\u001b[0m \u001b[1m0s\u001b[0m 1ms/step\n"
     ]
    },
    {
     "name": "stderr",
     "output_type": "stream",
     "text": [
      "[I 2025-02-21 17:51:59,243] Trial 51 finished with value: 2.4246915439091188e+16 and parameters: {'lr': 0.009990229809300652, 'hs': 16, 'dropout': 0.1420347850745899}. Best is trial 31 with value: 2.424690727233557e+16.\n"
     ]
    },
    {
     "name": "stdout",
     "output_type": "stream",
     "text": [
      "\u001b[1m351/351\u001b[0m \u001b[32m━━━━━━━━━━━━━━━━━━━━\u001b[0m\u001b[37m\u001b[0m \u001b[1m1s\u001b[0m 1ms/step\n",
      "\u001b[1m351/351\u001b[0m \u001b[32m━━━━━━━━━━━━━━━━━━━━\u001b[0m\u001b[37m\u001b[0m \u001b[1m1s\u001b[0m 1ms/step\n",
      "\u001b[1m351/351\u001b[0m \u001b[32m━━━━━━━━━━━━━━━━━━━━\u001b[0m\u001b[37m\u001b[0m \u001b[1m1s\u001b[0m 1ms/step\n"
     ]
    },
    {
     "name": "stderr",
     "output_type": "stream",
     "text": [
      "[I 2025-02-21 17:52:45,907] Trial 52 finished with value: 2.4246914825008236e+16 and parameters: {'lr': 0.00952483972278438, 'hs': 15, 'dropout': 0.14899331916891856}. Best is trial 31 with value: 2.424690727233557e+16.\n"
     ]
    },
    {
     "name": "stdout",
     "output_type": "stream",
     "text": [
      "\u001b[1m351/351\u001b[0m \u001b[32m━━━━━━━━━━━━━━━━━━━━\u001b[0m\u001b[37m\u001b[0m \u001b[1m0s\u001b[0m 1ms/step\n",
      "\u001b[1m351/351\u001b[0m \u001b[32m━━━━━━━━━━━━━━━━━━━━\u001b[0m\u001b[37m\u001b[0m \u001b[1m1s\u001b[0m 1ms/step\n",
      "\u001b[1m351/351\u001b[0m \u001b[32m━━━━━━━━━━━━━━━━━━━━\u001b[0m\u001b[37m\u001b[0m \u001b[1m0s\u001b[0m 1ms/step\n"
     ]
    },
    {
     "name": "stderr",
     "output_type": "stream",
     "text": [
      "[I 2025-02-21 17:53:17,840] Trial 53 finished with value: 2.4246921138167376e+16 and parameters: {'lr': 0.009595705829225577, 'hs': 15, 'dropout': 0.15025277620288785}. Best is trial 31 with value: 2.424690727233557e+16.\n"
     ]
    },
    {
     "name": "stdout",
     "output_type": "stream",
     "text": [
      "\u001b[1m351/351\u001b[0m \u001b[32m━━━━━━━━━━━━━━━━━━━━\u001b[0m\u001b[37m\u001b[0m \u001b[1m1s\u001b[0m 1ms/step\n",
      "\u001b[1m351/351\u001b[0m \u001b[32m━━━━━━━━━━━━━━━━━━━━\u001b[0m\u001b[37m\u001b[0m \u001b[1m1s\u001b[0m 1ms/step\n",
      "\u001b[1m351/351\u001b[0m \u001b[32m━━━━━━━━━━━━━━━━━━━━\u001b[0m\u001b[37m\u001b[0m \u001b[1m1s\u001b[0m 1ms/step\n"
     ]
    },
    {
     "name": "stderr",
     "output_type": "stream",
     "text": [
      "[I 2025-02-21 17:53:57,646] Trial 54 finished with value: 2.4246920165453884e+16 and parameters: {'lr': 0.009347168879771309, 'hs': 14, 'dropout': 0.14411813257314787}. Best is trial 31 with value: 2.424690727233557e+16.\n"
     ]
    },
    {
     "name": "stdout",
     "output_type": "stream",
     "text": [
      "\u001b[1m351/351\u001b[0m \u001b[32m━━━━━━━━━━━━━━━━━━━━\u001b[0m\u001b[37m\u001b[0m \u001b[1m1s\u001b[0m 1ms/step\n",
      "\u001b[1m351/351\u001b[0m \u001b[32m━━━━━━━━━━━━━━━━━━━━\u001b[0m\u001b[37m\u001b[0m \u001b[1m1s\u001b[0m 1ms/step\n",
      "\u001b[1m351/351\u001b[0m \u001b[32m━━━━━━━━━━━━━━━━━━━━\u001b[0m\u001b[37m\u001b[0m \u001b[1m1s\u001b[0m 1ms/step\n"
     ]
    },
    {
     "name": "stderr",
     "output_type": "stream",
     "text": [
      "[I 2025-02-21 17:54:33,685] Trial 55 finished with value: 2.4246920629053612e+16 and parameters: {'lr': 0.00964904580209599, 'hs': 15, 'dropout': 0.12322880680573127}. Best is trial 31 with value: 2.424690727233557e+16.\n"
     ]
    },
    {
     "name": "stdout",
     "output_type": "stream",
     "text": [
      "\u001b[1m351/351\u001b[0m \u001b[32m━━━━━━━━━━━━━━━━━━━━\u001b[0m\u001b[37m\u001b[0m \u001b[1m1s\u001b[0m 1ms/step\n",
      "\u001b[1m351/351\u001b[0m \u001b[32m━━━━━━━━━━━━━━━━━━━━\u001b[0m\u001b[37m\u001b[0m \u001b[1m1s\u001b[0m 1ms/step\n",
      "\u001b[1m351/351\u001b[0m \u001b[32m━━━━━━━━━━━━━━━━━━━━\u001b[0m\u001b[37m\u001b[0m \u001b[1m0s\u001b[0m 1ms/step\n"
     ]
    },
    {
     "name": "stderr",
     "output_type": "stream",
     "text": [
      "[I 2025-02-21 17:55:25,142] Trial 56 finished with value: 2.4246918071327136e+16 and parameters: {'lr': 0.008404278813233731, 'hs': 14, 'dropout': 0.15593166817476228}. Best is trial 31 with value: 2.424690727233557e+16.\n"
     ]
    },
    {
     "name": "stdout",
     "output_type": "stream",
     "text": [
      "\u001b[1m351/351\u001b[0m \u001b[32m━━━━━━━━━━━━━━━━━━━━\u001b[0m\u001b[37m\u001b[0m \u001b[1m1s\u001b[0m 1ms/step\n",
      "\u001b[1m351/351\u001b[0m \u001b[32m━━━━━━━━━━━━━━━━━━━━\u001b[0m\u001b[37m\u001b[0m \u001b[1m1s\u001b[0m 1ms/step\n",
      "\u001b[1m351/351\u001b[0m \u001b[32m━━━━━━━━━━━━━━━━━━━━\u001b[0m\u001b[37m\u001b[0m \u001b[1m1s\u001b[0m 1ms/step\n"
     ]
    },
    {
     "name": "stderr",
     "output_type": "stream",
     "text": [
      "[I 2025-02-21 17:56:06,384] Trial 57 finished with value: 2.424692134797235e+16 and parameters: {'lr': 0.008869005110824238, 'hs': 13, 'dropout': 0.1718306681720001}. Best is trial 31 with value: 2.424690727233557e+16.\n"
     ]
    },
    {
     "name": "stdout",
     "output_type": "stream",
     "text": [
      "\u001b[1m351/351\u001b[0m \u001b[32m━━━━━━━━━━━━━━━━━━━━\u001b[0m\u001b[37m\u001b[0m \u001b[1m1s\u001b[0m 1ms/step\n",
      "\u001b[1m351/351\u001b[0m \u001b[32m━━━━━━━━━━━━━━━━━━━━\u001b[0m\u001b[37m\u001b[0m \u001b[1m1s\u001b[0m 1ms/step\n",
      "\u001b[1m351/351\u001b[0m \u001b[32m━━━━━━━━━━━━━━━━━━━━\u001b[0m\u001b[37m\u001b[0m \u001b[1m1s\u001b[0m 1ms/step\n"
     ]
    },
    {
     "name": "stderr",
     "output_type": "stream",
     "text": [
      "[I 2025-02-21 17:56:59,906] Trial 58 finished with value: 2.4246909853531428e+16 and parameters: {'lr': 0.009310559284251532, 'hs': 16, 'dropout': 0.13373584407453817}. Best is trial 31 with value: 2.424690727233557e+16.\n"
     ]
    },
    {
     "name": "stdout",
     "output_type": "stream",
     "text": [
      "\u001b[1m351/351\u001b[0m \u001b[32m━━━━━━━━━━━━━━━━━━━━\u001b[0m\u001b[37m\u001b[0m \u001b[1m1s\u001b[0m 1ms/step\n",
      "\u001b[1m351/351\u001b[0m \u001b[32m━━━━━━━━━━━━━━━━━━━━\u001b[0m\u001b[37m\u001b[0m \u001b[1m1s\u001b[0m 1ms/step\n",
      "\u001b[1m351/351\u001b[0m \u001b[32m━━━━━━━━━━━━━━━━━━━━\u001b[0m\u001b[37m\u001b[0m \u001b[1m1s\u001b[0m 1ms/step\n"
     ]
    },
    {
     "name": "stderr",
     "output_type": "stream",
     "text": [
      "[I 2025-02-21 17:57:46,153] Trial 59 finished with value: 2.424691764800237e+16 and parameters: {'lr': 0.008113604193108206, 'hs': 16, 'dropout': 0.13200887021137406}. Best is trial 31 with value: 2.424690727233557e+16.\n"
     ]
    },
    {
     "name": "stdout",
     "output_type": "stream",
     "text": [
      "\u001b[1m351/351\u001b[0m \u001b[32m━━━━━━━━━━━━━━━━━━━━\u001b[0m\u001b[37m\u001b[0m \u001b[1m1s\u001b[0m 1ms/step\n",
      "\u001b[1m351/351\u001b[0m \u001b[32m━━━━━━━━━━━━━━━━━━━━\u001b[0m\u001b[37m\u001b[0m \u001b[1m1s\u001b[0m 1ms/step\n",
      "\u001b[1m351/351\u001b[0m \u001b[32m━━━━━━━━━━━━━━━━━━━━\u001b[0m\u001b[37m\u001b[0m \u001b[1m1s\u001b[0m 1ms/step\n"
     ]
    },
    {
     "name": "stderr",
     "output_type": "stream",
     "text": [
      "[I 2025-02-21 17:58:18,159] Trial 60 finished with value: 2.4246920311340156e+16 and parameters: {'lr': 0.009157818888903303, 'hs': 16, 'dropout': 0.13909249824624653}. Best is trial 31 with value: 2.424690727233557e+16.\n"
     ]
    },
    {
     "name": "stdout",
     "output_type": "stream",
     "text": [
      "\u001b[1m351/351\u001b[0m \u001b[32m━━━━━━━━━━━━━━━━━━━━\u001b[0m\u001b[37m\u001b[0m \u001b[1m0s\u001b[0m 1ms/step\n",
      "\u001b[1m351/351\u001b[0m \u001b[32m━━━━━━━━━━━━━━━━━━━━\u001b[0m\u001b[37m\u001b[0m \u001b[1m1s\u001b[0m 1ms/step\n",
      "\u001b[1m351/351\u001b[0m \u001b[32m━━━━━━━━━━━━━━━━━━━━\u001b[0m\u001b[37m\u001b[0m \u001b[1m0s\u001b[0m 1ms/step\n"
     ]
    },
    {
     "name": "stderr",
     "output_type": "stream",
     "text": [
      "[I 2025-02-21 17:58:44,839] Trial 61 finished with value: 2.424692257512109e+16 and parameters: {'lr': 0.009613197995049791, 'hs': 15, 'dropout': 0.14845590372920264}. Best is trial 31 with value: 2.424690727233557e+16.\n"
     ]
    },
    {
     "name": "stdout",
     "output_type": "stream",
     "text": [
      "\u001b[1m351/351\u001b[0m \u001b[32m━━━━━━━━━━━━━━━━━━━━\u001b[0m\u001b[37m\u001b[0m \u001b[1m0s\u001b[0m 1ms/step\n",
      "\u001b[1m351/351\u001b[0m \u001b[32m━━━━━━━━━━━━━━━━━━━━\u001b[0m\u001b[37m\u001b[0m \u001b[1m1s\u001b[0m 1ms/step\n",
      "\u001b[1m351/351\u001b[0m \u001b[32m━━━━━━━━━━━━━━━━━━━━\u001b[0m\u001b[37m\u001b[0m \u001b[1m1s\u001b[0m 1ms/step\n"
     ]
    },
    {
     "name": "stderr",
     "output_type": "stream",
     "text": [
      "[I 2025-02-21 17:59:25,271] Trial 62 finished with value: 2.424691776569139e+16 and parameters: {'lr': 0.009967654448329531, 'hs': 14, 'dropout': 0.11008165043585659}. Best is trial 31 with value: 2.424690727233557e+16.\n"
     ]
    },
    {
     "name": "stdout",
     "output_type": "stream",
     "text": [
      "\u001b[1m351/351\u001b[0m \u001b[32m━━━━━━━━━━━━━━━━━━━━\u001b[0m\u001b[37m\u001b[0m \u001b[1m0s\u001b[0m 1ms/step\n",
      "\u001b[1m351/351\u001b[0m \u001b[32m━━━━━━━━━━━━━━━━━━━━\u001b[0m\u001b[37m\u001b[0m \u001b[1m1s\u001b[0m 1ms/step\n",
      "\u001b[1m351/351\u001b[0m \u001b[32m━━━━━━━━━━━━━━━━━━━━\u001b[0m\u001b[37m\u001b[0m \u001b[1m1s\u001b[0m 1ms/step\n"
     ]
    },
    {
     "name": "stderr",
     "output_type": "stream",
     "text": [
      "[I 2025-02-21 18:00:05,428] Trial 63 finished with value: 2.4246918412819244e+16 and parameters: {'lr': 0.009286662571096694, 'hs': 15, 'dropout': 0.1618320265602637}. Best is trial 31 with value: 2.424690727233557e+16.\n"
     ]
    },
    {
     "name": "stdout",
     "output_type": "stream",
     "text": [
      "\u001b[1m351/351\u001b[0m \u001b[32m━━━━━━━━━━━━━━━━━━━━\u001b[0m\u001b[37m\u001b[0m \u001b[1m0s\u001b[0m 1ms/step\n",
      "\u001b[1m351/351\u001b[0m \u001b[32m━━━━━━━━━━━━━━━━━━━━\u001b[0m\u001b[37m\u001b[0m \u001b[1m1s\u001b[0m 1ms/step\n",
      "\u001b[1m351/351\u001b[0m \u001b[32m━━━━━━━━━━━━━━━━━━━━\u001b[0m\u001b[37m\u001b[0m \u001b[1m1s\u001b[0m 1ms/step\n"
     ]
    },
    {
     "name": "stderr",
     "output_type": "stream",
     "text": [
      "[I 2025-02-21 18:00:44,933] Trial 64 finished with value: 2.4246918729028396e+16 and parameters: {'lr': 0.008775685863907685, 'hs': 16, 'dropout': 0.15512695507479052}. Best is trial 31 with value: 2.424690727233557e+16.\n"
     ]
    },
    {
     "name": "stdout",
     "output_type": "stream",
     "text": [
      "\u001b[1m351/351\u001b[0m \u001b[32m━━━━━━━━━━━━━━━━━━━━\u001b[0m\u001b[37m\u001b[0m \u001b[1m1s\u001b[0m 1ms/step\n",
      "\u001b[1m351/351\u001b[0m \u001b[32m━━━━━━━━━━━━━━━━━━━━\u001b[0m\u001b[37m\u001b[0m \u001b[1m1s\u001b[0m 1ms/step\n",
      "\u001b[1m351/351\u001b[0m \u001b[32m━━━━━━━━━━━━━━━━━━━━\u001b[0m\u001b[37m\u001b[0m \u001b[1m1s\u001b[0m 1ms/step\n"
     ]
    },
    {
     "name": "stderr",
     "output_type": "stream",
     "text": [
      "[I 2025-02-21 18:01:27,886] Trial 65 finished with value: 2.4246931445693508e+16 and parameters: {'lr': 0.0008435422380290349, 'hs': 7, 'dropout': 0.1445099147173574}. Best is trial 31 with value: 2.424690727233557e+16.\n"
     ]
    },
    {
     "name": "stdout",
     "output_type": "stream",
     "text": [
      "\u001b[1m351/351\u001b[0m \u001b[32m━━━━━━━━━━━━━━━━━━━━\u001b[0m\u001b[37m\u001b[0m \u001b[1m1s\u001b[0m 1ms/step\n",
      "\u001b[1m351/351\u001b[0m \u001b[32m━━━━━━━━━━━━━━━━━━━━\u001b[0m\u001b[37m\u001b[0m \u001b[1m1s\u001b[0m 1ms/step\n",
      "\u001b[1m351/351\u001b[0m \u001b[32m━━━━━━━━━━━━━━━━━━━━\u001b[0m\u001b[37m\u001b[0m \u001b[1m1s\u001b[0m 1ms/step\n"
     ]
    },
    {
     "name": "stderr",
     "output_type": "stream",
     "text": [
      "[I 2025-02-21 18:02:04,090] Trial 66 finished with value: 2.4246923763138644e+16 and parameters: {'lr': 0.007788561482230892, 'hs': 13, 'dropout': 0.13390481084049055}. Best is trial 31 with value: 2.424690727233557e+16.\n"
     ]
    },
    {
     "name": "stdout",
     "output_type": "stream",
     "text": [
      "\u001b[1m351/351\u001b[0m \u001b[32m━━━━━━━━━━━━━━━━━━━━\u001b[0m\u001b[37m\u001b[0m \u001b[1m0s\u001b[0m 1ms/step\n",
      "\u001b[1m351/351\u001b[0m \u001b[32m━━━━━━━━━━━━━━━━━━━━\u001b[0m\u001b[37m\u001b[0m \u001b[1m1s\u001b[0m 1ms/step\n",
      "\u001b[1m351/351\u001b[0m \u001b[32m━━━━━━━━━━━━━━━━━━━━\u001b[0m\u001b[37m\u001b[0m \u001b[1m1s\u001b[0m 1ms/step\n"
     ]
    },
    {
     "name": "stderr",
     "output_type": "stream",
     "text": [
      "[I 2025-02-21 18:02:38,537] Trial 67 finished with value: 2.4246922111061132e+16 and parameters: {'lr': 0.009496697748234344, 'hs': 12, 'dropout': 0.16582540049575156}. Best is trial 31 with value: 2.424690727233557e+16.\n"
     ]
    },
    {
     "name": "stdout",
     "output_type": "stream",
     "text": [
      "\u001b[1m351/351\u001b[0m \u001b[32m━━━━━━━━━━━━━━━━━━━━\u001b[0m\u001b[37m\u001b[0m \u001b[1m1s\u001b[0m 1ms/step\n",
      "\u001b[1m351/351\u001b[0m \u001b[32m━━━━━━━━━━━━━━━━━━━━\u001b[0m\u001b[37m\u001b[0m \u001b[1m1s\u001b[0m 1ms/step\n",
      "\u001b[1m351/351\u001b[0m \u001b[32m━━━━━━━━━━━━━━━━━━━━\u001b[0m\u001b[37m\u001b[0m \u001b[1m1s\u001b[0m 1ms/step\n"
     ]
    },
    {
     "name": "stderr",
     "output_type": "stream",
     "text": [
      "[I 2025-02-21 18:03:20,003] Trial 68 finished with value: 2.4246922222587012e+16 and parameters: {'lr': 0.009040885950179364, 'hs': 15, 'dropout': 0.14099816795173525}. Best is trial 31 with value: 2.424690727233557e+16.\n"
     ]
    },
    {
     "name": "stdout",
     "output_type": "stream",
     "text": [
      "\u001b[1m351/351\u001b[0m \u001b[32m━━━━━━━━━━━━━━━━━━━━\u001b[0m\u001b[37m\u001b[0m \u001b[1m1s\u001b[0m 1ms/step\n",
      "\u001b[1m351/351\u001b[0m \u001b[32m━━━━━━━━━━━━━━━━━━━━\u001b[0m\u001b[37m\u001b[0m \u001b[1m1s\u001b[0m 1ms/step\n",
      "\u001b[1m351/351\u001b[0m \u001b[32m━━━━━━━━━━━━━━━━━━━━\u001b[0m\u001b[37m\u001b[0m \u001b[1m1s\u001b[0m 1ms/step\n"
     ]
    },
    {
     "name": "stderr",
     "output_type": "stream",
     "text": [
      "[I 2025-02-21 18:04:09,109] Trial 69 finished with value: 2.4246917052125308e+16 and parameters: {'lr': 0.00839762285555911, 'hs': 14, 'dropout': 0.15387154571218573}. Best is trial 31 with value: 2.424690727233557e+16.\n"
     ]
    },
    {
     "name": "stdout",
     "output_type": "stream",
     "text": [
      "\u001b[1m351/351\u001b[0m \u001b[32m━━━━━━━━━━━━━━━━━━━━\u001b[0m\u001b[37m\u001b[0m \u001b[1m1s\u001b[0m 1ms/step\n",
      "\u001b[1m351/351\u001b[0m \u001b[32m━━━━━━━━━━━━━━━━━━━━\u001b[0m\u001b[37m\u001b[0m \u001b[1m1s\u001b[0m 1ms/step\n",
      "\u001b[1m351/351\u001b[0m \u001b[32m━━━━━━━━━━━━━━━━━━━━\u001b[0m\u001b[37m\u001b[0m \u001b[1m1s\u001b[0m 1ms/step\n"
     ]
    },
    {
     "name": "stderr",
     "output_type": "stream",
     "text": [
      "[I 2025-02-21 18:04:49,920] Trial 70 finished with value: 2.424692749895003e+16 and parameters: {'lr': 0.009744123385791085, 'hs': 4, 'dropout': 0.11953041890097846}. Best is trial 31 with value: 2.424690727233557e+16.\n"
     ]
    },
    {
     "name": "stdout",
     "output_type": "stream",
     "text": [
      "\u001b[1m351/351\u001b[0m \u001b[32m━━━━━━━━━━━━━━━━━━━━\u001b[0m\u001b[37m\u001b[0m \u001b[1m1s\u001b[0m 1ms/step\n",
      "\u001b[1m351/351\u001b[0m \u001b[32m━━━━━━━━━━━━━━━━━━━━\u001b[0m\u001b[37m\u001b[0m \u001b[1m1s\u001b[0m 1ms/step\n",
      "\u001b[1m351/351\u001b[0m \u001b[32m━━━━━━━━━━━━━━━━━━━━\u001b[0m\u001b[37m\u001b[0m \u001b[1m1s\u001b[0m 1ms/step\n"
     ]
    },
    {
     "name": "stderr",
     "output_type": "stream",
     "text": [
      "[I 2025-02-21 18:05:51,184] Trial 71 finished with value: 2.42469103474719e+16 and parameters: {'lr': 0.008863928928468138, 'hs': 16, 'dropout': 0.1602560146113724}. Best is trial 31 with value: 2.424690727233557e+16.\n"
     ]
    },
    {
     "name": "stdout",
     "output_type": "stream",
     "text": [
      "\u001b[1m351/351\u001b[0m \u001b[32m━━━━━━━━━━━━━━━━━━━━\u001b[0m\u001b[37m\u001b[0m \u001b[1m1s\u001b[0m 1ms/step\n",
      "\u001b[1m351/351\u001b[0m \u001b[32m━━━━━━━━━━━━━━━━━━━━\u001b[0m\u001b[37m\u001b[0m \u001b[1m1s\u001b[0m 1ms/step\n",
      "\u001b[1m351/351\u001b[0m \u001b[32m━━━━━━━━━━━━━━━━━━━━\u001b[0m\u001b[37m\u001b[0m \u001b[1m1s\u001b[0m 1ms/step\n"
     ]
    },
    {
     "name": "stderr",
     "output_type": "stream",
     "text": [
      "[I 2025-02-21 18:06:22,852] Trial 72 finished with value: 2.4246920253410064e+16 and parameters: {'lr': 0.009125395821338476, 'hs': 16, 'dropout': 0.15849079948496253}. Best is trial 31 with value: 2.424690727233557e+16.\n"
     ]
    },
    {
     "name": "stdout",
     "output_type": "stream",
     "text": [
      "\u001b[1m351/351\u001b[0m \u001b[32m━━━━━━━━━━━━━━━━━━━━\u001b[0m\u001b[37m\u001b[0m \u001b[1m1s\u001b[0m 1ms/step\n",
      "\u001b[1m351/351\u001b[0m \u001b[32m━━━━━━━━━━━━━━━━━━━━\u001b[0m\u001b[37m\u001b[0m \u001b[1m1s\u001b[0m 1ms/step\n",
      "\u001b[1m351/351\u001b[0m \u001b[32m━━━━━━━━━━━━━━━━━━━━\u001b[0m\u001b[37m\u001b[0m \u001b[1m1s\u001b[0m 1ms/step\n"
     ]
    },
    {
     "name": "stderr",
     "output_type": "stream",
     "text": [
      "[I 2025-02-21 18:06:54,213] Trial 73 finished with value: 2.4246922811668896e+16 and parameters: {'lr': 0.008739900585487298, 'hs': 16, 'dropout': 0.17101819676298557}. Best is trial 31 with value: 2.424690727233557e+16.\n"
     ]
    },
    {
     "name": "stdout",
     "output_type": "stream",
     "text": [
      "\u001b[1m351/351\u001b[0m \u001b[32m━━━━━━━━━━━━━━━━━━━━\u001b[0m\u001b[37m\u001b[0m \u001b[1m1s\u001b[0m 1ms/step\n",
      "\u001b[1m351/351\u001b[0m \u001b[32m━━━━━━━━━━━━━━━━━━━━\u001b[0m\u001b[37m\u001b[0m \u001b[1m1s\u001b[0m 1ms/step\n",
      "\u001b[1m351/351\u001b[0m \u001b[32m━━━━━━━━━━━━━━━━━━━━\u001b[0m\u001b[37m\u001b[0m \u001b[1m1s\u001b[0m 1ms/step\n"
     ]
    },
    {
     "name": "stderr",
     "output_type": "stream",
     "text": [
      "[I 2025-02-21 18:07:27,006] Trial 74 finished with value: 2.4246921298704484e+16 and parameters: {'lr': 0.009752533558362309, 'hs': 15, 'dropout': 0.14739552087261704}. Best is trial 31 with value: 2.424690727233557e+16.\n"
     ]
    },
    {
     "name": "stdout",
     "output_type": "stream",
     "text": [
      "\u001b[1m351/351\u001b[0m \u001b[32m━━━━━━━━━━━━━━━━━━━━\u001b[0m\u001b[37m\u001b[0m \u001b[1m1s\u001b[0m 1ms/step\n",
      "\u001b[1m351/351\u001b[0m \u001b[32m━━━━━━━━━━━━━━━━━━━━\u001b[0m\u001b[37m\u001b[0m \u001b[1m0s\u001b[0m 1ms/step\n",
      "\u001b[1m351/351\u001b[0m \u001b[32m━━━━━━━━━━━━━━━━━━━━\u001b[0m\u001b[37m\u001b[0m \u001b[1m1s\u001b[0m 1ms/step\n"
     ]
    },
    {
     "name": "stderr",
     "output_type": "stream",
     "text": [
      "[I 2025-02-21 18:08:20,425] Trial 75 finished with value: 2.424690988582397e+16 and parameters: {'lr': 0.009401815125348736, 'hs': 16, 'dropout': 0.16176102899488454}. Best is trial 31 with value: 2.424690727233557e+16.\n"
     ]
    },
    {
     "name": "stdout",
     "output_type": "stream",
     "text": [
      "\u001b[1m351/351\u001b[0m \u001b[32m━━━━━━━━━━━━━━━━━━━━\u001b[0m\u001b[37m\u001b[0m \u001b[1m1s\u001b[0m 1ms/step\n",
      "\u001b[1m351/351\u001b[0m \u001b[32m━━━━━━━━━━━━━━━━━━━━\u001b[0m\u001b[37m\u001b[0m \u001b[1m1s\u001b[0m 1ms/step\n",
      "\u001b[1m351/351\u001b[0m \u001b[32m━━━━━━━━━━━━━━━━━━━━\u001b[0m\u001b[37m\u001b[0m \u001b[1m1s\u001b[0m 1ms/step\n"
     ]
    },
    {
     "name": "stderr",
     "output_type": "stream",
     "text": [
      "[I 2025-02-21 18:09:10,338] Trial 76 finished with value: 2.4246911332677564e+16 and parameters: {'lr': 0.00831453049970356, 'hs': 16, 'dropout': 0.16209115364027277}. Best is trial 31 with value: 2.424690727233557e+16.\n"
     ]
    },
    {
     "name": "stdout",
     "output_type": "stream",
     "text": [
      "\u001b[1m351/351\u001b[0m \u001b[32m━━━━━━━━━━━━━━━━━━━━\u001b[0m\u001b[37m\u001b[0m \u001b[1m1s\u001b[0m 1ms/step\n",
      "\u001b[1m351/351\u001b[0m \u001b[32m━━━━━━━━━━━━━━━━━━━━\u001b[0m\u001b[37m\u001b[0m \u001b[1m1s\u001b[0m 1ms/step\n",
      "\u001b[1m351/351\u001b[0m \u001b[32m━━━━━━━━━━━━━━━━━━━━\u001b[0m\u001b[37m\u001b[0m \u001b[1m1s\u001b[0m 1ms/step\n"
     ]
    },
    {
     "name": "stderr",
     "output_type": "stream",
     "text": [
      "[I 2025-02-21 18:09:45,486] Trial 77 finished with value: 2.4246920642912956e+16 and parameters: {'lr': 0.008186208782270573, 'hs': 16, 'dropout': 0.1805959867366729}. Best is trial 31 with value: 2.424690727233557e+16.\n"
     ]
    },
    {
     "name": "stdout",
     "output_type": "stream",
     "text": [
      "\u001b[1m351/351\u001b[0m \u001b[32m━━━━━━━━━━━━━━━━━━━━\u001b[0m\u001b[37m\u001b[0m \u001b[1m1s\u001b[0m 1ms/step\n",
      "\u001b[1m351/351\u001b[0m \u001b[32m━━━━━━━━━━━━━━━━━━━━\u001b[0m\u001b[37m\u001b[0m \u001b[1m1s\u001b[0m 1ms/step\n",
      "\u001b[1m351/351\u001b[0m \u001b[32m━━━━━━━━━━━━━━━━━━━━\u001b[0m\u001b[37m\u001b[0m \u001b[1m1s\u001b[0m 1ms/step\n"
     ]
    },
    {
     "name": "stderr",
     "output_type": "stream",
     "text": [
      "[I 2025-02-21 18:10:37,624] Trial 78 finished with value: 2.424691453604358e+16 and parameters: {'lr': 0.008382618887114703, 'hs': 16, 'dropout': 0.16164604412082684}. Best is trial 31 with value: 2.424690727233557e+16.\n"
     ]
    },
    {
     "name": "stdout",
     "output_type": "stream",
     "text": [
      "\u001b[1m351/351\u001b[0m \u001b[32m━━━━━━━━━━━━━━━━━━━━\u001b[0m\u001b[37m\u001b[0m \u001b[1m1s\u001b[0m 1ms/step\n",
      "\u001b[1m351/351\u001b[0m \u001b[32m━━━━━━━━━━━━━━━━━━━━\u001b[0m\u001b[37m\u001b[0m \u001b[1m1s\u001b[0m 1ms/step\n",
      "\u001b[1m351/351\u001b[0m \u001b[32m━━━━━━━━━━━━━━━━━━━━\u001b[0m\u001b[37m\u001b[0m \u001b[1m1s\u001b[0m 1ms/step\n"
     ]
    },
    {
     "name": "stderr",
     "output_type": "stream",
     "text": [
      "[I 2025-02-21 18:11:12,927] Trial 79 finished with value: 2.4246918350965904e+16 and parameters: {'lr': 0.008895778812490405, 'hs': 16, 'dropout': 0.16583678654911002}. Best is trial 31 with value: 2.424690727233557e+16.\n"
     ]
    },
    {
     "name": "stdout",
     "output_type": "stream",
     "text": [
      "\u001b[1m351/351\u001b[0m \u001b[32m━━━━━━━━━━━━━━━━━━━━\u001b[0m\u001b[37m\u001b[0m \u001b[1m0s\u001b[0m 1ms/step\n",
      "\u001b[1m351/351\u001b[0m \u001b[32m━━━━━━━━━━━━━━━━━━━━\u001b[0m\u001b[37m\u001b[0m \u001b[1m1s\u001b[0m 1ms/step\n",
      "\u001b[1m351/351\u001b[0m \u001b[32m━━━━━━━━━━━━━━━━━━━━\u001b[0m\u001b[37m\u001b[0m \u001b[1m1s\u001b[0m 1ms/step\n"
     ]
    },
    {
     "name": "stderr",
     "output_type": "stream",
     "text": [
      "[I 2025-02-21 18:11:51,374] Trial 80 finished with value: 2.4246921248390732e+16 and parameters: {'lr': 0.007159033590595504, 'hs': 15, 'dropout': 0.18615923456773104}. Best is trial 31 with value: 2.424690727233557e+16.\n"
     ]
    },
    {
     "name": "stdout",
     "output_type": "stream",
     "text": [
      "\u001b[1m351/351\u001b[0m \u001b[32m━━━━━━━━━━━━━━━━━━━━\u001b[0m\u001b[37m\u001b[0m \u001b[1m1s\u001b[0m 1ms/step\n",
      "\u001b[1m351/351\u001b[0m \u001b[32m━━━━━━━━━━━━━━━━━━━━\u001b[0m\u001b[37m\u001b[0m \u001b[1m1s\u001b[0m 1ms/step\n",
      "\u001b[1m351/351\u001b[0m \u001b[32m━━━━━━━━━━━━━━━━━━━━\u001b[0m\u001b[37m\u001b[0m \u001b[1m1s\u001b[0m 1ms/step\n"
     ]
    },
    {
     "name": "stderr",
     "output_type": "stream",
     "text": [
      "[I 2025-02-21 18:12:33,129] Trial 81 finished with value: 2.424691964643518e+16 and parameters: {'lr': 0.007911644165573634, 'hs': 16, 'dropout': 0.17447331709899866}. Best is trial 31 with value: 2.424690727233557e+16.\n"
     ]
    },
    {
     "name": "stdout",
     "output_type": "stream",
     "text": [
      "\u001b[1m351/351\u001b[0m \u001b[32m━━━━━━━━━━━━━━━━━━━━\u001b[0m\u001b[37m\u001b[0m \u001b[1m1s\u001b[0m 1ms/step\n",
      "\u001b[1m351/351\u001b[0m \u001b[32m━━━━━━━━━━━━━━━━━━━━\u001b[0m\u001b[37m\u001b[0m \u001b[1m0s\u001b[0m 1ms/step\n",
      "\u001b[1m351/351\u001b[0m \u001b[32m━━━━━━━━━━━━━━━━━━━━\u001b[0m\u001b[37m\u001b[0m \u001b[1m1s\u001b[0m 1ms/step\n"
     ]
    },
    {
     "name": "stderr",
     "output_type": "stream",
     "text": [
      "[I 2025-02-21 18:13:00,383] Trial 82 finished with value: 2.4246922306708316e+16 and parameters: {'lr': 0.008546759979469486, 'hs': 16, 'dropout': 0.15984060607032946}. Best is trial 31 with value: 2.424690727233557e+16.\n"
     ]
    },
    {
     "name": "stdout",
     "output_type": "stream",
     "text": [
      "\u001b[1m351/351\u001b[0m \u001b[32m━━━━━━━━━━━━━━━━━━━━\u001b[0m\u001b[37m\u001b[0m \u001b[1m0s\u001b[0m 1ms/step\n",
      "\u001b[1m351/351\u001b[0m \u001b[32m━━━━━━━━━━━━━━━━━━━━\u001b[0m\u001b[37m\u001b[0m \u001b[1m0s\u001b[0m 1ms/step\n",
      "\u001b[1m351/351\u001b[0m \u001b[32m━━━━━━━━━━━━━━━━━━━━\u001b[0m\u001b[37m\u001b[0m \u001b[1m0s\u001b[0m 1ms/step\n"
     ]
    },
    {
     "name": "stderr",
     "output_type": "stream",
     "text": [
      "[I 2025-02-21 18:14:02,252] Trial 83 finished with value: 2.4246908924432708e+16 and parameters: {'lr': 0.008242892581614961, 'hs': 16, 'dropout': 0.17018523240468267}. Best is trial 31 with value: 2.424690727233557e+16.\n"
     ]
    },
    {
     "name": "stdout",
     "output_type": "stream",
     "text": [
      "\u001b[1m351/351\u001b[0m \u001b[32m━━━━━━━━━━━━━━━━━━━━\u001b[0m\u001b[37m\u001b[0m \u001b[1m0s\u001b[0m 1ms/step\n",
      "\u001b[1m351/351\u001b[0m \u001b[32m━━━━━━━━━━━━━━━━━━━━\u001b[0m\u001b[37m\u001b[0m \u001b[1m0s\u001b[0m 1ms/step\n",
      "\u001b[1m351/351\u001b[0m \u001b[32m━━━━━━━━━━━━━━━━━━━━\u001b[0m\u001b[37m\u001b[0m \u001b[1m1s\u001b[0m 1ms/step\n"
     ]
    },
    {
     "name": "stderr",
     "output_type": "stream",
     "text": [
      "[I 2025-02-21 18:14:48,094] Trial 84 finished with value: 2.4246918280943756e+16 and parameters: {'lr': 0.006635479734300175, 'hs': 15, 'dropout': 0.15673932660944656}. Best is trial 31 with value: 2.424690727233557e+16.\n"
     ]
    },
    {
     "name": "stdout",
     "output_type": "stream",
     "text": [
      "\u001b[1m351/351\u001b[0m \u001b[32m━━━━━━━━━━━━━━━━━━━━\u001b[0m\u001b[37m\u001b[0m \u001b[1m0s\u001b[0m 1ms/step\n",
      "\u001b[1m351/351\u001b[0m \u001b[32m━━━━━━━━━━━━━━━━━━━━\u001b[0m\u001b[37m\u001b[0m \u001b[1m1s\u001b[0m 1ms/step\n",
      "\u001b[1m351/351\u001b[0m \u001b[32m━━━━━━━━━━━━━━━━━━━━\u001b[0m\u001b[37m\u001b[0m \u001b[1m0s\u001b[0m 1ms/step\n"
     ]
    },
    {
     "name": "stderr",
     "output_type": "stream",
     "text": [
      "[I 2025-02-21 18:15:26,633] Trial 85 finished with value: 2.4246921598374028e+16 and parameters: {'lr': 0.007591551473028572, 'hs': 16, 'dropout': 0.17137239801227763}. Best is trial 31 with value: 2.424690727233557e+16.\n"
     ]
    },
    {
     "name": "stdout",
     "output_type": "stream",
     "text": [
      "\u001b[1m351/351\u001b[0m \u001b[32m━━━━━━━━━━━━━━━━━━━━\u001b[0m\u001b[37m\u001b[0m \u001b[1m1s\u001b[0m 1ms/step\n",
      "\u001b[1m351/351\u001b[0m \u001b[32m━━━━━━━━━━━━━━━━━━━━\u001b[0m\u001b[37m\u001b[0m \u001b[1m1s\u001b[0m 1ms/step\n",
      "\u001b[1m351/351\u001b[0m \u001b[32m━━━━━━━━━━━━━━━━━━━━\u001b[0m\u001b[37m\u001b[0m \u001b[1m1s\u001b[0m 1ms/step\n"
     ]
    },
    {
     "name": "stderr",
     "output_type": "stream",
     "text": [
      "[I 2025-02-21 18:16:16,173] Trial 86 finished with value: 2.424691540029218e+16 and parameters: {'lr': 0.00920632066578858, 'hs': 15, 'dropout': 0.1681048136772376}. Best is trial 31 with value: 2.424690727233557e+16.\n"
     ]
    },
    {
     "name": "stdout",
     "output_type": "stream",
     "text": [
      "\u001b[1m351/351\u001b[0m \u001b[32m━━━━━━━━━━━━━━━━━━━━\u001b[0m\u001b[37m\u001b[0m \u001b[1m1s\u001b[0m 1ms/step\n",
      "\u001b[1m351/351\u001b[0m \u001b[32m━━━━━━━━━━━━━━━━━━━━\u001b[0m\u001b[37m\u001b[0m \u001b[1m1s\u001b[0m 1ms/step\n",
      "\u001b[1m351/351\u001b[0m \u001b[32m━━━━━━━━━━━━━━━━━━━━\u001b[0m\u001b[37m\u001b[0m \u001b[1m1s\u001b[0m 1ms/step\n"
     ]
    },
    {
     "name": "stderr",
     "output_type": "stream",
     "text": [
      "[I 2025-02-21 18:16:41,095] Trial 87 finished with value: 2.4246927604565372e+16 and parameters: {'lr': 0.0048044557703493754, 'hs': 16, 'dropout': 0.16332356383927482}. Best is trial 31 with value: 2.424690727233557e+16.\n"
     ]
    },
    {
     "name": "stdout",
     "output_type": "stream",
     "text": [
      "\u001b[1m351/351\u001b[0m \u001b[32m━━━━━━━━━━━━━━━━━━━━\u001b[0m\u001b[37m\u001b[0m \u001b[1m0s\u001b[0m 1ms/step\n",
      "\u001b[1m351/351\u001b[0m \u001b[32m━━━━━━━━━━━━━━━━━━━━\u001b[0m\u001b[37m\u001b[0m \u001b[1m0s\u001b[0m 1ms/step\n",
      "\u001b[1m351/351\u001b[0m \u001b[32m━━━━━━━━━━━━━━━━━━━━\u001b[0m\u001b[37m\u001b[0m \u001b[1m0s\u001b[0m 1ms/step\n"
     ]
    },
    {
     "name": "stderr",
     "output_type": "stream",
     "text": [
      "[I 2025-02-21 18:17:24,922] Trial 88 finished with value: 2.4246921892620116e+16 and parameters: {'lr': 0.008804740664858547, 'hs': 9, 'dropout': 0.15248897067402656}. Best is trial 31 with value: 2.424690727233557e+16.\n"
     ]
    },
    {
     "name": "stdout",
     "output_type": "stream",
     "text": [
      "\u001b[1m351/351\u001b[0m \u001b[32m━━━━━━━━━━━━━━━━━━━━\u001b[0m\u001b[37m\u001b[0m \u001b[1m1s\u001b[0m 1ms/step\n",
      "\u001b[1m351/351\u001b[0m \u001b[32m━━━━━━━━━━━━━━━━━━━━\u001b[0m\u001b[37m\u001b[0m \u001b[1m1s\u001b[0m 1ms/step\n",
      "\u001b[1m351/351\u001b[0m \u001b[32m━━━━━━━━━━━━━━━━━━━━\u001b[0m\u001b[37m\u001b[0m \u001b[1m1s\u001b[0m 1ms/step\n"
     ]
    },
    {
     "name": "stderr",
     "output_type": "stream",
     "text": [
      "[I 2025-02-21 18:18:16,411] Trial 89 finished with value: 2.4246913602839468e+16 and parameters: {'lr': 0.009375683246701832, 'hs': 15, 'dropout': 0.12982758700523003}. Best is trial 31 with value: 2.424690727233557e+16.\n"
     ]
    },
    {
     "name": "stdout",
     "output_type": "stream",
     "text": [
      "\u001b[1m351/351\u001b[0m \u001b[32m━━━━━━━━━━━━━━━━━━━━\u001b[0m\u001b[37m\u001b[0m \u001b[1m0s\u001b[0m 1ms/step\n",
      "\u001b[1m351/351\u001b[0m \u001b[32m━━━━━━━━━━━━━━━━━━━━\u001b[0m\u001b[37m\u001b[0m \u001b[1m0s\u001b[0m 1ms/step\n",
      "\u001b[1m351/351\u001b[0m \u001b[32m━━━━━━━━━━━━━━━━━━━━\u001b[0m\u001b[37m\u001b[0m \u001b[1m1s\u001b[0m 1ms/step\n"
     ]
    },
    {
     "name": "stderr",
     "output_type": "stream",
     "text": [
      "[I 2025-02-21 18:18:47,307] Trial 90 finished with value: 2.424692556644606e+16 and parameters: {'lr': 0.009798343534232342, 'hs': 8, 'dropout': 0.1806330651101534}. Best is trial 31 with value: 2.424690727233557e+16.\n"
     ]
    },
    {
     "name": "stdout",
     "output_type": "stream",
     "text": [
      "\u001b[1m351/351\u001b[0m \u001b[32m━━━━━━━━━━━━━━━━━━━━\u001b[0m\u001b[37m\u001b[0m \u001b[1m0s\u001b[0m 1ms/step\n",
      "\u001b[1m351/351\u001b[0m \u001b[32m━━━━━━━━━━━━━━━━━━━━\u001b[0m\u001b[37m\u001b[0m \u001b[1m0s\u001b[0m 1ms/step\n",
      "\u001b[1m351/351\u001b[0m \u001b[32m━━━━━━━━━━━━━━━━━━━━\u001b[0m\u001b[37m\u001b[0m \u001b[1m1s\u001b[0m 1ms/step\n"
     ]
    },
    {
     "name": "stderr",
     "output_type": "stream",
     "text": [
      "[I 2025-02-21 18:19:31,723] Trial 91 finished with value: 2.424691461221829e+16 and parameters: {'lr': 0.009340999480909561, 'hs': 15, 'dropout': 0.1275817545226117}. Best is trial 31 with value: 2.424690727233557e+16.\n"
     ]
    },
    {
     "name": "stdout",
     "output_type": "stream",
     "text": [
      "\u001b[1m351/351\u001b[0m \u001b[32m━━━━━━━━━━━━━━━━━━━━\u001b[0m\u001b[37m\u001b[0m \u001b[1m0s\u001b[0m 1ms/step\n",
      "\u001b[1m351/351\u001b[0m \u001b[32m━━━━━━━━━━━━━━━━━━━━\u001b[0m\u001b[37m\u001b[0m \u001b[1m1s\u001b[0m 1ms/step\n",
      "\u001b[1m351/351\u001b[0m \u001b[32m━━━━━━━━━━━━━━━━━━━━\u001b[0m\u001b[37m\u001b[0m \u001b[1m1s\u001b[0m 1ms/step\n"
     ]
    },
    {
     "name": "stderr",
     "output_type": "stream",
     "text": [
      "[I 2025-02-21 18:20:04,505] Trial 92 finished with value: 2.424692063809488e+16 and parameters: {'lr': 0.009052950092645368, 'hs': 16, 'dropout': 0.13555134215337233}. Best is trial 31 with value: 2.424690727233557e+16.\n"
     ]
    },
    {
     "name": "stdout",
     "output_type": "stream",
     "text": [
      "\u001b[1m351/351\u001b[0m \u001b[32m━━━━━━━━━━━━━━━━━━━━\u001b[0m\u001b[37m\u001b[0m \u001b[1m0s\u001b[0m 1ms/step\n",
      "\u001b[1m351/351\u001b[0m \u001b[32m━━━━━━━━━━━━━━━━━━━━\u001b[0m\u001b[37m\u001b[0m \u001b[1m1s\u001b[0m 1ms/step\n",
      "\u001b[1m351/351\u001b[0m \u001b[32m━━━━━━━━━━━━━━━━━━━━\u001b[0m\u001b[37m\u001b[0m \u001b[1m0s\u001b[0m 1ms/step\n"
     ]
    },
    {
     "name": "stderr",
     "output_type": "stream",
     "text": [
      "[I 2025-02-21 18:20:32,639] Trial 93 finished with value: 2.4246922907217364e+16 and parameters: {'lr': 0.009363911893545225, 'hs': 14, 'dropout': 0.14431282159597286}. Best is trial 31 with value: 2.424690727233557e+16.\n"
     ]
    },
    {
     "name": "stdout",
     "output_type": "stream",
     "text": [
      "\u001b[1m351/351\u001b[0m \u001b[32m━━━━━━━━━━━━━━━━━━━━\u001b[0m\u001b[37m\u001b[0m \u001b[1m1s\u001b[0m 1ms/step\n",
      "\u001b[1m351/351\u001b[0m \u001b[32m━━━━━━━━━━━━━━━━━━━━\u001b[0m\u001b[37m\u001b[0m \u001b[1m0s\u001b[0m 1ms/step\n",
      "\u001b[1m351/351\u001b[0m \u001b[32m━━━━━━━━━━━━━━━━━━━━\u001b[0m\u001b[37m\u001b[0m \u001b[1m0s\u001b[0m 1ms/step\n"
     ]
    },
    {
     "name": "stderr",
     "output_type": "stream",
     "text": [
      "[I 2025-02-21 18:20:55,849] Trial 94 finished with value: 2.4246924783266284e+16 and parameters: {'lr': 0.008265715098263491, 'hs': 15, 'dropout': 0.13055952478290261}. Best is trial 31 with value: 2.424690727233557e+16.\n"
     ]
    },
    {
     "name": "stdout",
     "output_type": "stream",
     "text": [
      "\u001b[1m351/351\u001b[0m \u001b[32m━━━━━━━━━━━━━━━━━━━━\u001b[0m\u001b[37m\u001b[0m \u001b[1m1s\u001b[0m 1ms/step\n",
      "\u001b[1m351/351\u001b[0m \u001b[32m━━━━━━━━━━━━━━━━━━━━\u001b[0m\u001b[37m\u001b[0m \u001b[1m0s\u001b[0m 1ms/step\n",
      "\u001b[1m351/351\u001b[0m \u001b[32m━━━━━━━━━━━━━━━━━━━━\u001b[0m\u001b[37m\u001b[0m \u001b[1m1s\u001b[0m 1ms/step\n"
     ]
    },
    {
     "name": "stderr",
     "output_type": "stream",
     "text": [
      "[I 2025-02-21 18:21:39,220] Trial 95 finished with value: 2.4246918574015764e+16 and parameters: {'lr': 0.00864905649508516, 'hs': 16, 'dropout': 0.13898824296087284}. Best is trial 31 with value: 2.424690727233557e+16.\n"
     ]
    },
    {
     "name": "stdout",
     "output_type": "stream",
     "text": [
      "\u001b[1m351/351\u001b[0m \u001b[32m━━━━━━━━━━━━━━━━━━━━\u001b[0m\u001b[37m\u001b[0m \u001b[1m1s\u001b[0m 1ms/step\n",
      "\u001b[1m351/351\u001b[0m \u001b[32m━━━━━━━━━━━━━━━━━━━━\u001b[0m\u001b[37m\u001b[0m \u001b[1m1s\u001b[0m 1ms/step\n",
      "\u001b[1m351/351\u001b[0m \u001b[32m━━━━━━━━━━━━━━━━━━━━\u001b[0m\u001b[37m\u001b[0m \u001b[1m0s\u001b[0m 1ms/step\n"
     ]
    },
    {
     "name": "stderr",
     "output_type": "stream",
     "text": [
      "[I 2025-02-21 18:22:08,333] Trial 96 finished with value: 2.424692163177698e+16 and parameters: {'lr': 0.00984124668696396, 'hs': 15, 'dropout': 0.15280380658992856}. Best is trial 31 with value: 2.424690727233557e+16.\n"
     ]
    },
    {
     "name": "stdout",
     "output_type": "stream",
     "text": [
      "\u001b[1m351/351\u001b[0m \u001b[32m━━━━━━━━━━━━━━━━━━━━\u001b[0m\u001b[37m\u001b[0m \u001b[1m1s\u001b[0m 1ms/step\n",
      "\u001b[1m351/351\u001b[0m \u001b[32m━━━━━━━━━━━━━━━━━━━━\u001b[0m\u001b[37m\u001b[0m \u001b[1m1s\u001b[0m 1ms/step\n",
      "\u001b[1m351/351\u001b[0m \u001b[32m━━━━━━━━━━━━━━━━━━━━\u001b[0m\u001b[37m\u001b[0m \u001b[1m1s\u001b[0m 1ms/step\n"
     ]
    },
    {
     "name": "stderr",
     "output_type": "stream",
     "text": [
      "[I 2025-02-21 18:23:10,908] Trial 97 finished with value: 2.424691339906496e+16 and parameters: {'lr': 0.008898404621342344, 'hs': 16, 'dropout': 0.169095559330619}. Best is trial 31 with value: 2.424690727233557e+16.\n"
     ]
    },
    {
     "name": "stdout",
     "output_type": "stream",
     "text": [
      "\u001b[1m351/351\u001b[0m \u001b[32m━━━━━━━━━━━━━━━━━━━━\u001b[0m\u001b[37m\u001b[0m \u001b[1m1s\u001b[0m 1ms/step\n",
      "\u001b[1m351/351\u001b[0m \u001b[32m━━━━━━━━━━━━━━━━━━━━\u001b[0m\u001b[37m\u001b[0m \u001b[1m1s\u001b[0m 1ms/step\n",
      "\u001b[1m351/351\u001b[0m \u001b[32m━━━━━━━━━━━━━━━━━━━━\u001b[0m\u001b[37m\u001b[0m \u001b[1m1s\u001b[0m 1ms/step\n"
     ]
    },
    {
     "name": "stderr",
     "output_type": "stream",
     "text": [
      "[I 2025-02-21 18:23:39,648] Trial 98 finished with value: 2.424692878803933e+16 and parameters: {'lr': 0.002669083561850539, 'hs': 16, 'dropout': 0.17684114642063228}. Best is trial 31 with value: 2.424690727233557e+16.\n"
     ]
    },
    {
     "name": "stdout",
     "output_type": "stream",
     "text": [
      "\u001b[1m351/351\u001b[0m \u001b[32m━━━━━━━━━━━━━━━━━━━━\u001b[0m\u001b[37m\u001b[0m \u001b[1m1s\u001b[0m 1ms/step\n",
      "\u001b[1m351/351\u001b[0m \u001b[32m━━━━━━━━━━━━━━━━━━━━\u001b[0m\u001b[37m\u001b[0m \u001b[1m1s\u001b[0m 1ms/step\n",
      "\u001b[1m351/351\u001b[0m \u001b[32m━━━━━━━━━━━━━━━━━━━━\u001b[0m\u001b[37m\u001b[0m \u001b[1m1s\u001b[0m 1ms/step\n"
     ]
    },
    {
     "name": "stderr",
     "output_type": "stream",
     "text": [
      "[I 2025-02-21 18:24:14,826] Trial 99 finished with value: 2.424692398525949e+16 and parameters: {'lr': 0.008033666899546897, 'hs': 11, 'dropout': 0.16960521884012844}. Best is trial 31 with value: 2.424690727233557e+16.\n"
     ]
    },
    {
     "name": "stdout",
     "output_type": "stream",
     "text": [
      "\u001b[1m519/519\u001b[0m \u001b[32m━━━━━━━━━━━━━━━━━━━━\u001b[0m\u001b[37m\u001b[0m \u001b[1m1s\u001b[0m 942us/step\n"
     ]
    },
    {
     "name": "stderr",
     "output_type": "stream",
     "text": [
      "[I 2025-02-21 18:24:33,534] A new study created in memory with name: no-name-833add2d-d0f8-4944-97ba-79d5ee498a50\n"
     ]
    },
    {
     "name": "stdout",
     "output_type": "stream",
     "text": [
      "name 'ds_name' is not defined\n",
      "\u001b[1m351/351\u001b[0m \u001b[32m━━━━━━━━━━━━━━━━━━━━\u001b[0m\u001b[37m\u001b[0m \u001b[1m1s\u001b[0m 2ms/step\n",
      "\u001b[1m351/351\u001b[0m \u001b[32m━━━━━━━━━━━━━━━━━━━━\u001b[0m\u001b[37m\u001b[0m \u001b[1m1s\u001b[0m 2ms/step\n",
      "\u001b[1m351/351\u001b[0m \u001b[32m━━━━━━━━━━━━━━━━━━━━\u001b[0m\u001b[37m\u001b[0m \u001b[1m1s\u001b[0m 2ms/step\n"
     ]
    },
    {
     "name": "stderr",
     "output_type": "stream",
     "text": [
      "[I 2025-02-21 18:26:23,372] Trial 0 finished with value: 2.4246924270117084e+16 and parameters: {'lr': 0.004053447838930548, 'hs': 15, 'dropout': 0.00725105994302324}. Best is trial 0 with value: 2.4246924270117084e+16.\n"
     ]
    },
    {
     "name": "stdout",
     "output_type": "stream",
     "text": [
      "\u001b[1m351/351\u001b[0m \u001b[32m━━━━━━━━━━━━━━━━━━━━\u001b[0m\u001b[37m\u001b[0m \u001b[1m1s\u001b[0m 2ms/step\n",
      "\u001b[1m351/351\u001b[0m \u001b[32m━━━━━━━━━━━━━━━━━━━━\u001b[0m\u001b[37m\u001b[0m \u001b[1m1s\u001b[0m 2ms/step\n",
      "\u001b[1m351/351\u001b[0m \u001b[32m━━━━━━━━━━━━━━━━━━━━\u001b[0m\u001b[37m\u001b[0m \u001b[1m1s\u001b[0m 2ms/step\n"
     ]
    },
    {
     "name": "stderr",
     "output_type": "stream",
     "text": [
      "[I 2025-02-21 18:27:58,650] Trial 1 finished with value: 2.424691829088427e+16 and parameters: {'lr': 0.009577801230054436, 'hs': 14, 'dropout': 0.000416096023824697}. Best is trial 1 with value: 2.424691829088427e+16.\n"
     ]
    },
    {
     "name": "stdout",
     "output_type": "stream",
     "text": [
      "\u001b[1m351/351\u001b[0m \u001b[32m━━━━━━━━━━━━━━━━━━━━\u001b[0m\u001b[37m\u001b[0m \u001b[1m1s\u001b[0m 2ms/step\n",
      "\u001b[1m351/351\u001b[0m \u001b[32m━━━━━━━━━━━━━━━━━━━━\u001b[0m\u001b[37m\u001b[0m \u001b[1m1s\u001b[0m 2ms/step\n",
      "\u001b[1m351/351\u001b[0m \u001b[32m━━━━━━━━━━━━━━━━━━━━\u001b[0m\u001b[37m\u001b[0m \u001b[1m1s\u001b[0m 2ms/step\n"
     ]
    },
    {
     "name": "stderr",
     "output_type": "stream",
     "text": [
      "[I 2025-02-21 18:29:12,594] Trial 2 finished with value: 2.4246926675097804e+16 and parameters: {'lr': 0.005784917252013808, 'hs': 11, 'dropout': 0.001537280000516398}. Best is trial 1 with value: 2.424691829088427e+16.\n"
     ]
    },
    {
     "name": "stdout",
     "output_type": "stream",
     "text": [
      "\u001b[1m351/351\u001b[0m \u001b[32m━━━━━━━━━━━━━━━━━━━━\u001b[0m\u001b[37m\u001b[0m \u001b[1m1s\u001b[0m 2ms/step\n",
      "\u001b[1m351/351\u001b[0m \u001b[32m━━━━━━━━━━━━━━━━━━━━\u001b[0m\u001b[37m\u001b[0m \u001b[1m1s\u001b[0m 2ms/step\n",
      "\u001b[1m351/351\u001b[0m \u001b[32m━━━━━━━━━━━━━━━━━━━━\u001b[0m\u001b[37m\u001b[0m \u001b[1m1s\u001b[0m 2ms/step\n"
     ]
    },
    {
     "name": "stderr",
     "output_type": "stream",
     "text": [
      "[I 2025-02-21 18:30:29,637] Trial 3 finished with value: 2.424692945886e+16 and parameters: {'lr': 0.0035431337545334457, 'hs': 9, 'dropout': 0.006572792390364376}. Best is trial 1 with value: 2.424691829088427e+16.\n"
     ]
    },
    {
     "name": "stdout",
     "output_type": "stream",
     "text": [
      "\u001b[1m351/351\u001b[0m \u001b[32m━━━━━━━━━━━━━━━━━━━━\u001b[0m\u001b[37m\u001b[0m \u001b[1m1s\u001b[0m 2ms/step\n",
      "\u001b[1m351/351\u001b[0m \u001b[32m━━━━━━━━━━━━━━━━━━━━\u001b[0m\u001b[37m\u001b[0m \u001b[1m1s\u001b[0m 2ms/step\n",
      "\u001b[1m351/351\u001b[0m \u001b[32m━━━━━━━━━━━━━━━━━━━━\u001b[0m\u001b[37m\u001b[0m \u001b[1m1s\u001b[0m 2ms/step\n"
     ]
    },
    {
     "name": "stderr",
     "output_type": "stream",
     "text": [
      "[I 2025-02-21 18:31:38,094] Trial 4 finished with value: 2.4246929625038132e+16 and parameters: {'lr': 0.005030391157091995, 'hs': 6, 'dropout': 0.00796197450258189}. Best is trial 1 with value: 2.424691829088427e+16.\n"
     ]
    },
    {
     "name": "stdout",
     "output_type": "stream",
     "text": [
      "\u001b[1m351/351\u001b[0m \u001b[32m━━━━━━━━━━━━━━━━━━━━\u001b[0m\u001b[37m\u001b[0m \u001b[1m1s\u001b[0m 2ms/step\n",
      "\u001b[1m351/351\u001b[0m \u001b[32m━━━━━━━━━━━━━━━━━━━━\u001b[0m\u001b[37m\u001b[0m \u001b[1m1s\u001b[0m 2ms/step\n",
      "\u001b[1m351/351\u001b[0m \u001b[32m━━━━━━━━━━━━━━━━━━━━\u001b[0m\u001b[37m\u001b[0m \u001b[1m1s\u001b[0m 2ms/step \n"
     ]
    },
    {
     "name": "stderr",
     "output_type": "stream",
     "text": [
      "[I 2025-02-21 18:33:00,254] Trial 5 finished with value: 2.424692630069629e+16 and parameters: {'lr': 0.006275669170274867, 'hs': 9, 'dropout': 0.0062666428679563286}. Best is trial 1 with value: 2.424691829088427e+16.\n"
     ]
    },
    {
     "name": "stdout",
     "output_type": "stream",
     "text": [
      "\u001b[1m351/351\u001b[0m \u001b[32m━━━━━━━━━━━━━━━━━━━━\u001b[0m\u001b[37m\u001b[0m \u001b[1m1s\u001b[0m 2ms/step\n",
      "\u001b[1m351/351\u001b[0m \u001b[32m━━━━━━━━━━━━━━━━━━━━\u001b[0m\u001b[37m\u001b[0m \u001b[1m1s\u001b[0m 2ms/step\n",
      "\u001b[1m351/351\u001b[0m \u001b[32m━━━━━━━━━━━━━━━━━━━━\u001b[0m\u001b[37m\u001b[0m \u001b[1m1s\u001b[0m 2ms/step\n"
     ]
    },
    {
     "name": "stderr",
     "output_type": "stream",
     "text": [
      "[I 2025-02-21 18:34:11,043] Trial 6 finished with value: 2.4246930667598016e+16 and parameters: {'lr': 0.003822538700248728, 'hs': 4, 'dropout': 0.0007349571245746379}. Best is trial 1 with value: 2.424691829088427e+16.\n"
     ]
    },
    {
     "name": "stdout",
     "output_type": "stream",
     "text": [
      "\u001b[1m351/351\u001b[0m \u001b[32m━━━━━━━━━━━━━━━━━━━━\u001b[0m\u001b[37m\u001b[0m \u001b[1m1s\u001b[0m 2ms/step\n",
      "\u001b[1m351/351\u001b[0m \u001b[32m━━━━━━━━━━━━━━━━━━━━\u001b[0m\u001b[37m\u001b[0m \u001b[1m1s\u001b[0m 2ms/step\n",
      "\u001b[1m351/351\u001b[0m \u001b[32m━━━━━━━━━━━━━━━━━━━━\u001b[0m\u001b[37m\u001b[0m \u001b[1m1s\u001b[0m 2ms/step\n"
     ]
    },
    {
     "name": "stderr",
     "output_type": "stream",
     "text": [
      "[I 2025-02-21 18:35:43,620] Trial 7 finished with value: 2.4246931383677324e+16 and parameters: {'lr': 0.0008134366282714923, 'hs': 7, 'dropout': 0.0022358719685345654}. Best is trial 1 with value: 2.424691829088427e+16.\n"
     ]
    },
    {
     "name": "stdout",
     "output_type": "stream",
     "text": [
      "\u001b[1m351/351\u001b[0m \u001b[32m━━━━━━━━━━━━━━━━━━━━\u001b[0m\u001b[37m\u001b[0m \u001b[1m1s\u001b[0m 2ms/step\n",
      "\u001b[1m351/351\u001b[0m \u001b[32m━━━━━━━━━━━━━━━━━━━━\u001b[0m\u001b[37m\u001b[0m \u001b[1m1s\u001b[0m 2ms/step\n",
      "\u001b[1m351/351\u001b[0m \u001b[32m━━━━━━━━━━━━━━━━━━━━\u001b[0m\u001b[37m\u001b[0m \u001b[1m1s\u001b[0m 2ms/step\n"
     ]
    },
    {
     "name": "stderr",
     "output_type": "stream",
     "text": [
      "[I 2025-02-21 18:36:58,345] Trial 8 finished with value: 2.4246927536527024e+16 and parameters: {'lr': 0.006045975489820763, 'hs': 8, 'dropout': 0.006252878977289919}. Best is trial 1 with value: 2.424691829088427e+16.\n"
     ]
    },
    {
     "name": "stdout",
     "output_type": "stream",
     "text": [
      "\u001b[1m351/351\u001b[0m \u001b[32m━━━━━━━━━━━━━━━━━━━━\u001b[0m\u001b[37m\u001b[0m \u001b[1m1s\u001b[0m 2ms/step\n",
      "\u001b[1m351/351\u001b[0m \u001b[32m━━━━━━━━━━━━━━━━━━━━\u001b[0m\u001b[37m\u001b[0m \u001b[1m1s\u001b[0m 2ms/step\n",
      "\u001b[1m351/351\u001b[0m \u001b[32m━━━━━━━━━━━━━━━━━━━━\u001b[0m\u001b[37m\u001b[0m \u001b[1m1s\u001b[0m 2ms/step\n"
     ]
    },
    {
     "name": "stderr",
     "output_type": "stream",
     "text": [
      "[I 2025-02-21 18:38:18,031] Trial 9 finished with value: 2.4246930705666572e+16 and parameters: {'lr': 0.00109794234674225, 'hs': 13, 'dropout': 0.007298911378678041}. Best is trial 1 with value: 2.424691829088427e+16.\n"
     ]
    },
    {
     "name": "stdout",
     "output_type": "stream",
     "text": [
      "\u001b[1m351/351\u001b[0m \u001b[32m━━━━━━━━━━━━━━━━━━━━\u001b[0m\u001b[37m\u001b[0m \u001b[1m1s\u001b[0m 2ms/step\n",
      "\u001b[1m351/351\u001b[0m \u001b[32m━━━━━━━━━━━━━━━━━━━━\u001b[0m\u001b[37m\u001b[0m \u001b[1m1s\u001b[0m 2ms/step\n",
      "\u001b[1m351/351\u001b[0m \u001b[32m━━━━━━━━━━━━━━━━━━━━\u001b[0m\u001b[37m\u001b[0m \u001b[1m1s\u001b[0m 2ms/step\n"
     ]
    },
    {
     "name": "stderr",
     "output_type": "stream",
     "text": [
      "[I 2025-02-21 18:39:31,957] Trial 10 finished with value: 2.424692003827115e+16 and parameters: {'lr': 0.008629863969624948, 'hs': 16, 'dropout': 0.00397664445622828}. Best is trial 1 with value: 2.424691829088427e+16.\n"
     ]
    },
    {
     "name": "stdout",
     "output_type": "stream",
     "text": [
      "\u001b[1m351/351\u001b[0m \u001b[32m━━━━━━━━━━━━━━━━━━━━\u001b[0m\u001b[37m\u001b[0m \u001b[1m1s\u001b[0m 2ms/step\n",
      "\u001b[1m351/351\u001b[0m \u001b[32m━━━━━━━━━━━━━━━━━━━━\u001b[0m\u001b[37m\u001b[0m \u001b[1m1s\u001b[0m 2ms/step\n",
      "\u001b[1m351/351\u001b[0m \u001b[32m━━━━━━━━━━━━━━━━━━━━\u001b[0m\u001b[37m\u001b[0m \u001b[1m1s\u001b[0m 2ms/step\n"
     ]
    },
    {
     "name": "stderr",
     "output_type": "stream",
     "text": [
      "[I 2025-02-21 18:40:53,571] Trial 11 finished with value: 2.4246920208245532e+16 and parameters: {'lr': 0.009999728659817946, 'hs': 16, 'dropout': 0.003334103376775605}. Best is trial 1 with value: 2.424691829088427e+16.\n"
     ]
    },
    {
     "name": "stdout",
     "output_type": "stream",
     "text": [
      "\u001b[1m351/351\u001b[0m \u001b[32m━━━━━━━━━━━━━━━━━━━━\u001b[0m\u001b[37m\u001b[0m \u001b[1m1s\u001b[0m 2ms/step\n",
      "\u001b[1m351/351\u001b[0m \u001b[32m━━━━━━━━━━━━━━━━━━━━\u001b[0m\u001b[37m\u001b[0m \u001b[1m1s\u001b[0m 2ms/step\n",
      "\u001b[1m351/351\u001b[0m \u001b[32m━━━━━━━━━━━━━━━━━━━━\u001b[0m\u001b[37m\u001b[0m \u001b[1m1s\u001b[0m 2ms/step\n"
     ]
    },
    {
     "name": "stderr",
     "output_type": "stream",
     "text": [
      "[I 2025-02-21 18:43:02,298] Trial 12 finished with value: 2.4246909199313292e+16 and parameters: {'lr': 0.009925288923397006, 'hs': 13, 'dropout': 0.003789275278486578}. Best is trial 12 with value: 2.4246909199313292e+16.\n"
     ]
    },
    {
     "name": "stdout",
     "output_type": "stream",
     "text": [
      "\u001b[1m351/351\u001b[0m \u001b[32m━━━━━━━━━━━━━━━━━━━━\u001b[0m\u001b[37m\u001b[0m \u001b[1m1s\u001b[0m 2ms/step\n",
      "\u001b[1m351/351\u001b[0m \u001b[32m━━━━━━━━━━━━━━━━━━━━\u001b[0m\u001b[37m\u001b[0m \u001b[1m1s\u001b[0m 2ms/step\n",
      "\u001b[1m351/351\u001b[0m \u001b[32m━━━━━━━━━━━━━━━━━━━━\u001b[0m\u001b[37m\u001b[0m \u001b[1m1s\u001b[0m 2ms/step\n"
     ]
    },
    {
     "name": "stderr",
     "output_type": "stream",
     "text": [
      "[I 2025-02-21 18:44:19,050] Trial 13 finished with value: 2.4246923387181244e+16 and parameters: {'lr': 0.008086043230333777, 'hs': 12, 'dropout': 0.00955697078541674}. Best is trial 12 with value: 2.4246909199313292e+16.\n"
     ]
    },
    {
     "name": "stdout",
     "output_type": "stream",
     "text": [
      "\u001b[1m351/351\u001b[0m \u001b[32m━━━━━━━━━━━━━━━━━━━━\u001b[0m\u001b[37m\u001b[0m \u001b[1m1s\u001b[0m 2ms/step\n",
      "\u001b[1m351/351\u001b[0m \u001b[32m━━━━━━━━━━━━━━━━━━━━\u001b[0m\u001b[37m\u001b[0m \u001b[1m1s\u001b[0m 2ms/step\n",
      "\u001b[1m351/351\u001b[0m \u001b[32m━━━━━━━━━━━━━━━━━━━━\u001b[0m\u001b[37m\u001b[0m \u001b[1m1s\u001b[0m 2ms/step\n"
     ]
    },
    {
     "name": "stderr",
     "output_type": "stream",
     "text": [
      "[I 2025-02-21 18:45:53,600] Trial 14 finished with value: 2.4246917528752788e+16 and parameters: {'lr': 0.009893048977391355, 'hs': 13, 'dropout': 0.00039899982186186874}. Best is trial 12 with value: 2.4246909199313292e+16.\n"
     ]
    },
    {
     "name": "stdout",
     "output_type": "stream",
     "text": [
      "\u001b[1m351/351\u001b[0m \u001b[32m━━━━━━━━━━━━━━━━━━━━\u001b[0m\u001b[37m\u001b[0m \u001b[1m1s\u001b[0m 2ms/step\n",
      "\u001b[1m351/351\u001b[0m \u001b[32m━━━━━━━━━━━━━━━━━━━━\u001b[0m\u001b[37m\u001b[0m \u001b[1m1s\u001b[0m 2ms/step\n",
      "\u001b[1m351/351\u001b[0m \u001b[32m━━━━━━━━━━━━━━━━━━━━\u001b[0m\u001b[37m\u001b[0m \u001b[1m1s\u001b[0m 2ms/step\n"
     ]
    },
    {
     "name": "stderr",
     "output_type": "stream",
     "text": [
      "[I 2025-02-21 18:47:34,632] Trial 15 finished with value: 2.4246919124138476e+16 and parameters: {'lr': 0.007476208665923736, 'hs': 11, 'dropout': 0.004463980330027489}. Best is trial 12 with value: 2.4246909199313292e+16.\n"
     ]
    },
    {
     "name": "stdout",
     "output_type": "stream",
     "text": [
      "\u001b[1m351/351\u001b[0m \u001b[32m━━━━━━━━━━━━━━━━━━━━\u001b[0m\u001b[37m\u001b[0m \u001b[1m1s\u001b[0m 2ms/step\n",
      "\u001b[1m351/351\u001b[0m \u001b[32m━━━━━━━━━━━━━━━━━━━━\u001b[0m\u001b[37m\u001b[0m \u001b[1m1s\u001b[0m 2ms/step\n",
      "\u001b[1m351/351\u001b[0m \u001b[32m━━━━━━━━━━━━━━━━━━━━\u001b[0m\u001b[37m\u001b[0m \u001b[1m1s\u001b[0m 2ms/step\n"
     ]
    },
    {
     "name": "stderr",
     "output_type": "stream",
     "text": [
      "[I 2025-02-21 18:48:35,706] Trial 16 finished with value: 2.424693069129035e+16 and parameters: {'lr': 0.008865805817240021, 'hs': 2, 'dropout': 0.0027023366956772646}. Best is trial 12 with value: 2.4246909199313292e+16.\n"
     ]
    },
    {
     "name": "stdout",
     "output_type": "stream",
     "text": [
      "\u001b[1m351/351\u001b[0m \u001b[32m━━━━━━━━━━━━━━━━━━━━\u001b[0m\u001b[37m\u001b[0m \u001b[1m1s\u001b[0m 2ms/step\n",
      "\u001b[1m351/351\u001b[0m \u001b[32m━━━━━━━━━━━━━━━━━━━━\u001b[0m\u001b[37m\u001b[0m \u001b[1m1s\u001b[0m 2ms/step\n",
      "\u001b[1m351/351\u001b[0m \u001b[32m━━━━━━━━━━━━━━━━━━━━\u001b[0m\u001b[37m\u001b[0m \u001b[1m1s\u001b[0m 2ms/step\n"
     ]
    },
    {
     "name": "stderr",
     "output_type": "stream",
     "text": [
      "[I 2025-02-21 18:50:06,659] Trial 17 finished with value: 2.4246920611485228e+16 and parameters: {'lr': 0.0075271140359663025, 'hs': 13, 'dropout': 0.005212969949715875}. Best is trial 12 with value: 2.4246909199313292e+16.\n"
     ]
    },
    {
     "name": "stdout",
     "output_type": "stream",
     "text": [
      "\u001b[1m351/351\u001b[0m \u001b[32m━━━━━━━━━━━━━━━━━━━━\u001b[0m\u001b[37m\u001b[0m \u001b[1m1s\u001b[0m 2ms/step\n",
      "\u001b[1m351/351\u001b[0m \u001b[32m━━━━━━━━━━━━━━━━━━━━\u001b[0m\u001b[37m\u001b[0m \u001b[1m1s\u001b[0m 2ms/step\n",
      "\u001b[1m351/351\u001b[0m \u001b[32m━━━━━━━━━━━━━━━━━━━━\u001b[0m\u001b[37m\u001b[0m \u001b[1m1s\u001b[0m 2ms/step\n"
     ]
    },
    {
     "name": "stderr",
     "output_type": "stream",
     "text": [
      "[I 2025-02-21 18:51:46,710] Trial 18 finished with value: 2.4246928955813764e+16 and parameters: {'lr': 0.0022814180812113956, 'hs': 11, 'dropout': 0.001576085828762262}. Best is trial 12 with value: 2.4246909199313292e+16.\n"
     ]
    },
    {
     "name": "stdout",
     "output_type": "stream",
     "text": [
      "\u001b[1m351/351\u001b[0m \u001b[32m━━━━━━━━━━━━━━━━━━━━\u001b[0m\u001b[37m\u001b[0m \u001b[1m1s\u001b[0m 2ms/step\n",
      "\u001b[1m351/351\u001b[0m \u001b[32m━━━━━━━━━━━━━━━━━━━━\u001b[0m\u001b[37m\u001b[0m \u001b[1m1s\u001b[0m 2ms/step\n",
      "\u001b[1m351/351\u001b[0m \u001b[32m━━━━━━━━━━━━━━━━━━━━\u001b[0m\u001b[37m\u001b[0m \u001b[1m1s\u001b[0m 2ms/step\n"
     ]
    },
    {
     "name": "stderr",
     "output_type": "stream",
     "text": [
      "[I 2025-02-21 18:52:54,317] Trial 19 finished with value: 2.424692457404707e+16 and parameters: {'lr': 0.00682214348421834, 'hs': 14, 'dropout': 0.004889316208737362}. Best is trial 12 with value: 2.4246909199313292e+16.\n"
     ]
    },
    {
     "name": "stdout",
     "output_type": "stream",
     "text": [
      "\u001b[1m351/351\u001b[0m \u001b[32m━━━━━━━━━━━━━━━━━━━━\u001b[0m\u001b[37m\u001b[0m \u001b[1m1s\u001b[0m 2ms/step\n",
      "\u001b[1m351/351\u001b[0m \u001b[32m━━━━━━━━━━━━━━━━━━━━\u001b[0m\u001b[37m\u001b[0m \u001b[1m1s\u001b[0m 2ms/step\n",
      "\u001b[1m351/351\u001b[0m \u001b[32m━━━━━━━━━━━━━━━━━━━━\u001b[0m\u001b[37m\u001b[0m \u001b[1m1s\u001b[0m 2ms/step\n"
     ]
    },
    {
     "name": "stderr",
     "output_type": "stream",
     "text": [
      "[I 2025-02-21 18:54:15,446] Trial 20 finished with value: 2.42469222645271e+16 and parameters: {'lr': 0.009371704172245702, 'hs': 10, 'dropout': 0.00029779767780025406}. Best is trial 12 with value: 2.4246909199313292e+16.\n"
     ]
    },
    {
     "name": "stdout",
     "output_type": "stream",
     "text": [
      "\u001b[1m351/351\u001b[0m \u001b[32m━━━━━━━━━━━━━━━━━━━━\u001b[0m\u001b[37m\u001b[0m \u001b[1m1s\u001b[0m 2ms/step\n",
      "\u001b[1m351/351\u001b[0m \u001b[32m━━━━━━━━━━━━━━━━━━━━\u001b[0m\u001b[37m\u001b[0m \u001b[1m1s\u001b[0m 2ms/step\n",
      "\u001b[1m351/351\u001b[0m \u001b[32m━━━━━━━━━━━━━━━━━━━━\u001b[0m\u001b[37m\u001b[0m \u001b[1m1s\u001b[0m 2ms/step\n"
     ]
    },
    {
     "name": "stderr",
     "output_type": "stream",
     "text": [
      "[I 2025-02-21 18:55:52,144] Trial 21 finished with value: 2.4246916570024684e+16 and parameters: {'lr': 0.009887085612951133, 'hs': 14, 'dropout': 0.0002437151796900422}. Best is trial 12 with value: 2.4246909199313292e+16.\n"
     ]
    },
    {
     "name": "stdout",
     "output_type": "stream",
     "text": [
      "\u001b[1m351/351\u001b[0m \u001b[32m━━━━━━━━━━━━━━━━━━━━\u001b[0m\u001b[37m\u001b[0m \u001b[1m1s\u001b[0m 2ms/step\n",
      "\u001b[1m351/351\u001b[0m \u001b[32m━━━━━━━━━━━━━━━━━━━━\u001b[0m\u001b[37m\u001b[0m \u001b[1m1s\u001b[0m 2ms/step\n",
      "\u001b[1m351/351\u001b[0m \u001b[32m━━━━━━━━━━━━━━━━━━━━\u001b[0m\u001b[37m\u001b[0m \u001b[1m1s\u001b[0m 2ms/step\n"
     ]
    },
    {
     "name": "stderr",
     "output_type": "stream",
     "text": [
      "[I 2025-02-21 18:58:05,653] Trial 22 finished with value: 2.4246905532897332e+16 and parameters: {'lr': 0.009912948662759097, 'hs': 13, 'dropout': 0.0014155486634094203}. Best is trial 22 with value: 2.4246905532897332e+16.\n"
     ]
    },
    {
     "name": "stdout",
     "output_type": "stream",
     "text": [
      "\u001b[1m351/351\u001b[0m \u001b[32m━━━━━━━━━━━━━━━━━━━━\u001b[0m\u001b[37m\u001b[0m \u001b[1m1s\u001b[0m 2ms/step\n",
      "\u001b[1m351/351\u001b[0m \u001b[32m━━━━━━━━━━━━━━━━━━━━\u001b[0m\u001b[37m\u001b[0m \u001b[1m1s\u001b[0m 2ms/step\n",
      "\u001b[1m351/351\u001b[0m \u001b[32m━━━━━━━━━━━━━━━━━━━━\u001b[0m\u001b[37m\u001b[0m \u001b[1m1s\u001b[0m 2ms/step\n"
     ]
    },
    {
     "name": "stderr",
     "output_type": "stream",
     "text": [
      "[I 2025-02-21 18:59:41,077] Trial 23 finished with value: 2.4246918967552812e+16 and parameters: {'lr': 0.008567611976047454, 'hs': 15, 'dropout': 0.0015664067075129469}. Best is trial 22 with value: 2.4246905532897332e+16.\n"
     ]
    },
    {
     "name": "stdout",
     "output_type": "stream",
     "text": [
      "\u001b[1m351/351\u001b[0m \u001b[32m━━━━━━━━━━━━━━━━━━━━\u001b[0m\u001b[37m\u001b[0m \u001b[1m1s\u001b[0m 2ms/step \n",
      "\u001b[1m351/351\u001b[0m \u001b[32m━━━━━━━━━━━━━━━━━━━━\u001b[0m\u001b[37m\u001b[0m \u001b[1m1s\u001b[0m 2ms/step\n",
      "\u001b[1m351/351\u001b[0m \u001b[32m━━━━━━━━━━━━━━━━━━━━\u001b[0m\u001b[37m\u001b[0m \u001b[1m1s\u001b[0m 2ms/step\n"
     ]
    },
    {
     "name": "stderr",
     "output_type": "stream",
     "text": [
      "[I 2025-02-21 19:01:07,432] Trial 24 finished with value: 2.4246922085625524e+16 and parameters: {'lr': 0.008036335795005045, 'hs': 12, 'dropout': 0.0029923238301945306}. Best is trial 22 with value: 2.4246905532897332e+16.\n"
     ]
    },
    {
     "name": "stdout",
     "output_type": "stream",
     "text": [
      "\u001b[1m351/351\u001b[0m \u001b[32m━━━━━━━━━━━━━━━━━━━━\u001b[0m\u001b[37m\u001b[0m \u001b[1m1s\u001b[0m 2ms/step\n",
      "\u001b[1m351/351\u001b[0m \u001b[32m━━━━━━━━━━━━━━━━━━━━\u001b[0m\u001b[37m\u001b[0m \u001b[1m1s\u001b[0m 2ms/step\n",
      "\u001b[1m351/351\u001b[0m \u001b[32m━━━━━━━━━━━━━━━━━━━━\u001b[0m\u001b[37m\u001b[0m \u001b[1m1s\u001b[0m 2ms/step\n"
     ]
    },
    {
     "name": "stderr",
     "output_type": "stream",
     "text": [
      "[I 2025-02-21 19:03:50,663] Trial 25 finished with value: 2.4246904877297556e+16 and parameters: {'lr': 0.009095042587381525, 'hs': 14, 'dropout': 0.0019310480101742212}. Best is trial 25 with value: 2.4246904877297556e+16.\n"
     ]
    },
    {
     "name": "stdout",
     "output_type": "stream",
     "text": [
      "\u001b[1m351/351\u001b[0m \u001b[32m━━━━━━━━━━━━━━━━━━━━\u001b[0m\u001b[37m\u001b[0m \u001b[1m1s\u001b[0m 2ms/step\n",
      "\u001b[1m351/351\u001b[0m \u001b[32m━━━━━━━━━━━━━━━━━━━━\u001b[0m\u001b[37m\u001b[0m \u001b[1m1s\u001b[0m 2ms/step\n",
      "\u001b[1m351/351\u001b[0m \u001b[32m━━━━━━━━━━━━━━━━━━━━\u001b[0m\u001b[37m\u001b[0m \u001b[1m1s\u001b[0m 2ms/step\n"
     ]
    },
    {
     "name": "stderr",
     "output_type": "stream",
     "text": [
      "[I 2025-02-21 19:05:11,987] Trial 26 finished with value: 2.4246921066993036e+16 and parameters: {'lr': 0.008967259149005122, 'hs': 15, 'dropout': 0.0035204258505086537}. Best is trial 25 with value: 2.4246904877297556e+16.\n"
     ]
    },
    {
     "name": "stdout",
     "output_type": "stream",
     "text": [
      "\u001b[1m351/351\u001b[0m \u001b[32m━━━━━━━━━━━━━━━━━━━━\u001b[0m\u001b[37m\u001b[0m \u001b[1m1s\u001b[0m 2ms/step\n",
      "\u001b[1m351/351\u001b[0m \u001b[32m━━━━━━━━━━━━━━━━━━━━\u001b[0m\u001b[37m\u001b[0m \u001b[1m1s\u001b[0m 2ms/step\n",
      "\u001b[1m351/351\u001b[0m \u001b[32m━━━━━━━━━━━━━━━━━━━━\u001b[0m\u001b[37m\u001b[0m \u001b[1m1s\u001b[0m 2ms/step\n"
     ]
    },
    {
     "name": "stderr",
     "output_type": "stream",
     "text": [
      "[I 2025-02-21 19:06:20,782] Trial 27 finished with value: 2.4246924890100556e+16 and parameters: {'lr': 0.008066894132117345, 'hs': 12, 'dropout': 0.002151399561253993}. Best is trial 25 with value: 2.4246904877297556e+16.\n"
     ]
    },
    {
     "name": "stdout",
     "output_type": "stream",
     "text": [
      "\u001b[1m351/351\u001b[0m \u001b[32m━━━━━━━━━━━━━━━━━━━━\u001b[0m\u001b[37m\u001b[0m \u001b[1m1s\u001b[0m 2ms/step\n",
      "\u001b[1m351/351\u001b[0m \u001b[32m━━━━━━━━━━━━━━━━━━━━\u001b[0m\u001b[37m\u001b[0m \u001b[1m1s\u001b[0m 2ms/step\n",
      "\u001b[1m351/351\u001b[0m \u001b[32m━━━━━━━━━━━━━━━━━━━━\u001b[0m\u001b[37m\u001b[0m \u001b[1m1s\u001b[0m 2ms/step\n"
     ]
    },
    {
     "name": "stderr",
     "output_type": "stream",
     "text": [
      "[I 2025-02-21 19:07:30,365] Trial 28 finished with value: 2.4246925487492428e+16 and parameters: {'lr': 0.006991342570105044, 'hs': 10, 'dropout': 0.0011598585571349672}. Best is trial 25 with value: 2.4246904877297556e+16.\n"
     ]
    },
    {
     "name": "stdout",
     "output_type": "stream",
     "text": [
      "\u001b[1m351/351\u001b[0m \u001b[32m━━━━━━━━━━━━━━━━━━━━\u001b[0m\u001b[37m\u001b[0m \u001b[1m1s\u001b[0m 2ms/step\n",
      "\u001b[1m351/351\u001b[0m \u001b[32m━━━━━━━━━━━━━━━━━━━━\u001b[0m\u001b[37m\u001b[0m \u001b[1m1s\u001b[0m 2ms/step\n",
      "\u001b[1m351/351\u001b[0m \u001b[32m━━━━━━━━━━━━━━━━━━━━\u001b[0m\u001b[37m\u001b[0m \u001b[1m1s\u001b[0m 2ms/step\n"
     ]
    },
    {
     "name": "stderr",
     "output_type": "stream",
     "text": [
      "[I 2025-02-21 19:08:59,693] Trial 29 finished with value: 2.424692420097541e+16 and parameters: {'lr': 0.004653990278453814, 'hs': 16, 'dropout': 0.0039115961930488285}. Best is trial 25 with value: 2.4246904877297556e+16.\n"
     ]
    },
    {
     "name": "stdout",
     "output_type": "stream",
     "text": [
      "\u001b[1m351/351\u001b[0m \u001b[32m━━━━━━━━━━━━━━━━━━━━\u001b[0m\u001b[37m\u001b[0m \u001b[1m1s\u001b[0m 2ms/step\n",
      "\u001b[1m351/351\u001b[0m \u001b[32m━━━━━━━━━━━━━━━━━━━━\u001b[0m\u001b[37m\u001b[0m \u001b[1m1s\u001b[0m 2ms/step\n",
      "\u001b[1m351/351\u001b[0m \u001b[32m━━━━━━━━━━━━━━━━━━━━\u001b[0m\u001b[37m\u001b[0m \u001b[1m1s\u001b[0m 2ms/step\n"
     ]
    },
    {
     "name": "stderr",
     "output_type": "stream",
     "text": [
      "[I 2025-02-21 19:10:28,351] Trial 30 finished with value: 2.4246918075054196e+16 and parameters: {'lr': 0.009207387902807816, 'hs': 14, 'dropout': 0.0024730392845083425}. Best is trial 25 with value: 2.4246904877297556e+16.\n"
     ]
    },
    {
     "name": "stdout",
     "output_type": "stream",
     "text": [
      "\u001b[1m351/351\u001b[0m \u001b[32m━━━━━━━━━━━━━━━━━━━━\u001b[0m\u001b[37m\u001b[0m \u001b[1m1s\u001b[0m 2ms/step\n",
      "\u001b[1m351/351\u001b[0m \u001b[32m━━━━━━━━━━━━━━━━━━━━\u001b[0m\u001b[37m\u001b[0m \u001b[1m1s\u001b[0m 2ms/step\n",
      "\u001b[1m351/351\u001b[0m \u001b[32m━━━━━━━━━━━━━━━━━━━━\u001b[0m\u001b[37m\u001b[0m \u001b[1m1s\u001b[0m 2ms/step\n"
     ]
    },
    {
     "name": "stderr",
     "output_type": "stream",
     "text": [
      "[I 2025-02-21 19:11:47,780] Trial 31 finished with value: 2.4246920790073292e+16 and parameters: {'lr': 0.00989272513468643, 'hs': 14, 'dropout': 0.0010213295717337529}. Best is trial 25 with value: 2.4246904877297556e+16.\n"
     ]
    },
    {
     "name": "stdout",
     "output_type": "stream",
     "text": [
      "\u001b[1m351/351\u001b[0m \u001b[32m━━━━━━━━━━━━━━━━━━━━\u001b[0m\u001b[37m\u001b[0m \u001b[1m1s\u001b[0m 2ms/step\n",
      "\u001b[1m351/351\u001b[0m \u001b[32m━━━━━━━━━━━━━━━━━━━━\u001b[0m\u001b[37m\u001b[0m \u001b[1m1s\u001b[0m 2ms/step\n",
      "\u001b[1m351/351\u001b[0m \u001b[32m━━━━━━━━━━━━━━━━━━━━\u001b[0m\u001b[37m\u001b[0m \u001b[1m1s\u001b[0m 2ms/step\n"
     ]
    },
    {
     "name": "stderr",
     "output_type": "stream",
     "text": [
      "[I 2025-02-21 19:13:18,009] Trial 32 finished with value: 2.4246917120376636e+16 and parameters: {'lr': 0.0093499593510767, 'hs': 15, 'dropout': 0.00014723353030038843}. Best is trial 25 with value: 2.4246904877297556e+16.\n"
     ]
    },
    {
     "name": "stdout",
     "output_type": "stream",
     "text": [
      "\u001b[1m351/351\u001b[0m \u001b[32m━━━━━━━━━━━━━━━━━━━━\u001b[0m\u001b[37m\u001b[0m \u001b[1m1s\u001b[0m 2ms/step\n",
      "\u001b[1m351/351\u001b[0m \u001b[32m━━━━━━━━━━━━━━━━━━━━\u001b[0m\u001b[37m\u001b[0m \u001b[1m1s\u001b[0m 2ms/step\n",
      "\u001b[1m351/351\u001b[0m \u001b[32m━━━━━━━━━━━━━━━━━━━━\u001b[0m\u001b[37m\u001b[0m \u001b[1m1s\u001b[0m 2ms/step\n"
     ]
    },
    {
     "name": "stderr",
     "output_type": "stream",
     "text": [
      "[I 2025-02-21 19:14:25,400] Trial 33 finished with value: 2.4246921099247424e+16 and parameters: {'lr': 0.008545045747673527, 'hs': 13, 'dropout': 0.001817036604918909}. Best is trial 25 with value: 2.4246904877297556e+16.\n"
     ]
    },
    {
     "name": "stdout",
     "output_type": "stream",
     "text": [
      "\u001b[1m351/351\u001b[0m \u001b[32m━━━━━━━━━━━━━━━━━━━━\u001b[0m\u001b[37m\u001b[0m \u001b[1m1s\u001b[0m 2ms/step\n",
      "\u001b[1m351/351\u001b[0m \u001b[32m━━━━━━━━━━━━━━━━━━━━\u001b[0m\u001b[37m\u001b[0m \u001b[1m1s\u001b[0m 2ms/step\n",
      "\u001b[1m351/351\u001b[0m \u001b[32m━━━━━━━━━━━━━━━━━━━━\u001b[0m\u001b[37m\u001b[0m \u001b[1m1s\u001b[0m 2ms/step\n"
     ]
    },
    {
     "name": "stderr",
     "output_type": "stream",
     "text": [
      "[I 2025-02-21 19:15:54,033] Trial 34 finished with value: 2.4246918330265076e+16 and parameters: {'lr': 0.00922090193228215, 'hs': 15, 'dropout': 0.0010222988477377295}. Best is trial 25 with value: 2.4246904877297556e+16.\n"
     ]
    },
    {
     "name": "stdout",
     "output_type": "stream",
     "text": [
      "\u001b[1m351/351\u001b[0m \u001b[32m━━━━━━━━━━━━━━━━━━━━\u001b[0m\u001b[37m\u001b[0m \u001b[1m1s\u001b[0m 2ms/step\n",
      "\u001b[1m351/351\u001b[0m \u001b[32m━━━━━━━━━━━━━━━━━━━━\u001b[0m\u001b[37m\u001b[0m \u001b[1m1s\u001b[0m 2ms/step\n",
      "\u001b[1m351/351\u001b[0m \u001b[32m━━━━━━━━━━━━━━━━━━━━\u001b[0m\u001b[37m\u001b[0m \u001b[1m1s\u001b[0m 2ms/step\n"
     ]
    },
    {
     "name": "stderr",
     "output_type": "stream",
     "text": [
      "[I 2025-02-21 19:17:17,423] Trial 35 finished with value: 2.42469192558825e+16 and parameters: {'lr': 0.009619837526930944, 'hs': 12, 'dropout': 0.0029828274993844717}. Best is trial 25 with value: 2.4246904877297556e+16.\n"
     ]
    },
    {
     "name": "stdout",
     "output_type": "stream",
     "text": [
      "\u001b[1m351/351\u001b[0m \u001b[32m━━━━━━━━━━━━━━━━━━━━\u001b[0m\u001b[37m\u001b[0m \u001b[1m1s\u001b[0m 2ms/step\n",
      "\u001b[1m351/351\u001b[0m \u001b[32m━━━━━━━━━━━━━━━━━━━━\u001b[0m\u001b[37m\u001b[0m \u001b[1m1s\u001b[0m 2ms/step\n",
      "\u001b[1m351/351\u001b[0m \u001b[32m━━━━━━━━━━━━━━━━━━━━\u001b[0m\u001b[37m\u001b[0m \u001b[1m1s\u001b[0m 2ms/step\n"
     ]
    },
    {
     "name": "stderr",
     "output_type": "stream",
     "text": [
      "[I 2025-02-21 19:18:34,377] Trial 36 finished with value: 2.424692547409045e+16 and parameters: {'lr': 0.008188973208399118, 'hs': 10, 'dropout': 0.005450097537782094}. Best is trial 25 with value: 2.4246904877297556e+16.\n"
     ]
    },
    {
     "name": "stdout",
     "output_type": "stream",
     "text": [
      "\u001b[1m351/351\u001b[0m \u001b[32m━━━━━━━━━━━━━━━━━━━━\u001b[0m\u001b[37m\u001b[0m \u001b[1m1s\u001b[0m 2ms/step\n",
      "\u001b[1m351/351\u001b[0m \u001b[32m━━━━━━━━━━━━━━━━━━━━\u001b[0m\u001b[37m\u001b[0m \u001b[1m1s\u001b[0m 2ms/step\n",
      "\u001b[1m351/351\u001b[0m \u001b[32m━━━━━━━━━━━━━━━━━━━━\u001b[0m\u001b[37m\u001b[0m \u001b[1m1s\u001b[0m 2ms/step\n"
     ]
    },
    {
     "name": "stderr",
     "output_type": "stream",
     "text": [
      "[I 2025-02-21 19:19:32,846] Trial 37 finished with value: 2.4246929418517564e+16 and parameters: {'lr': 0.0031932921951142866, 'hs': 14, 'dropout': 0.000754303164146049}. Best is trial 25 with value: 2.4246904877297556e+16.\n"
     ]
    },
    {
     "name": "stdout",
     "output_type": "stream",
     "text": [
      "\u001b[1m351/351\u001b[0m \u001b[32m━━━━━━━━━━━━━━━━━━━━\u001b[0m\u001b[37m\u001b[0m \u001b[1m1s\u001b[0m 2ms/step\n",
      "\u001b[1m351/351\u001b[0m \u001b[32m━━━━━━━━━━━━━━━━━━━━\u001b[0m\u001b[37m\u001b[0m \u001b[1m1s\u001b[0m 2ms/step\n",
      "\u001b[1m351/351\u001b[0m \u001b[32m━━━━━━━━━━━━━━━━━━━━\u001b[0m\u001b[37m\u001b[0m \u001b[1m1s\u001b[0m 2ms/step\n"
     ]
    },
    {
     "name": "stderr",
     "output_type": "stream",
     "text": [
      "[I 2025-02-21 19:20:39,396] Trial 38 finished with value: 2.4246924147614556e+16 and parameters: {'lr': 0.007385295539908318, 'hs': 13, 'dropout': 0.001959965050055728}. Best is trial 25 with value: 2.4246904877297556e+16.\n"
     ]
    },
    {
     "name": "stdout",
     "output_type": "stream",
     "text": [
      "\u001b[1m351/351\u001b[0m \u001b[32m━━━━━━━━━━━━━━━━━━━━\u001b[0m\u001b[37m\u001b[0m \u001b[1m1s\u001b[0m 2ms/step\n",
      "\u001b[1m351/351\u001b[0m \u001b[32m━━━━━━━━━━━━━━━━━━━━\u001b[0m\u001b[37m\u001b[0m \u001b[1m1s\u001b[0m 2ms/step\n",
      "\u001b[1m351/351\u001b[0m \u001b[32m━━━━━━━━━━━━━━━━━━━━\u001b[0m\u001b[37m\u001b[0m \u001b[1m1s\u001b[0m 2ms/step\n"
     ]
    },
    {
     "name": "stderr",
     "output_type": "stream",
     "text": [
      "[I 2025-02-21 19:21:41,948] Trial 39 finished with value: 2.424692987296637e+16 and parameters: {'lr': 0.005396788856496121, 'hs': 5, 'dropout': 4.878777129839731e-05}. Best is trial 25 with value: 2.4246904877297556e+16.\n"
     ]
    },
    {
     "name": "stdout",
     "output_type": "stream",
     "text": [
      "\u001b[1m351/351\u001b[0m \u001b[32m━━━━━━━━━━━━━━━━━━━━\u001b[0m\u001b[37m\u001b[0m \u001b[1m1s\u001b[0m 2ms/step\n",
      "\u001b[1m351/351\u001b[0m \u001b[32m━━━━━━━━━━━━━━━━━━━━\u001b[0m\u001b[37m\u001b[0m \u001b[1m1s\u001b[0m 2ms/step\n",
      "\u001b[1m351/351\u001b[0m \u001b[32m━━━━━━━━━━━━━━━━━━━━\u001b[0m\u001b[37m\u001b[0m \u001b[1m1s\u001b[0m 2ms/step\n"
     ]
    },
    {
     "name": "stderr",
     "output_type": "stream",
     "text": [
      "[I 2025-02-21 19:22:54,546] Trial 40 finished with value: 2.4246927565412332e+16 and parameters: {'lr': 0.00663320360407445, 'hs': 8, 'dropout': 0.0013777498716961297}. Best is trial 25 with value: 2.4246904877297556e+16.\n"
     ]
    },
    {
     "name": "stdout",
     "output_type": "stream",
     "text": [
      "\u001b[1m351/351\u001b[0m \u001b[32m━━━━━━━━━━━━━━━━━━━━\u001b[0m\u001b[37m\u001b[0m \u001b[1m1s\u001b[0m 2ms/step\n",
      "\u001b[1m351/351\u001b[0m \u001b[32m━━━━━━━━━━━━━━━━━━━━\u001b[0m\u001b[37m\u001b[0m \u001b[1m5s\u001b[0m 5ms/step\n",
      "\u001b[1m351/351\u001b[0m \u001b[32m━━━━━━━━━━━━━━━━━━━━\u001b[0m\u001b[37m\u001b[0m \u001b[1m3s\u001b[0m 3ms/step\n"
     ]
    },
    {
     "name": "stderr",
     "output_type": "stream",
     "text": [
      "[I 2025-02-21 19:33:55,800] Trial 41 finished with value: 2.4246905253347252e+16 and parameters: {'lr': 0.009374323135089978, 'hs': 15, 'dropout': 4.2898168831456744e-05}. Best is trial 25 with value: 2.4246904877297556e+16.\n"
     ]
    }
   ],
   "source": [
    "def warn(*args, **kwargs):\n",
    "    pass\n",
    "import warnings\n",
    "warnings.warn = warn\n",
    "\n",
    "\n",
    "def printf(*args, fname=\"log.txt\"):\n",
    "    with open(join(\"test_outputs\",fname),\"a+\") as f:\n",
    "        for a in args:\n",
    "            f.write(str(a) + \" \")\n",
    "        f.write(\"\\n\") \n",
    "    print(args) \n",
    "\n",
    "from sklearn.metrics import mean_squared_error\n",
    "from sklearn.metrics import mean_absolute_error\n",
    "import tensorflow as tf\n",
    "import optuna\n",
    "from tkan import TKAN\n",
    "from tensorflow.keras import regularizers\n",
    "from tkan import TKAN\n",
    "\n",
    "#np.bool = np.bool_\n",
    "\n",
    "from sklearn.model_selection import KFold\n",
    "#xgb.set_config(verbosity=2)\n",
    "\n",
    "def make_modelLSTM(input_shape, hidden_size, dropout):\n",
    "    input_layer = tf.keras.layers.Input(input_shape)\n",
    "    #dim = tf.zeros([batch_size,hidden_size])  \n",
    "    output_layer = tf.keras.layers.LSTM(hidden_size, return_sequences=True,dropout=dropout)(input_layer)#, initial_state=[dim, dim])\n",
    "    output_layer2 = tf.keras.layers.TimeDistributed(tf.keras.layers.Dense(1, activation='linear'))(output_layer)    \n",
    "    return tf.keras.models.Model(inputs=input_layer, outputs=output_layer2)\n",
    " \n",
    "def make_GRU(input_shape, hidden_size, dropout):\n",
    "    input_layer = tf.keras.layers.Input(input_shape)\n",
    "    output_layer = tf.keras.layers.GRU(hidden_size, return_sequences=True,dropout=dropout)(input_layer)#, initial_state=[dim, dim])\n",
    "    output_layer2 = tf.keras.layers.TimeDistributed(tf.keras.layers.Dense(1, activation='linear'))(output_layer)    \n",
    "    return tf.keras.models.Model(inputs=input_layer, outputs=output_layer2)\n",
    "\n",
    "def make_modelTKAN(input_shape, hidden_size, dropout):\n",
    "    model = tf.keras.Sequential([\n",
    "          tf.keras.layers.InputLayer(input_shape=input_shape),\n",
    "          TKAN(hidden_size, sub_kan_configs=[{'spline_order':3}], return_sequences=True, use_bias=True, kernel_regularizer=regularizers.L2(dropout),\n",
    "    bias_regularizer=regularizers.L2(dropout), recurrent_regularizer=regularizers.L2(dropout)),\n",
    "          tf.keras.layers.TimeDistributed(tf.keras.layers.Dense(1, activation='linear')),\n",
    "    ])\n",
    "    return model\n",
    "\n",
    "models = {\"LSTM\":make_modelLSTM, \"GRU\": make_GRU, \"TKAN\": make_modelTKAN}\n",
    "\n",
    "for model_name in models:\n",
    "    make_model = models[model_name]\n",
    "    batch_size = 32       \n",
    "\n",
    "    def objective(trial):\n",
    "        lr = trial.suggest_float('lr', 0.0001, 0.01)\n",
    "        hidden_size = trial.suggest_int('hs', 2, 16)\n",
    "\n",
    "        if model_name == \"TKAN\":\n",
    "            do = trial.suggest_float('dropout', 1e-5, 1e-2)\n",
    "            ep = 50\n",
    "        else:    \n",
    "            do = trial.suggest_float('dropout', 0.05, 0.2)\n",
    "            ep = 500\n",
    "            \n",
    "        kf = KFold(n_splits=3)\n",
    "        scores = []\n",
    "        for _, (train_index, test_index) in enumerate(kf.split(X_train)):\n",
    "            model = make_model(input_shape=X_train.shape[1:],hidden_size=hidden_size, dropout = do)\n",
    "        # \n",
    "            opt = tf.keras.optimizers.Adam(learning_rate=lr)\n",
    "            callback = tf.keras.callbacks.EarlyStopping(monitor='loss',\n",
    "                                           patience=5)\n",
    "        \n",
    "            model.compile(\n",
    "                 optimizer=opt,\n",
    "                 loss=\"mean_squared_error\",\n",
    "                 metrics=[\"mean_squared_error\"],\n",
    "            )\n",
    "\n",
    "            history = model.fit(\n",
    "                 X_train[train_index],\n",
    "                 y_train[train_index],\n",
    "                 batch_size=batch_size,\n",
    "                 epochs=ep,\n",
    "                 verbose=0,callbacks=[callback]\n",
    "            )\n",
    "            try:\n",
    "                y_pred = model.predict(X_train[test_index]) #, batch_size=batch_size)\n",
    "                scores.append(mean_squared_error(y_train[test_index].flatten(),y_pred.flatten()))\n",
    "            except Exception as e:\n",
    "                print(e)\n",
    "                scores.append(500)\n",
    "        return np.asarray(scores).mean() \n",
    "        \n",
    "    study = optuna.create_study(direction='minimize')\n",
    "    study.optimize(objective, n_trials=100)    \n",
    "    \n",
    "    lr = study.best_trial.params[\"lr\"]     \n",
    "    hs = study.best_trial.params[\"hs\"]     \n",
    "    do = study.best_trial.params[\"dropout\"]   \n",
    "\n",
    "    model = make_model(input_shape=X_train.shape[1:],hidden_size=hs, dropout = do)\n",
    "# \n",
    "    opt = tf.keras.optimizers.Adam(learning_rate=lr)\n",
    "    callback = tf.keras.callbacks.EarlyStopping(monitor='loss',\n",
    "                                   patience=5)\n",
    "\n",
    "    model.compile(\n",
    "         optimizer=opt,\n",
    "         loss=\"mean_squared_error\",\n",
    "         metrics=[\"mean_squared_error\"],\n",
    "    )\n",
    "\n",
    "    if model_name == \"TKAN\":\n",
    "        ep = 50\n",
    "    else:\n",
    "        ep = 500    \n",
    "    \n",
    "    history = model.fit(\n",
    "         X_train,\n",
    "         y_train,\n",
    "         batch_size=batch_size,\n",
    "         epochs=ep,\n",
    "         verbose=0,callbacks=[callback]\n",
    "    )        \n",
    "    try:\n",
    "        y_pred = model.predict(X_test) #, batch_size=batch_size)\n",
    "        mse_score = mean_squared_error(y_test.flatten(),y_pred.flatten())\n",
    "        mae_score = mean_absolute_error(y_test.flatten(),y_pred.flatten())\n",
    "        printf(model_name,ds_name,mse_score, mae_score, y_test.min(),y_test.max(),fname=\"baseline_output.txt\")     \n",
    "        nn_data.append([model_name,mse_score, mae_score])\n",
    "    except Exception as e:\n",
    "        print(e)\n",
    "    del model\n",
    "\n",
    "\n",
    "\n"
   ]
  },
  {
   "cell_type": "markdown",
   "id": "5014e6d4-d4c0-451a-b3a5-ba36b346d3da",
   "metadata": {},
   "source": [
    "# Build graph dataset"
   ]
  },
  {
   "cell_type": "code",
   "execution_count": 7,
   "id": "5e90a713-9a0c-40aa-9ddb-e5ce5b771588",
   "metadata": {},
   "outputs": [],
   "source": [
    "trade = pd.read_csv(\"trade.csv\",sep=\";\")\n",
    "trade_aggregate = trade[trade[\"refYear\"] > 2010][[\"reporterDesc\",\"partnerDesc\",\"qty\"]].groupby([\"reporterDesc\",\"partnerDesc\"]).mean()[\"qty\"]"
   ]
  },
  {
   "cell_type": "code",
   "execution_count": 8,
   "id": "e5e889bc-90e0-4861-a844-b9f5bca78485",
   "metadata": {},
   "outputs": [],
   "source": [
    "import numpy as np\n",
    "from sklearn.preprocessing import OrdinalEncoder\n",
    "from scipy.sparse import coo_matrix\n",
    "\n",
    "trade_map = []\n",
    "for i,v in trade_aggregate.items():\n",
    "    if i[0].find(\", nes\")==-1 and i[0].find(\"North America\")==-1 and i[0].find(\"World\") == -1 and  i[0].find(\"Union\") == -1 and i[0].find(\"19\") == -1 and i[0].find(\"20\") == -1:\n",
    "        if i[1].find(\", nes\")==-1 and i[1].find(\"North America\")==-1 and i[1].find(\"World\") == -1 and  i[1].find(\"Union\") == -1 and i[1].find(\"19\") == -1 and i[1].find(\"20\") == -1:\n",
    "            trade_map.append([i[0],i[1],v])\n",
    "\n",
    "trade_map = np.asarray(trade_map)\n",
    "\n",
    "le = OrdinalEncoder(handle_unknown='use_encoded_value',\n",
    "                                 unknown_value=-1)\n",
    "\n",
    "le.fit(trade_map[:,:2].reshape(-1,1))\n",
    "row = le.transform(trade_map[:,0].reshape(-1,1)).astype(int).flatten()\n",
    "col = le.transform(trade_map[:,1].reshape(-1,1)).astype(int).flatten()\n",
    "data = trade_map[:,2].astype(float)\n",
    "num_labels = le.categories_[0].shape[0]\n",
    "\n",
    "trade_map_sparse = coo_matrix((data, (row, col)),shape=(num_labels, num_labels)).tolil()\n",
    "\n",
    "for i in range(trade_map_sparse.shape[0]):\n",
    "    for j in range(i,trade_map_sparse.shape[1]):\n",
    "        if i == j:\n",
    "            trade_map_sparse[i,j] = 0.\n",
    "        trade_map_sparse[i,j] = (trade_map_sparse[i,j] + trade_map_sparse[j,i]) / 2\n",
    "        if trade_map_sparse[i,j] < 500000.:\n",
    "            trade_map_sparse[i,j] = 0.\n",
    "        trade_map_sparse[j,i] = trade_map_sparse[i,j]\n",
    "        \n",
    "trade_map_sparse = trade_map_sparse.tocsr()"
   ]
  },
  {
   "cell_type": "code",
   "execution_count": 9,
   "id": "9ac247bc-01d3-4978-b6d1-a0cb0c9bc34a",
   "metadata": {},
   "outputs": [],
   "source": [
    "trade_export = trade[trade[\"flowDesc\"] == \"Export\"][[\"refYear\",\"reporterDesc\",\"partnerDesc\",\"qty\"]]\n",
    "trade_export = trade_export.to_numpy()\n",
    "trade_export = np.hstack([trade_export[:,0].reshape(-1,1),le.transform(trade_export[:,1].reshape(-1,1)).astype(int), le.transform(trade_export[:,2].reshape(-1,1)).astype(int),trade_export[:,3].reshape(-1,1)])"
   ]
  },
  {
   "cell_type": "code",
   "execution_count": 10,
   "id": "e965678e-49a0-46d5-a811-9b80ae42da2b",
   "metadata": {},
   "outputs": [
    {
     "data": {
      "text/plain": [
       "236"
      ]
     },
     "execution_count": 10,
     "metadata": {},
     "output_type": "execute_result"
    }
   ],
   "source": [
    "num_labels"
   ]
  },
  {
   "cell_type": "markdown",
   "id": "270497b6-a682-4a85-88a4-bd037ca07c67",
   "metadata": {},
   "source": [
    "# Do clustering by intence of the trade "
   ]
  },
  {
   "cell_type": "code",
   "execution_count": 11,
   "id": "a2d18f5a-5f33-497f-a13c-2745b698e182",
   "metadata": {},
   "outputs": [],
   "source": [
    "top10 = np.asarray([\"Russian Federation\", \"Australia\", \"USA\", \"Canada\", \"Ukraine\", \"France\", \"Argentina\", \"Germany\", \"Romania\", \"India\"])\n",
    "\n",
    "preference = - np.ones((num_labels,))\n",
    "idx = le.transform(top10.reshape(-1,1)).astype(int).flatten()\n",
    "preference[idx] = 0.\n"
   ]
  },
  {
   "cell_type": "code",
   "execution_count": 12,
   "id": "8b62af42-9bae-4b32-b29a-fe2962123178",
   "metadata": {},
   "outputs": [],
   "source": [
    "from sklearn.cluster import AffinityPropagation\n",
    "\n",
    "model = AffinityPropagation(affinity=\"precomputed\",max_iter=10000,preference = None,damping=0.5)\n",
    "aff_map = trade_map_sparse.toarray()\n",
    "aff_map = np.nan_to_num(aff_map)\n",
    "\n",
    "clustering = model.fit_predict(aff_map)"
   ]
  },
  {
   "cell_type": "code",
   "execution_count": 13,
   "id": "6bc0ba0a-e86c-4bfa-bc33-4360a19f8972",
   "metadata": {},
   "outputs": [
    {
     "data": {
      "text/plain": [
       "array([11, 15,  8,  4,  9,  8, 19, 12, 22,  3, 15,  1,  0, 10, 15,  1,  0,\n",
       "       21, 20, 15,  8, 20, 15,  8, 14, 20,  2,  5, 10, 20, 21,  3,  4, 14,\n",
       "       17,  8, 15,  8,  0,  8, 20, 15, 18, 21, 20,  0, 20,  7, 16, 20, 19,\n",
       "       15, 17, 20,  5,  8, 12,  8, 10,  8, 15, 15, 10, 21, 22, 20, 20, 15,\n",
       "       20,  0, 10, 12, 15, 20,  6, 10, 18,  0, 10,  7,  8, 20,  9,  0,  8,\n",
       "        8, 15, 10, 15,  5, 15,  7, 20, 17, 18, 20, 10,  6, 20, 20,  8, 20,\n",
       "       14, 10, 21,  0, 15,  0,  8, 15,  8, 20, 20, 14, 11, 15,  4,  0, 11,\n",
       "       13, 12, 21, 12, 20, 21, 12,  8, 15, 15,  0,  0,  8, 21,  0, 10,  8,\n",
       "        8, 22, 20, 15,  5, 13,  8, 15,  0,  1, 15, 20, 19,  8,  2,  0,  0,\n",
       "       15,  8, 20,  2,  6,  5, 10, 15, 21, 22, 20,  0,  3, 20, 20, 11, 10,\n",
       "        8, 15, 20, 14, 14, 15, 15, 16, 17,  8, 20,  8, 20, 11, 18, 10,  8,\n",
       "       14, 19, 20,  0, 13, 10,  5,  0, 21, 15, 10,  8, 19, 15, 15, 15, 10,\n",
       "       10,  8, 21, 11,  0, 20,  8, 11, 18, 20, 21, 11,  0,  2, 15, 20, 15,\n",
       "       21, 15, 10, 15, 19,  3, 11, 14, 20,  0, 22,  0,  0,  0, 15])"
      ]
     },
     "execution_count": 13,
     "metadata": {},
     "output_type": "execute_result"
    }
   ],
   "source": [
    "clustering"
   ]
  },
  {
   "cell_type": "code",
   "execution_count": 14,
   "id": "8283b7ca-3504-4a2c-b8c3-eea24653ff51",
   "metadata": {},
   "outputs": [
    {
     "data": {
      "image/png": "[encoded data removed]",
      "text/plain": [
       "<Figure size 640x480 with 1 Axes>"
      ]
     },
     "metadata": {},
     "output_type": "display_data"
    },
    {
     "data": {
      "image/png": "[encoded data removed]",
      "text/plain": [
       "<Figure size 640x480 with 1 Axes>"
      ]
     },
     "metadata": {},
     "output_type": "display_data"
    },
    {
     "data": {
      "image/png": "[encoded data removed]",
      "text/plain": [
       "<Figure size 640x480 with 1 Axes>"
      ]
     },
     "metadata": {},
     "output_type": "display_data"
    },
    {
     "data": {
      "image/png": "[encoded data removed]",
      "text/plain": [
       "<Figure size 640x480 with 1 Axes>"
      ]
     },
     "metadata": {},
     "output_type": "display_data"
    },
    {
     "data": {
      "image/png": "[encoded data removed]",
      "text/plain": [
       "<Figure size 640x480 with 1 Axes>"
      ]
     },
     "metadata": {},
     "output_type": "display_data"
    },
    {
     "data": {
      "image/png": "[encoded data removed]",
      "text/plain": [
       "<Figure size 640x480 with 1 Axes>"
      ]
     },
     "metadata": {},
     "output_type": "display_data"
    },
    {
     "data": {
      "image/png": "[encoded data removed]",
      "text/plain": [
       "<Figure size 640x480 with 1 Axes>"
      ]
     },
     "metadata": {},
     "output_type": "display_data"
    },
    {
     "data": {
      "image/png": "[encoded data removed]",
      "text/plain": [
       "<Figure size 640x480 with 1 Axes>"
      ]
     },
     "metadata": {},
     "output_type": "display_data"
    },
    {
     "data": {
      "image/png": "[encoded data removed]",
      "text/plain": [
       "<Figure size 640x480 with 1 Axes>"
      ]
     },
     "metadata": {},
     "output_type": "display_data"
    },
    {
     "data": {
      "image/png": "[encoded data removed]",
      "text/plain": [
       "<Figure size 640x480 with 1 Axes>"
      ]
     },
     "metadata": {},
     "output_type": "display_data"
    },
    {
     "data": {
      "image/png": "[encoded data removed]",
      "text/plain": [
       "<Figure size 640x480 with 1 Axes>"
      ]
     },
     "metadata": {},
     "output_type": "display_data"
    }
   ],
   "source": [
    "import matplotlib.pyplot as plt\n",
    "import networkx as nx\n",
    "\n",
    "ids, counts = np.unique(clustering, return_counts = True)\n",
    "\n",
    "avg_weight = trade_map_sparse.mean()\n",
    "\n",
    "for i,c in enumerate(ids):\n",
    "    G = nx.Graph()\n",
    "\n",
    "    \n",
    "    for j in range(clustering.shape[0]):\n",
    "        if clustering[j] == c:\n",
    "            #print(c,le.inverse_transform([j])[0])\n",
    "            for k in range(clustering.shape[0]):\n",
    "                if clustering[k] == c:\n",
    "                    if  trade_map_sparse[j,k] > 0.:\n",
    "                        #print(c,le.inverse_transform([j])[0], le.inverse_transform([k])[0], trade_map_sparse[j,k])\n",
    "                        G.add_edge(le.inverse_transform([[j]])[0][0], le.inverse_transform([[k]])[0][0], weight= trade_map_sparse[j,k])\n",
    "                        \n",
    "    elarge = [(u, v) for (u, v, d) in G.edges(data=True) if d[\"weight\"] > avg_weight]\n",
    "    esmall = [(u, v) for (u, v, d) in G.edges(data=True) if d[\"weight\"] <= avg_weight]\n",
    "\n",
    "    if len(elarge + esmall) > 2 and len(elarge) > 0:\n",
    "        layout = nx.spring_layout(G, seed=7,weight=None)\n",
    "        #nx.draw(G, layout)\n",
    "        nx.draw_networkx_nodes(G, layout, node_size=300)\n",
    "    \n",
    "        # edges\n",
    "        nx.draw_networkx_edges(G, layout, edgelist=elarge, width=2,edge_color=\"r\")\n",
    "        nx.draw_networkx_edges(\n",
    "            G, layout, edgelist=esmall, width=1, alpha=0.5, edge_color=\"b\"\n",
    "        )\n",
    "        \n",
    "        # node labels\n",
    "        nx.draw_networkx_labels(G, layout, font_size=8, font_family=\"sans-serif\")\n",
    "        # edge weight labels\n",
    "        #edge_labels = nx.get_edge_attributes(G, \"weight\")\n",
    "        #nx.draw_networkx_edge_labels(G, layout, edge_labels,font_size=6)\n",
    "        plt.show()    \n",
    "\n",
    "    "
   ]
  },
  {
   "cell_type": "code",
   "execution_count": 15,
   "id": "bca87bb7-804d-412b-b99b-15848cf784bf",
   "metadata": {},
   "outputs": [
    {
     "data": {
      "text/plain": [
       "array([[2015, 2, -1, 11000.0],\n",
       "       [2015, 2, 40, 11000.0],\n",
       "       [2015, 9, -1, 4311203960.0],\n",
       "       ...,\n",
       "       [2017, 235, 234, 0.0],\n",
       "       [2018, 235, 234, 0.0],\n",
       "       [2021, 235, 234, 0.0]], dtype=object)"
      ]
     },
     "execution_count": 15,
     "metadata": {},
     "output_type": "execute_result"
    }
   ],
   "source": [
    "trade_export"
   ]
  },
  {
   "cell_type": "code",
   "execution_count": 16,
   "id": "2dc70c50-0273-47e7-8d1f-bcc1fed8d833",
   "metadata": {},
   "outputs": [],
   "source": [
    "years = np.unique(trade_export[:,0])"
   ]
  },
  {
   "cell_type": "code",
   "execution_count": null,
   "id": "4fcf4884-3ba9-4fd1-9dc4-23f54e659a74",
   "metadata": {},
   "outputs": [],
   "source": [
    "years"
   ]
  },
  {
   "cell_type": "code",
   "execution_count": null,
   "id": "0f5ff52a-f082-44ec-97e3-c7099b1557d9",
   "metadata": {},
   "outputs": [],
   "source": []
  },
  {
   "cell_type": "code",
   "execution_count": null,
   "id": "8124fbbf-aaeb-4616-874c-6428b2f5e7f6",
   "metadata": {},
   "outputs": [],
   "source": [
    "from sklearn.preprocessing import LabelEncoder\n",
    "# TODO: fill trade export\n",
    "trade_clusters = []\n",
    "#; un['num_states'] : nb of states, an integer (N)\n",
    "#; un['production'] : tensor of size N, each element is a production value, a float number > 0\n",
    "#; un['export'] : tensor of size N x N, each element is a value of export, a float number > 0\n",
    "#; un['pred_export']\n",
    "\n",
    "for i,c in enumerate(ids):\n",
    "    \n",
    "    for year in years:\n",
    "        countries = {}\n",
    "        export = []\n",
    "        pred_export = []\n",
    "        cle = LabelEncoder()\n",
    "        for j in range(clustering.shape[0]):\n",
    "            if clustering[j] == c:\n",
    "                for k in range(clustering.shape[0]):\n",
    "                    if clustering[k] == c:\n",
    "                        ty = trade_export[trade_export[:,0] == year]\n",
    "                        if len(ty) > 0:\n",
    "                            tyj = ty[ty[:,1] == j]\n",
    "                            if len(tyj) > 0:\n",
    "                                tyjk = tyj[tyj[:,2] == k]\n",
    "                        \n",
    "                                if len(tyjk) > 0:\n",
    "                                    if j not in countries:\n",
    "                                        countries[j] = True\n",
    "                                    if k not in countries:\n",
    "                                        countries[k] = True\n",
    "                                    export.append([j,k,tyjk[0,3]])\n",
    "                                    #TODO fill gaps with ARIMA!!!\n",
    "                                    old = tyjk[0,3]    \n",
    "                                    ty = trade_export[trade_export[:,0] == year + 1]\n",
    "                                    if len(ty) > 0:\n",
    "                                        tyj = ty[ty[:,1] == j]\n",
    "                                        tyjk = tyj[tyj[:,2] == k]\n",
    "                                        if len(tyjk) > 0:\n",
    "                                            pred_export.append([j,k,tyjk[0,3]])\n",
    "                                        else:\n",
    "                                             #TODO replace with ARIMA\n",
    "                                             pred_export.append([j,k,old])\n",
    "                            \n",
    "        cle.fit(list(countries.keys())) \n",
    "        num_states = len(cle.classes_)\n",
    "        export_matrix = np.zeros((num_states,num_states))\n",
    "        pred_export_matrix = np.zeros((num_states,num_states))\n",
    "        for j,k,v in export:\n",
    "            export_matrix[cle.transform([j])[0],cle.transform([k])[0]] = v\n",
    "        for j,k,v in pred_export:\n",
    "            pred_export_matrix[cle.transform([j])[0],cle.transform([k])[0]] = v\n",
    "\n",
    "        if num_states > 3 and len(export) > 0:\n",
    "            pred_export_matrix = pred_export_matrix#.flatten()\n",
    "            #pred_export_matrix = np.hstack([pred_export_matrix,np.zeros((num_labels * num_labels - pred_export_matrix.shape[0]))])   \n",
    "            trade_clusters.append({'year': year,'state_list': list(countries.keys()), 'label_enc': cle,'num_states':num_states,'cluster_id': c,'export':export_matrix, 'pred_export': pred_export_matrix})    \n",
    "        \n",
    "                        "
   ]
  },
  {
   "cell_type": "code",
   "execution_count": null,
   "id": "551a27d2-8c3c-42be-9e99-2997e53f75b7",
   "metadata": {},
   "outputs": [],
   "source": [
    "len(trade_clusters)"
   ]
  },
  {
   "cell_type": "markdown",
   "id": "5263c407-dbbc-4a92-9708-4fb220b9877a",
   "metadata": {},
   "source": [
    "# Load FAO"
   ]
  },
  {
   "cell_type": "code",
   "execution_count": null,
   "id": "49dc0319-70b3-45ee-a35d-8112b1192499",
   "metadata": {},
   "outputs": [],
   "source": [
    "\n",
    "fao = pd.read_csv(\"prod_data/FAOSTAT_data_en_1-28-2025.csv\")[[\"Area\", \"Year\", \"Value\"]].to_numpy()\n",
    "fao = np.hstack([le.transform(fao[:,0].reshape(-1,1)).astype(int),fao[:,1:3]])"
   ]
  },
  {
   "cell_type": "code",
   "execution_count": null,
   "id": "9d753f20-0c81-4188-937f-565960d36f30",
   "metadata": {},
   "outputs": [],
   "source": [
    "for c in trade_clusters:\n",
    "    prod = np.zeros((c['num_states'],))\n",
    "    for country in c['state_list']:\n",
    "        fc = fao[fao[:,0] == country]\n",
    "        if len(fc) > 0:\n",
    "            fcy = fc[fc[:,1] == c['year']]\n",
    "            if len(fcy) > 0:\n",
    "                prod[c['label_enc'].transform([country])[0]] = fcy[0,2]\n",
    "    c['production'] = prod            \n",
    "            "
   ]
  },
  {
   "cell_type": "markdown",
   "id": "e7719c30-e4ef-4cf6-babe-9c82ad5303a2",
   "metadata": {},
   "source": [
    "# Transformer regressor"
   ]
  },
  {
   "cell_type": "code",
   "execution_count": null,
   "id": "75f1a426-ab9a-44a1-a958-96700eec7a25",
   "metadata": {},
   "outputs": [],
   "source": [
    "from layers.graph_transformer_edge_layer import GraphTransformerLayer\n",
    "from layers.mlp_readout_layer import MLPReadout\n",
    "import torch\n",
    "from torch import nn\n",
    "\n",
    "import hashlib\n",
    "\n",
    "import dgl\n",
    "\n",
    "class GraphTransformerNet(nn.Module):\n",
    "    def __init__(self, net_params):\n",
    "        super().__init__()\n",
    "        num_states = net_params['num_states']\n",
    "        num_trade_indicators = net_params['num_trade_indicators']\n",
    "        hidden_dim = net_params['hidden_dim']\n",
    "        num_heads = net_params['n_heads']\n",
    "        out_dim = net_params['out_dim']\n",
    "        in_feat_dropout = net_params['in_feat_dropout']\n",
    "        dropout = net_params['dropout']\n",
    "        n_layers = net_params['L']\n",
    "        self.layer_norm = net_params['layer_norm']\n",
    "        self.batch_norm = net_params['batch_norm']\n",
    "        self.residual = net_params['residual']\n",
    "        self.edge_feat = net_params['edge_feat']\n",
    "        self.device = net_params['device']\n",
    "        self.lap_pos_enc = net_params['lap_pos_enc']\n",
    "        self.wl_pos_enc = net_params['wl_pos_enc']\n",
    "        max_wl_role_index = net_params['max_cluster_size'] # this is maximum graph size in the dataset\n",
    "        self.num_states = num_states\n",
    "        if self.lap_pos_enc:\n",
    "            pos_enc_dim = net_params['pos_enc_dim']\n",
    "            self.embedding_lap_pos_enc = nn.Linear(pos_enc_dim, hidden_dim,dtype=torch.double)\n",
    "        if self.wl_pos_enc:\n",
    "            self.embedding_wl_pos_enc = nn.Embedding(max_wl_role_index, hidden_dim)\n",
    "        \n",
    "        self.embedding_h = nn.Linear(1, hidden_dim,dtype=torch.double)\n",
    "\n",
    "        if self.edge_feat:\n",
    "            #self.embedding_e = nn.Embedding(num_trade_indicators, hidden_dim)\n",
    "            self.embedding_e = nn.Linear(1, hidden_dim,dtype=torch.double)\n",
    "        else:\n",
    "            self.embedding_e = nn.Linear(1, hidden_dim,dtype=torch.double)\n",
    "        \n",
    "        self.in_feat_dropout = nn.Dropout(in_feat_dropout)\n",
    "        \n",
    "        self.layers = nn.ModuleList([ GraphTransformerLayer(hidden_dim, hidden_dim, num_heads, dropout,\n",
    "                                                    self.layer_norm, self.batch_norm, self.residual) for _ in range(n_layers-1) ]) \n",
    "        self.layers.append(GraphTransformerLayer(hidden_dim, hidden_dim, num_heads, dropout, self.layer_norm, self.batch_norm, self.residual))\n",
    "        self.MLP_layer = MLPReadout(hidden_dim, 1)\n",
    "        \n",
    "    def forward(self, g, h, e, h_lap_pos_enc=None, h_wl_pos_enc=None):\n",
    "\n",
    "        # input embedding\n",
    "        h = self.embedding_h(h)\n",
    "        h = self.in_feat_dropout(h)\n",
    "        if self.lap_pos_enc:\n",
    "            h_lap_pos_enc = self.embedding_lap_pos_enc(h_lap_pos_enc.double()) \n",
    "            h = h + h_lap_pos_enc\n",
    "        if self.wl_pos_enc:\n",
    "            h_wl_pos_enc = self.embedding_wl_pos_enc(h_wl_pos_enc) \n",
    "            h = h + h_wl_pos_enc\n",
    "        if not self.edge_feat: # edge feature set to 1\n",
    "            e = torch.ones(e.size(0),1).to(self.device)\n",
    "        e = self.embedding_e(e)  \n",
    "\n",
    "        #print(\"h: \", h.shape)\n",
    "        #print(\"e: \", e.shape)\n",
    "        \n",
    "        # convnets\n",
    "        for conv in self.layers:\n",
    "            h, e = conv(g, h, e)\n",
    "        g.ndata['h'] = h\n",
    "        g.edata['h'] = e\n",
    "        \n",
    "        e = e.reshape((-1,e.shape[1]))\n",
    "        ez = torch.zeros((self.num_states*self.num_states - e.shape[0], e.shape[1]))\n",
    "        e = torch.vstack([e,ez])\n",
    "\n",
    "        #print(\"pre-out dim:\", e.shape)\n",
    "        mlp = self.MLP_layer(e)\n",
    "        return mlp.reshape(1,-1)\n",
    "        \n",
    "        \n",
    "    def loss(self, scores, targets):\n",
    "        loss = nn.MSELoss()(scores,targets)\n",
    "        #loss = nn.L1Loss()(scores, targets)\n",
    "        return loss\n",
    "\n",
    "def train_epoch(model, optimizer, device, data_loader, epoch):\n",
    "    model.train()\n",
    "    epoch_loss = 0\n",
    "    epoch_train_mae = 0\n",
    "    nb_data = 0\n",
    "    gpu_mem = 0\n",
    "    for iter, (batch_graphs, batch_targets) in enumerate(data_loader):\n",
    "        batch_graphs = batch_graphs.to(device)\n",
    "        batch_x = batch_graphs.ndata['feat'].reshape(-1,1).to(device)  # num x feat\n",
    "        batch_e = batch_graphs.edata['feat'].reshape(-1,1).to(device)\n",
    "\n",
    "        batch_targets = batch_targets.edata['feat'].reshape(1,-1)\n",
    "        ez = torch.zeros((1,model.num_states*model.num_states - batch_targets.shape[1]))\n",
    "        batch_targets = torch.hstack([batch_targets,ez])\n",
    "        batch_targets = batch_targets.to(device)\n",
    "        \n",
    "        optimizer.zero_grad()\n",
    "        try:\n",
    "            batch_lap_pos_enc = batch_graphs.ndata['lap_pos_enc'].to(device)\n",
    "            sign_flip = torch.rand(batch_lap_pos_enc.size(1)).to(device)\n",
    "            sign_flip[sign_flip>=0.5] = 1.0; sign_flip[sign_flip<0.5] = -1.0\n",
    "            batch_lap_pos_enc = batch_lap_pos_enc * sign_flip.unsqueeze(0)\n",
    "        except:\n",
    "            batch_lap_pos_enc = None\n",
    "            \n",
    "        try:\n",
    "            batch_wl_pos_enc = batch_graphs.ndata['wl_pos_enc'].to(device)\n",
    "        except:\n",
    "            batch_wl_pos_enc = None\n",
    "\n",
    "        batch_scores = model.forward(batch_graphs, batch_x, batch_e, batch_lap_pos_enc, batch_wl_pos_enc)\n",
    "        loss = model.loss(batch_scores, batch_targets)\n",
    "        loss.backward()\n",
    "        optimizer.step()\n",
    "        epoch_loss += loss.detach().item()\n",
    "        nb_data += batch_targets.size(0)\n",
    "    epoch_loss /= (iter + 1)\n",
    "    \n",
    "    return epoch_loss, optimizer\n",
    "\n",
    "def evaluate_network(model, device, data_loader, epoch):\n",
    "    model.eval()\n",
    "    epoch_test_loss = 0\n",
    "    epoch_test_mae = 0\n",
    "    nb_data = 0\n",
    "    with torch.no_grad():\n",
    "        for iter, (batch_graphs, batch_targets) in enumerate(data_loader):\n",
    "            batch_graphs = batch_graphs.to(device)\n",
    "            batch_x = batch_graphs.ndata['feat'].reshape(-1,1).to(device)\n",
    "            batch_e = batch_graphs.edata['feat'].reshape(-1,1).to(device)\n",
    "            batch_targets = batch_targets.edata['feat'].reshape(1,-1)\n",
    "            ez = torch.zeros((1,model.num_states*model.num_states - batch_targets.shape[1]))\n",
    "            batch_targets = torch.hstack([batch_targets,ez])\n",
    "            batch_targets = batch_targets.to(device)\n",
    "            try:\n",
    "                batch_lap_pos_enc = batch_graphs.ndata['lap_pos_enc'].to(device)\n",
    "            except:\n",
    "                batch_lap_pos_enc = None\n",
    "            \n",
    "            try:\n",
    "                batch_wl_pos_enc = batch_graphs.ndata['wl_pos_enc'].to(device)\n",
    "            except:\n",
    "                batch_wl_pos_enc = None\n",
    "                \n",
    "            batch_scores = model.forward(batch_graphs, batch_x, batch_e, batch_lap_pos_enc, batch_wl_pos_enc)\n",
    "            loss = model.loss(batch_scores, batch_targets)\n",
    "            epoch_test_loss += loss.detach().item()\n",
    "            nb_data += batch_targets.size(0)\n",
    "        epoch_test_loss /= (iter + 1)\n",
    "        \n",
    "    return epoch_test_loss \n",
    "\n"
   ]
  },
  {
   "cell_type": "code",
   "execution_count": null,
   "id": "df295397-f50a-4b0a-bb54-e80726a0cebb",
   "metadata": {},
   "outputs": [],
   "source": [
    "import scipy.sparse as sp\n",
    "\n",
    "def laplacian_positional_encoding(g, pos_enc_dim):\n",
    "    \"\"\"\n",
    "        Graph positional encoding v/ Laplacian eigenvectors\n",
    "    \"\"\"\n",
    "\n",
    "    # Laplacian\n",
    "    A = g.adj_external(scipy_fmt='csr')\n",
    "    N = sp.diags(dgl.backend.asnumpy(g.in_degrees()).clip(1) ** -0.5, dtype=float)\n",
    "    L = sp.eye(g.number_of_nodes()) - N * A * N\n",
    "\n",
    "    # Eigenvectors with numpy\n",
    "    EigVal, EigVec = np.linalg.eig(L.toarray())\n",
    "    idx = EigVal.argsort() # increasing order\n",
    "\n",
    "    pos_enc = torch.from_numpy(EigVec[:,1:pos_enc_dim+1]).double() \n",
    "    if pos_enc.shape[1] < pos_enc_dim:\n",
    "        df = pos_enc_dim - pos_enc.shape[1]\n",
    "        dfz = torch.zeros((pos_enc.shape[0],df))\n",
    "        pos_enc = torch.hstack([pos_enc,dfz])\n",
    "        #print(\"Ext on \", df)\n",
    "    g.ndata['lap_pos_enc'] = pos_enc\n",
    "    \n",
    "    return g\n",
    "\n",
    "def wl_positional_encoding(g):\n",
    "    \"\"\"\n",
    "        WL-based absolute positional embedding \n",
    "        adapted from \n",
    "        \n",
    "        \"Graph-Bert: Only Attention is Needed for Learning Graph Representations\"\n",
    "        Zhang, Jiawei and Zhang, Haopeng and Xia, Congying and Sun, Li, 2020\n",
    "        https://github.com/jwzhanggy/Graph-Bert\n",
    "    \"\"\"\n",
    "    max_iter = 2\n",
    "    node_color_dict = {}\n",
    "    node_neighbor_dict = {}\n",
    "\n",
    "    edge_list = torch.nonzero(g.adj().to_dense() != 0, as_tuple=False).numpy()\n",
    "    node_list = g.nodes().numpy()\n",
    "\n",
    "    # setting init\n",
    "    for node in node_list:\n",
    "        node_color_dict[node] = 1\n",
    "        node_neighbor_dict[node] = {}\n",
    "\n",
    "    for pair in edge_list:\n",
    "        u1, u2 = pair\n",
    "        if u1 not in node_neighbor_dict:\n",
    "            node_neighbor_dict[u1] = {}\n",
    "        if u2 not in node_neighbor_dict:\n",
    "            node_neighbor_dict[u2] = {}\n",
    "        node_neighbor_dict[u1][u2] = 1\n",
    "        node_neighbor_dict[u2][u1] = 1\n",
    "\n",
    "\n",
    "    # WL recursion\n",
    "    iteration_count = 1\n",
    "    exit_flag = False\n",
    "    while not exit_flag:\n",
    "        new_color_dict = {}\n",
    "        for node in node_list:\n",
    "            neighbors = node_neighbor_dict[node]\n",
    "            neighbor_color_list = [node_color_dict[neb] for neb in neighbors]\n",
    "            color_string_list = [str(node_color_dict[node])] + sorted([str(color) for color in neighbor_color_list])\n",
    "            color_string = \"_\".join(color_string_list)\n",
    "            hash_object = hashlib.md5(color_string.encode())\n",
    "            hashing = hash_object.hexdigest()\n",
    "            new_color_dict[node] = hashing\n",
    "        color_index_dict = {k: v+1 for v, k in enumerate(sorted(set(new_color_dict.values())))}\n",
    "        for node in new_color_dict:\n",
    "            new_color_dict[node] = color_index_dict[new_color_dict[node]]\n",
    "        if node_color_dict == new_color_dict or iteration_count == max_iter:\n",
    "            exit_flag = True\n",
    "        else:\n",
    "            node_color_dict = new_color_dict\n",
    "        iteration_count += 1\n",
    "        \n",
    "    g.ndata['wl_pos_enc'] = torch.LongTensor(list(node_color_dict.values()))\n",
    "    return g\n",
    "\n",
    "\n",
    "class TradeDGL(torch.utils.data.Dataset):\n",
    "    def __init__(self, data,device):\n",
    "        self.data = data\n",
    "        self.device = device\n",
    "        self.num_graphs = len(data)\n",
    "                \n",
    "        \"\"\"\n",
    "        data is a list of TradeUnion dict objects with following attributes\n",
    "        \n",
    "          un = data[idx]\n",
    "        ; un['num_states'] : nb of states, an integer (N)\n",
    "        ; un['production'] : tensor of size N, each element is a production value, a float number > 0\n",
    "        ; un['export'] : tensor of size N x N, each element is a value of export, a float number > 0\n",
    "        ; un['pred_export'] : tensor of size N x N, each element is a value of export, a float number > 0\n",
    "        \"\"\"\n",
    "        \n",
    "        self.graph_lists = []\n",
    "        self.graph_labels = []\n",
    "        self.n_samples = len(self.data)\n",
    "        self._prepare()\n",
    "\n",
    "    # form a mini batch from a given list of samples = [(graph, label) pairs]\n",
    "    def collate(self, samples):\n",
    "        # The input samples is a list of pairs (graph, label).\n",
    "        graphs, labels = map(list, zip(*samples))\n",
    "        #print(labels,)\n",
    "        labels = dgl.batch(labels) \n",
    "        batched_graph = dgl.batch(graphs)       \n",
    "        #print(batched_graph)          \n",
    "        return batched_graph, labels\n",
    "    \n",
    "    def _add_laplacian_positional_encodings(self, pos_enc_dim):\n",
    "        \n",
    "        # Graph positional encoding v/ Laplacian eigenvectors\n",
    "        self.graph_lists = [laplacian_positional_encoding(g, pos_enc_dim) for g in self.graph_lists]\n",
    "\n",
    "    def _add_wl_positional_encodings(self):\n",
    "        \n",
    "        # WL positional encoding from Graph-Bert, Zhang et al 2020.\n",
    "        self.graph_lists = [wl_positional_encoding(g) for g in self.graph_lists]\n",
    "    \n",
    "    def _prepare(self):\n",
    "       \n",
    "        for un in self.data:\n",
    "            node_features = torch.from_numpy(un['production']).to(device=self.device)\n",
    "            \n",
    "            adj = torch.from_numpy(un['export']).to(device=self.device)\n",
    "\n",
    "            edge_list = (adj != 0).nonzero()  # converting adj matrix to edge_list\n",
    "            \n",
    "            edge_idxs_in_adj = edge_list.split(1, dim=1)\n",
    "            edge_features = adj[edge_idxs_in_adj].reshape(-1)\n",
    "            \n",
    "            # Create the DGL Graph\n",
    "            g = dgl.DGLGraph()\n",
    "            g.my_id = (un['year'],un[\"cluster_id\"])\n",
    "            g.add_nodes(un['num_states'])\n",
    "            g.ndata['feat'] = node_features\n",
    "            \n",
    "            for src, dst in edge_list:\n",
    "                g.add_edges(src.item(), dst.item())\n",
    "            g.edata['feat'] = edge_features\n",
    "            self.graph_lists.append(g)\n",
    "            \n",
    "            # Create the target DGL Graph\n",
    "            g = dgl.DGLGraph()\n",
    "            g.my_id = (un['year'] + 1,un[\"cluster_id\"])\n",
    "            g.add_nodes(un['num_states'])\n",
    "            g.ndata['feat'] = node_features\n",
    "            adj = torch.from_numpy(un['pred_export']).to(device=self.device)\n",
    "            edge_list = (adj != 0).nonzero()  # converting adj matrix to edge_list\n",
    "            \n",
    "            edge_idxs_in_adj = edge_list.split(1, dim=1)\n",
    "            edge_features = adj[edge_idxs_in_adj].reshape(-1)\n",
    "            \n",
    "            for src, dst in edge_list:\n",
    "                g.add_edges(src.item(), dst.item())\n",
    "  \n",
    "            g.edata['feat'] = edge_features            \n",
    "            self.graph_labels.append(g)\n",
    "        \n",
    "    def __len__(self):\n",
    "        \"\"\"Return the number of graphs in the dataset.\"\"\"\n",
    "        return self.n_samples\n",
    "\n",
    "    def __getitem__(self, idx):\n",
    "        \"\"\"\n",
    "            Get the idx^th sample.\n",
    "            Parameters\n",
    "            ---------\n",
    "            idx : int\n",
    "                The sample index.\n",
    "            Returns\n",
    "            -------\n",
    "            (dgl.DGLGraph, int)\n",
    "                DGLGraph with node feature stored in `feat` field\n",
    "                And its label.\n",
    "        \"\"\"\n",
    "        return self.graph_lists[idx], self.graph_labels[idx]\n"
   ]
  },
  {
   "cell_type": "code",
   "execution_count": null,
   "id": "5ecb5ca3-dfbb-4741-8b78-d5e74e610021",
   "metadata": {},
   "outputs": [],
   "source": [
    "import time\n",
    "from torch import optim\n",
    "from torch.utils.data import DataLoader\n",
    "from tqdm import tqdm\n",
    "\n",
    "max_cluster_size = 0\n",
    "for c in trade_clusters:\n",
    "    if c['num_states'] > max_cluster_size:\n",
    "        max_cluster_size = c['num_states']\n",
    "\n",
    "lap_pos_enc = True\n",
    "wl_pos_enc = True\n",
    "device = \"cpu\"\n",
    "batch_size = 8\n",
    "epochs = 10\n",
    "\n",
    "root_log_dir = \"\"\n",
    "root_ckpt_dir = \"\"\n",
    "write_file_name = \"\"\n",
    "write_config_file = \"\"\n",
    "min_lr = 0.00001\n",
    "\n",
    "net_params = {}\n",
    "net_params['num_states'] = num_labels\n",
    "net_params['num_trade_indicators'] = 1\n",
    "net_params['hidden_dim'] = 4\n",
    "net_params['n_heads'] = 4\n",
    "net_params['out_dim'] = 1\n",
    "net_params['in_feat_dropout'] = True\n",
    "net_params['dropout'] = True\n",
    "net_params['L'] = 4\n",
    "net_params['layer_norm'] = True\n",
    "net_params['batch_norm'] = True\n",
    "net_params['residual'] = True\n",
    "net_params['edge_feat'] = True\n",
    "net_params['device'] = device\n",
    "net_params['lap_pos_enc'] = True\n",
    "net_params['wl_pos_enc'] = True\n",
    "net_params['max_cluster_size'] = max_cluster_size\n",
    "net_params['pos_enc_dim'] = 4\n",
    "\n",
    "dataset = TradeDGL(trade_clusters,device)\n",
    "\n",
    "train_len = int(len(trade_clusters)*0.6)\n",
    "val_len = int(len(trade_clusters)*0.2)\n",
    "test_len = len(trade_clusters) - train_len - val_len\n",
    "\n",
    "if lap_pos_enc:\n",
    "    st = time.time()\n",
    "    print(\"[!] Adding Laplacian positional encoding.\")\n",
    "    dataset._add_laplacian_positional_encodings(net_params['pos_enc_dim'])\n",
    "    print('Time LapPE:',time.time()-st)\n",
    "    \n",
    "if wl_pos_enc:\n",
    "    st = time.time()\n",
    "    print(\"[!] Adding WL positional encoding.\")\n",
    "    dataset._add_wl_positional_encodings()\n",
    "    print('Time WL PE:',time.time()-st)\n",
    "\n",
    "trainset, valset, testset = torch.utils.data.random_split(dataset, [train_len, val_len, test_len])\n",
    "\n",
    "\n",
    "model = GraphTransformerNet(net_params)\n",
    "model = model.to(device)\n",
    "\n",
    "optimizer = optim.Adam(model.parameters(), lr=0.001, weight_decay=0.)\n",
    "scheduler = optim.lr_scheduler.ReduceLROnPlateau(optimizer, mode='min',\n",
    "                                                 factor=0.1,\n",
    "                                                 patience=10,\n",
    "                                                 verbose=True)\n",
    "\n",
    "epoch_train_losses, epoch_val_losses = [], []\n",
    "    \n",
    "\n",
    "train_loader = DataLoader(trainset, batch_size=batch_size, shuffle=True, collate_fn=dataset.collate)\n",
    "val_loader = DataLoader(valset, batch_size=batch_size, shuffle=False, collate_fn=dataset.collate)\n",
    "test_loader = DataLoader(testset, batch_size=batch_size, shuffle=False, collate_fn=dataset.collate)\n",
    "\n",
    "try:\n",
    "    with tqdm(range(epochs)) as t:\n",
    "        for epoch in t:\n",
    "\n",
    "            t.set_description('Epoch %d' % epoch)\n",
    "\n",
    "            start = time.time()\n",
    "\n",
    "            epoch_train_loss, optimizer = train_epoch(model, optimizer, device, train_loader, epoch)\n",
    "                \n",
    "            epoch_val_loss = evaluate_network(model, device, val_loader, epoch)\n",
    "            \n",
    "            epoch_train_losses.append(epoch_train_loss)\n",
    "            epoch_val_losses.append(epoch_val_loss)\n",
    "\n",
    "            # writer.add_scalar('train/_loss', epoch_train_loss, epoch)\n",
    "            # writer.add_scalar('val/_loss', epoch_val_loss, epoch)\n",
    "            # writer.add_scalar('learning_rate', optimizer.param_groups[0]['lr'], epoch)\n",
    "\n",
    "            t.set_postfix(time=time.time()-start, lr=optimizer.param_groups[0]['lr'],\n",
    "                          train_loss=epoch_train_loss, val_loss=epoch_val_loss)\n",
    "\n",
    "            #per_epoch_time.append(time.time()-start)\n",
    "\n",
    "            # Saving checkpoint\n",
    "            ckpt_dir = os.path.join(root_ckpt_dir, \"RUN_\")\n",
    "            if not os.path.exists(ckpt_dir):\n",
    "                os.makedirs(ckpt_dir)\n",
    "            torch.save(model.state_dict(), '{}.pkl'.format(ckpt_dir + \"/epoch_\" + str(epoch)))\n",
    "\n",
    "            # files = glob.glob(ckpt_dir + '/*.pkl')\n",
    "            # for file in files:\n",
    "            #     epoch_nb = file.split('_')[-1]\n",
    "            #     epoch_nb = int(epoch_nb.split('.')[0])\n",
    "            #     if epoch_nb < epoch-1:\n",
    "            #         os.remove(file)\n",
    "\n",
    "            scheduler.step(epoch_val_loss)\n",
    "\n",
    "            if optimizer.param_groups[0]['lr'] < min_lr:\n",
    "                print(\"\\n!! LR EQUAL TO MIN LR SET.\")\n",
    "                break\n",
    "            \n",
    "except KeyboardInterrupt:\n",
    "    print('-' * 89)\n",
    "    print('Exiting from training early because of KeyboardInterrupt')\n",
    "\n",
    "print(\"Convergence Time (Epochs): {:.4f}\".format(epoch))\n",
    "\n",
    "\n",
    "#writer.close()\n",
    "\n",
    "\n"
   ]
  },
  {
   "cell_type": "code",
   "execution_count": null,
   "id": "dfaf15bc-cd36-4092-8e1b-3b499bbbea9c",
   "metadata": {},
   "outputs": [],
   "source": []
  },
  {
   "cell_type": "code",
   "execution_count": null,
   "id": "6dea4502-f118-49ad-b683-6c8064db10f6",
   "metadata": {},
   "outputs": [],
   "source": []
  },
  {
   "cell_type": "code",
   "execution_count": null,
   "id": "f7b45169-a99f-418d-87be-6d73e6ec1eab",
   "metadata": {},
   "outputs": [],
   "source": []
  }
 ],
 "metadata": {
  "kernelspec": {
   "display_name": "Python 3 (ipykernel)",
   "language": "python",
   "name": "python3"
  },
  "language_info": {
   "codemirror_mode": {
    "name": "ipython",
    "version": 3
   },
   "file_extension": ".py",
   "mimetype": "text/x-python",
   "name": "python",
   "nbconvert_exporter": "python",
   "pygments_lexer": "ipython3",
   "version": "3.9.13"
  }
 },
 "nbformat": 4,
 "nbformat_minor": 5
}
